{
 "cells": [
  {
   "cell_type": "code",
   "execution_count": 10,
   "metadata": {
    "collapsed": true
   },
   "outputs": [],
   "source": [
    "import numpy as np\n",
    "import networkx as nx"
   ]
  },
  {
   "cell_type": "code",
   "execution_count": 11,
   "outputs": [
    {
     "ename": "TypeError",
     "evalue": "simulate() missing 1 required positional argument: 'measure_fuction'",
     "output_type": "error",
     "traceback": [
      "\u001B[0;31m---------------------------------------------------------------------------\u001B[0m",
      "\u001B[0;31mTypeError\u001B[0m                                 Traceback (most recent call last)",
      "\u001B[0;32m/var/folders/2h/fb8n9yjj29b27__wb9rw051c0000gn/T/ipykernel_18830/777626139.py\u001B[0m in \u001B[0;36m<module>\u001B[0;34m\u001B[0m\n\u001B[1;32m     71\u001B[0m     \u001B[0;32mpass\u001B[0m\u001B[0;34m\u001B[0m\u001B[0;34m\u001B[0m\u001B[0m\n\u001B[1;32m     72\u001B[0m \u001B[0;34m\u001B[0m\u001B[0m\n\u001B[0;32m---> 73\u001B[0;31m experiment(lambda avg_d:generate_BA(avg_d),lambda avg_d:generate_ER(avg_d),\n\u001B[0m\u001B[1;32m     74\u001B[0m            \u001B[0;32mlambda\u001B[0m \u001B[0mG_A\u001B[0m\u001B[0;34m,\u001B[0m\u001B[0mG_B\u001B[0m\u001B[0;34m:\u001B[0m \u001B[0minterconnect_max_min\u001B[0m\u001B[0;34m(\u001B[0m\u001B[0mG_A\u001B[0m\u001B[0;34m,\u001B[0m \u001B[0mG_B\u001B[0m\u001B[0;34m)\u001B[0m\u001B[0;34m,\u001B[0m\u001B[0;34m\u001B[0m\u001B[0;34m\u001B[0m\u001B[0m\n\u001B[1;32m     75\u001B[0m            lambda G_inter: attack_random_Layer_A(G_inter))\n",
      "\u001B[0;32m/var/folders/2h/fb8n9yjj29b27__wb9rw051c0000gn/T/ipykernel_18830/777626139.py\u001B[0m in \u001B[0;36mexperiment\u001B[0;34m(layer_A_function, layer_B_function, interconnect_function, attack_strategy)\u001B[0m\n\u001B[1;32m     68\u001B[0m     \u001B[0;31m# simulate cascade\u001B[0m\u001B[0;34m\u001B[0m\u001B[0;34m\u001B[0m\u001B[0m\n\u001B[1;32m     69\u001B[0m     \u001B[0;31m# PENDING TBD TODO: inject measure ment function\u001B[0m\u001B[0;34m\u001B[0m\u001B[0;34m\u001B[0m\u001B[0m\n\u001B[0;32m---> 70\u001B[0;31m     \u001B[0msimulate\u001B[0m\u001B[0;34m(\u001B[0m\u001B[0mG\u001B[0m\u001B[0;34m,\u001B[0m \u001B[0mattack_nodes\u001B[0m\u001B[0;34m)\u001B[0m\u001B[0;34m\u001B[0m\u001B[0;34m\u001B[0m\u001B[0m\n\u001B[0m\u001B[1;32m     71\u001B[0m     \u001B[0;32mpass\u001B[0m\u001B[0;34m\u001B[0m\u001B[0;34m\u001B[0m\u001B[0m\n\u001B[1;32m     72\u001B[0m \u001B[0;34m\u001B[0m\u001B[0m\n",
      "\u001B[0;31mTypeError\u001B[0m: simulate() missing 1 required positional argument: 'measure_fuction'"
     ]
    }
   ],
   "source": [
    "### Singe Random Network\n",
    "\n",
    "### network config\n",
    "AVG_DEGREE = 4\n",
    "NUM_NODE = 100\n",
    "NODE_DESTROY_P = 0.5\n",
    "ATTACK_NODE_NUM = 1\n",
    "M_MONTe_CARLO = 100\n",
    "###\n",
    "### with certain average degree\n",
    "##### ER\n",
    "def generate_ER(avg_degree):\n",
    "    pass\n",
    "#### WS\n",
    "def generate_WS(avg_degree):\n",
    "    pass\n",
    "#### BA\n",
    "def generate_BA(avg_degree):\n",
    "    pass\n",
    "\n",
    "### inter-connect\n",
    "### add properties of whether nodes is Layer A or B for further use\n",
    "### return: G\n",
    "####\n",
    "#### e.g. max_max means nodes in layer A with highest degree centralities\n",
    "####         connect to  nodes in layer A with highest degree centralities\n",
    "def interconnect_random(G_layer_A, G_layer_B):\n",
    "    pass\n",
    "def interconnect_max_max(G_layer_A, G_layer_B):\n",
    "    pass\n",
    "def interconnect_max_min(G_layer_A, G_layer_B):\n",
    "    pass\n",
    "def interconnect_min_max(G_layer_A, G_layer_B):\n",
    "    pass\n",
    "def interconnect_min_min(G_layer_A, G_layer_B):\n",
    "    pass\n",
    "###### intersimilarity refers to https://doi.org/10.1103/PhysRevE.88.052805\n",
    "def interconnect_inter_similarity(G_layer_A, G_layer_B):\n",
    "    pass\n",
    "#### simulation\n",
    "def simulate(interdependent_G:nx.Graph, attack_nodes:[], measure_fuction):\n",
    "    pass\n",
    "#### measurement\n",
    "def measurement(current_G):\n",
    "    pass\n",
    "#### attack nodes\n",
    "def attack_random_Layer_A(G_interdependent):\n",
    "    global ATTACK_NODE_NUM\n",
    "    return []\n",
    "def attack_random_Layer_A_B(G_interdependent):\n",
    "    global ATTACK_NODE_NUM\n",
    "    return []\n",
    "def attack_high_degree_centrality_Layer_A(G_interdependent):\n",
    "    return []\n",
    "def attack_high_degree_centrality_Layer_A_B(G_interdependent):\n",
    "    return []\n",
    "##### experiment: Failure cascade\n",
    "def experiment(layer_A_function, layer_B_function, interconnect_function, attack_strategy):\n",
    "    global AVG_DEGREE\n",
    "    # Build interdependent networks\n",
    "    ### construct Layer A\n",
    "    G_A = layer_A_function(AVG_DEGREE)\n",
    "    ### construct Layer B\n",
    "    G_B = layer_B_function(AVG_DEGREE)\n",
    "    ### interconnect\n",
    "    G = interconnect_function(G_A, G_B)\n",
    "\n",
    "    # select nodes to attack\n",
    "    attack_nodes = attack_strategy(G)\n",
    "\n",
    "    # simulate cascade\n",
    "    simulate(G, attack_nodes, lambda curr_G:measurement(curr_G))\n",
    "    pass\n",
    "\n",
    "experiment(lambda avg_d:generate_BA(avg_d),lambda avg_d:generate_ER(avg_d),\n",
    "           lambda G_A,G_B: interconnect_max_min(G_A, G_B),\n",
    "           lambda G_inter: attack_random_Layer_A(G_inter))"
   ],
   "metadata": {
    "collapsed": false,
    "pycharm": {
     "name": "#%%\n"
    }
   }
  },
  {
   "cell_type": "code",
   "execution_count": null,
   "outputs": [],
   "source": [],
   "metadata": {
    "collapsed": false,
    "pycharm": {
     "name": "#%%\n"
    }
   }
  }
 ],
 "metadata": {
  "kernelspec": {
   "display_name": "Python 3",
   "language": "python",
   "name": "python3"
  },
  "language_info": {
   "codemirror_mode": {
    "name": "ipython",
    "version": 2
   },
   "file_extension": ".py",
   "mimetype": "text/x-python",
   "name": "python",
   "nbconvert_exporter": "python",
   "pygments_lexer": "ipython2",
   "version": "2.7.6"
  }
 },
 "nbformat": 4,
 "nbformat_minor": 0
}