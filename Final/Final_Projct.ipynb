{
 "cells": [
  {
   "cell_type": "code",
   "execution_count": 29,
   "metadata": {
    "collapsed": true
   },
   "outputs": [],
   "source": [
    "import numpy as np\n",
    "import networkx as nx"
   ]
  },
  {
   "cell_type": "code",
   "execution_count": 31,
   "outputs": [],
   "source": [
    "### Singe Random Network\n",
    "\n",
    "### network config\n",
    "AVG_DEGREE = 4\n",
    "NUM_NODE = 100\n",
    "NODE_DESTROY_P = 0.5\n",
    "ATTACK_NODE_NUM = 1\n",
    "M_MONTe_CARLO = 100\n",
    "\n",
    "LAYER_A_TAG = \"L_A\"\n",
    "LAYER_B_TAG = \"L_B\"\n",
    "###\n",
    "### with certain average degree\n",
    "##### ER\n",
    "def generate_ER(avg_degree):\n",
    "    p = np.true_divide(avg_degree, NUM_NODE)\n",
    "    return nx.erdos_renyi_graph(NUM_NODE, p)\n",
    "#### WS\n",
    "def generate_WS(avg_degree):\n",
    "    pass\n",
    "#### BA\n",
    "def generate_BA(avg_degree):\n",
    "    pass\n",
    "\n",
    "### inter-connect\n",
    "### add properties of whether nodes is Layer A or B for further use\n",
    "### return: G\n",
    "####\n",
    "#### e.g. max_max means nodes in layer A with highest degree centralities\n",
    "####         connect to  nodes in layer A with highest degree centralities\n",
    "def interconnect_random(G_layer_A, G_layer_B):\n",
    "    pass\n",
    "def interconnect_max_max(G_layer_A, G_layer_B):\n",
    "    pass\n",
    "def interconnect_max_min(G_layer_A, G_layer_B):\n",
    "    pass\n",
    "def interconnect_min_max(G_layer_A, G_layer_B):\n",
    "    pass\n",
    "def interconnect_min_min(G_layer_A, G_layer_B):\n",
    "    pass\n",
    "###### intersimilarity refers to https://doi.org/10.1103/PhysRevE.88.052805\n",
    "###### Layer A node X's neighbours tend to connect to the neighbours of the nodes in Layer B which connects to X\n",
    "def interconnect_inter_similarity(G_layer_A, G_layer_B):\n",
    "    pass\n",
    "#### simulation\n",
    "def simulate(interdependent_G:nx.Graph, attack_nodes:[], measure_fuction):\n",
    "    pass\n",
    "#### measurement\n",
    "def measurement(current_G):\n",
    "    pass\n",
    "#### attack nodes\n",
    "def attack_random_Layer_A(G_interdependent):\n",
    "    global ATTACK_NODE_NUM\n",
    "    return []\n",
    "def attack_random_Layer_A_B(G_interdependent):\n",
    "    global ATTACK_NODE_NUM\n",
    "    return []\n",
    "def attack_high_degree_centrality_Layer_A(G_interdependent):\n",
    "    return []\n",
    "def attack_high_degree_centrality_Layer_A_B(G_interdependent):\n",
    "    return []\n",
    "\n",
    "def set_Layer_tag(G:nx.Graph, tag):\n",
    "    labels = [tag]\n",
    "    nx.set_node_attributes(G, labels, \"layer\")\n",
    "    return G\n",
    "##### experiment: Failure cascade\n",
    "def experiment(layer_A_function, layer_B_function, interconnect_function, attack_strategy):\n",
    "    global AVG_DEGREE\n",
    "    # Build interdependent networks\n",
    "    ### construct Layer A\n",
    "    G_A = layer_A_function(AVG_DEGREE)\n",
    "    set_Layer_tag(G_A, LAYER_A_TAG)\n",
    "    ### construct Layer B\n",
    "    G_B = layer_B_function(AVG_DEGREE)\n",
    "    set_Layer_tag(G_B, LAYER_B_TAG)\n",
    "    ### interconnect\n",
    "    G = interconnect_function(G_A, G_B)\n",
    "\n",
    "    # select nodes to attack\n",
    "    attack_nodes = attack_strategy(G)\n",
    "\n",
    "    # simulate cascade\n",
    "    simulate(G, attack_nodes, lambda curr_G:measurement(curr_G))\n",
    "    pass\n",
    "\n",
    "experiment(lambda avg_d:generate_ER(avg_d),lambda avg_d:generate_ER(avg_d),\n",
    "           lambda G_A,G_B: interconnect_max_min(G_A, G_B),\n",
    "           lambda G_inter: attack_random_Layer_A(G_inter))"
   ],
   "metadata": {
    "collapsed": false,
    "pycharm": {
     "name": "#%%\n"
    }
   }
  },
  {
   "cell_type": "code",
   "execution_count": 30,
   "outputs": [],
   "source": [],
   "metadata": {
    "collapsed": false,
    "pycharm": {
     "name": "#%%\n"
    }
   }
  }
 ],
 "metadata": {
  "kernelspec": {
   "display_name": "Python 3",
   "language": "python",
   "name": "python3"
  },
  "language_info": {
   "codemirror_mode": {
    "name": "ipython",
    "version": 2
   },
   "file_extension": ".py",
   "mimetype": "text/x-python",
   "name": "python",
   "nbconvert_exporter": "python",
   "pygments_lexer": "ipython2",
   "version": "2.7.6"
  }
 },
 "nbformat": 4,
 "nbformat_minor": 0
}