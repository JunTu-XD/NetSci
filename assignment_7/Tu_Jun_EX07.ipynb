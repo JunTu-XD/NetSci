{
 "cells": [
  {
   "cell_type": "code",
   "execution_count": 18,
   "id": "8e001d45",
   "metadata": {},
   "outputs": [],
   "source": [
    "# Jun Tu 21-732-722\n",
    "# Guanda Zhao 21-716-345"
   ]
  },
  {
   "cell_type": "code",
   "execution_count": 19,
   "id": "deab2024",
   "metadata": {},
   "outputs": [],
   "source": [
    "import math\n",
    "import numpy as np\n",
    "import matplotlib.pyplot as plt\n",
    "import networkx as nx\n",
    "import scipy.stats as sts"
   ]
  },
  {
   "cell_type": "code",
   "execution_count": 20,
   "id": "f67e39af",
   "metadata": {},
   "outputs": [
    {
     "name": "stdout",
     "output_type": "stream",
     "text": [
      "Loading is done\n"
     ]
    }
   ],
   "source": [
    "data_base_path = \"Data/\"\n",
    "\n",
    "cormat_1h = np.load(data_base_path + \"cormat_1h.npy\")\n",
    "cormat_1m = np.load(data_base_path + \"cormat_1m.npy\")\n",
    "\n",
    "print(\"Loading is done\")\n",
    "\n",
    "## thread unsafe\n",
    "figure_uni_index=0\n",
    "def new_figure():\n",
    "    global figure_uni_index\n",
    "    figure_uni_index = figure_uni_index + 1\n",
    "    fig = plt.figure(figure_uni_index)\n",
    "    return fig\n"
   ]
  },
  {
   "cell_type": "code",
   "execution_count": 29,
   "id": "8f4745cb",
   "metadata": {},
   "outputs": [],
   "source": [
    "def lambda_min_max(Q):\n",
    "    lambda_min = 1 + 1 / Q - 2 * math.sqrt(1/Q)\n",
    "    lambda_max = 1 + 1 / Q + 2 * math.sqrt(1/Q)\n",
    "    return lambda_min, lambda_max\n",
    "\n",
    "def marcenko_pastur(eigval_arr, Q):\n",
    "    probability = []\n",
    "    lambda_min, lambda_max = lambda_min_max(Q)\n",
    "    print(lambda_min)\n",
    "    print(lambda_max)\n",
    "    for eigval in eigval_arr:\n",
    "        print(\"eigval = \",eigval)\n",
    "        temp1 = lambda_max - eigval\n",
    "        print(\"temp1 = \",temp1)\n",
    "        temp2 = eigval - lambda_min\n",
    "        print('temp2 = ', temp2)\n",
    "        probability.append((Q / (2 * math.pi)) * (math.sqrt((lambda_max - eigval)*(eigval - lambda_min)) / eigval))\n",
    "    probability = np.array(probability)\n",
    "    return probability"
   ]
  },
  {
   "cell_type": "code",
   "execution_count": 30,
   "id": "47a18794",
   "metadata": {},
   "outputs": [
    {
     "name": "stdout",
     "output_type": "stream",
     "text": [
      "0.22567875041002616\n",
      "2.3254524463713677\n",
      "eigval =  31.02783573849152\n",
      "temp1 =  -28.702383292120153\n",
      "temp2 =  30.802156988081496\n"
     ]
    },
    {
     "ename": "ValueError",
     "evalue": "math domain error",
     "output_type": "error",
     "traceback": [
      "\u001b[1;31m---------------------------------------------------------------------------\u001b[0m",
      "\u001b[1;31mValueError\u001b[0m                                Traceback (most recent call last)",
      "\u001b[1;32m<ipython-input-30-60f4ceb4fa95>\u001b[0m in \u001b[0;36m<module>\u001b[1;34m\u001b[0m\n\u001b[0;32m      5\u001b[0m \u001b[0mQ_1m\u001b[0m \u001b[1;33m=\u001b[0m \u001b[1;36m200.8969\u001b[0m\u001b[1;33m\u001b[0m\u001b[1;33m\u001b[0m\u001b[0m\n\u001b[0;32m      6\u001b[0m \u001b[1;33m\u001b[0m\u001b[0m\n\u001b[1;32m----> 7\u001b[1;33m \u001b[0mprobability_1h\u001b[0m \u001b[1;33m=\u001b[0m \u001b[0mmarcenko_pastur\u001b[0m\u001b[1;33m(\u001b[0m\u001b[0meigval_1h\u001b[0m\u001b[1;33m,\u001b[0m \u001b[0mQ_1h\u001b[0m\u001b[1;33m)\u001b[0m\u001b[1;33m\u001b[0m\u001b[1;33m\u001b[0m\u001b[0m\n\u001b[0m\u001b[0;32m      8\u001b[0m \u001b[0mprobability_1m\u001b[0m \u001b[1;33m=\u001b[0m \u001b[0mmarcenko_pastur\u001b[0m\u001b[1;33m(\u001b[0m\u001b[0meigval_1m\u001b[0m\u001b[1;33m,\u001b[0m \u001b[0mQ_1m\u001b[0m\u001b[1;33m)\u001b[0m\u001b[1;33m\u001b[0m\u001b[1;33m\u001b[0m\u001b[0m\n\u001b[0;32m      9\u001b[0m \u001b[0mprint\u001b[0m\u001b[1;33m(\u001b[0m\u001b[0mtype\u001b[0m\u001b[1;33m(\u001b[0m\u001b[0mprobability_1h\u001b[0m\u001b[1;33m)\u001b[0m\u001b[1;33m)\u001b[0m\u001b[1;33m\u001b[0m\u001b[1;33m\u001b[0m\u001b[0m\n",
      "\u001b[1;32m<ipython-input-29-49748ec1bbd3>\u001b[0m in \u001b[0;36mmarcenko_pastur\u001b[1;34m(eigval_arr, Q)\u001b[0m\n\u001b[0;32m     15\u001b[0m         \u001b[0mtemp2\u001b[0m \u001b[1;33m=\u001b[0m \u001b[0meigval\u001b[0m \u001b[1;33m-\u001b[0m \u001b[0mlambda_min\u001b[0m\u001b[1;33m\u001b[0m\u001b[1;33m\u001b[0m\u001b[0m\n\u001b[0;32m     16\u001b[0m         \u001b[0mprint\u001b[0m\u001b[1;33m(\u001b[0m\u001b[1;34m'temp2 = '\u001b[0m\u001b[1;33m,\u001b[0m \u001b[0mtemp2\u001b[0m\u001b[1;33m)\u001b[0m\u001b[1;33m\u001b[0m\u001b[1;33m\u001b[0m\u001b[0m\n\u001b[1;32m---> 17\u001b[1;33m         \u001b[0mprobability\u001b[0m\u001b[1;33m.\u001b[0m\u001b[0mappend\u001b[0m\u001b[1;33m(\u001b[0m\u001b[1;33m(\u001b[0m\u001b[0mQ\u001b[0m \u001b[1;33m/\u001b[0m \u001b[1;33m(\u001b[0m\u001b[1;36m2\u001b[0m \u001b[1;33m*\u001b[0m \u001b[0mmath\u001b[0m\u001b[1;33m.\u001b[0m\u001b[0mpi\u001b[0m\u001b[1;33m)\u001b[0m\u001b[1;33m)\u001b[0m \u001b[1;33m*\u001b[0m \u001b[1;33m(\u001b[0m\u001b[0mmath\u001b[0m\u001b[1;33m.\u001b[0m\u001b[0msqrt\u001b[0m\u001b[1;33m(\u001b[0m\u001b[1;33m(\u001b[0m\u001b[0mlambda_max\u001b[0m \u001b[1;33m-\u001b[0m \u001b[0meigval\u001b[0m\u001b[1;33m)\u001b[0m\u001b[1;33m*\u001b[0m\u001b[1;33m(\u001b[0m\u001b[0meigval\u001b[0m \u001b[1;33m-\u001b[0m \u001b[0mlambda_min\u001b[0m\u001b[1;33m)\u001b[0m\u001b[1;33m)\u001b[0m \u001b[1;33m/\u001b[0m \u001b[0meigval\u001b[0m\u001b[1;33m)\u001b[0m\u001b[1;33m)\u001b[0m\u001b[1;33m\u001b[0m\u001b[1;33m\u001b[0m\u001b[0m\n\u001b[0m\u001b[0;32m     18\u001b[0m     \u001b[0mprobability\u001b[0m \u001b[1;33m=\u001b[0m \u001b[0mnp\u001b[0m\u001b[1;33m.\u001b[0m\u001b[0marray\u001b[0m\u001b[1;33m(\u001b[0m\u001b[0mprobability\u001b[0m\u001b[1;33m)\u001b[0m\u001b[1;33m\u001b[0m\u001b[1;33m\u001b[0m\u001b[0m\n\u001b[0;32m     19\u001b[0m     \u001b[1;32mreturn\u001b[0m \u001b[0mprobability\u001b[0m\u001b[1;33m\u001b[0m\u001b[1;33m\u001b[0m\u001b[0m\n",
      "\u001b[1;31mValueError\u001b[0m: math domain error"
     ]
    }
   ],
   "source": [
    "eigval_1h, eigvec_1h = np.linalg.eig(cormat_1h)\n",
    "eigval_1m, eigvec_1m = np.linalg.eig(cormat_1m)\n",
    "\n",
    "Q_1h = 3.6289\n",
    "Q_1m = 200.8969\n",
    "\n",
    "probability_1h = marcenko_pastur(eigval_1h, Q_1h)\n",
    "probability_1m = marcenko_pastur(eigval_1m, Q_1m)\n",
    "print(type(probability_1h))\n",
    "\n",
    "new_figure()\n",
    "plt.hist(eigval_1h)\n",
    "plt.hist(probability_1h)\n",
    "\n",
    "new_figure()\n",
    "plt.hist(eigval_1m)\n",
    "plt.hist(probability_1m)"
   ]
  },
  {
   "cell_type": "code",
   "execution_count": null,
   "id": "d57aae5f",
   "metadata": {},
   "outputs": [],
   "source": []
  }
 ],
 "metadata": {
  "kernelspec": {
   "display_name": "Python 3",
   "language": "python",
   "name": "python3"
  },
  "language_info": {
   "codemirror_mode": {
    "name": "ipython",
    "version": 3
   },
   "file_extension": ".py",
   "mimetype": "text/x-python",
   "name": "python",
   "nbconvert_exporter": "python",
   "pygments_lexer": "ipython3",
   "version": "3.8.8"
  }
 },
 "nbformat": 4,
 "nbformat_minor": 5
}
