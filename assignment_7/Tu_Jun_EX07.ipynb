{
 "cells": [
  {
   "cell_type": "code",
   "execution_count": 14,
   "id": "8e001d45",
   "metadata": {},
   "outputs": [],
   "source": [
    "# Jun Tu 21-732-722\n",
    "# Guanda Zhao 21-716-345"
   ]
  },
  {
   "cell_type": "code",
   "execution_count": 15,
   "id": "deab2024",
   "metadata": {},
   "outputs": [],
   "source": [
    "import math as m\n",
    "import numpy as np\n",
    "import matplotlib.pyplot as plt\n",
    "import networkx as nx\n",
    "import scipy.stats as sts"
   ]
  },
  {
   "cell_type": "code",
   "execution_count": 16,
   "id": "f67e39af",
   "metadata": {},
   "outputs": [
    {
     "name": "stdout",
     "output_type": "stream",
     "text": [
      "Loading is done\n"
     ]
    }
   ],
   "source": [
    "data_base_path = \"Data/\"\n",
    "data_rnd_base_path = \"Data Random/\"\n",
    "\n",
    "G_terrorists = nx.read_gml(data_base_path + \"graph_terrorists.gml\")\n",
    "G_terrorists_rnd = nx.read_gml(data_rnd_base_path + \"graph_terrorists_random.gml\")\n",
    "G_polblog = nx.read_gml(data_base_path + \"graph_polblog.gml\")\n",
    "G_polblog_rnd = nx.read_gml(data_rnd_base_path + \"graph_polblog_random.gml\")\n",
    "G_jazz = nx.read_gml(data_base_path + \"graph_jazz_collab.gml\")\n",
    "G_jazz_rnd = nx.read_gml(data_rnd_base_path + \"graph_jazz_collab_random.gml\")\n",
    "G_florida = nx.read_graphml(data_base_path + \"Florida_foodweb.graphml\")\n",
    "\n",
    "print(\"Loading is done\")\n",
    "\n",
    "## thread unsafe\n",
    "figure_uni_index=0\n",
    "def new_figure():\n",
    "    global figure_uni_index\n",
    "    figure_uni_index = figure_uni_index + 1\n",
    "    fig = plt.figure(figure_uni_index)\n",
    "    return fig\n"
   ]
  }
 ],
 "metadata": {
  "kernelspec": {
   "display_name": "Python 3",
   "language": "python",
   "name": "python3"
  },
  "language_info": {
   "codemirror_mode": {
    "name": "ipython",
    "version": 3
   },
   "file_extension": ".py",
   "mimetype": "text/x-python",
   "name": "python",
   "nbconvert_exporter": "python",
   "pygments_lexer": "ipython3",
   "version": "3.8.8"
  }
 },
 "nbformat": 4,
 "nbformat_minor": 5
}
