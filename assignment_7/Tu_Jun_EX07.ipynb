{
 "cells": [
  {
   "cell_type": "code",
   "execution_count": 38,
   "id": "8e001d45",
   "metadata": {},
   "outputs": [],
   "source": [
    "# Jun Tu 21-732-722\n",
    "# Guanda Zhao 21-716-345"
   ]
  },
  {
   "cell_type": "code",
   "execution_count": 39,
   "id": "deab2024",
   "metadata": {},
   "outputs": [],
   "source": [
    "import math\n",
    "import numpy as np\n",
    "import matplotlib.pyplot as plt\n",
    "import networkx as nx\n",
    "import scipy.stats as sts"
   ]
  },
  {
   "cell_type": "code",
   "execution_count": 40,
   "id": "f67e39af",
   "metadata": {},
   "outputs": [
    {
     "name": "stdout",
     "output_type": "stream",
     "text": [
      "Loading is done\n"
     ]
    }
   ],
   "source": [
    "data_base_path = \"Data/\"\n",
    "\n",
    "cormat_1h = np.load(data_base_path + \"cormat_1h.npy\")\n",
    "cormat_1m = np.load(data_base_path + \"cormat_1m.npy\")\n",
    "stocknames = np.loadtxt(data_base_path + \"stocknames.txt\", dtype=str)\n",
    "stocknames_dict = {}\n",
    "\n",
    "for i in range(0, len(stocknames)):\n",
    "    stocknames_dict[i] = stocknames[i]\n",
    "\n",
    "print(\"Loading is done\")\n",
    "\n",
    "## thread unsafe\n",
    "figure_uni_index=0\n",
    "def new_figure():\n",
    "    global figure_uni_index\n",
    "    figure_uni_index = figure_uni_index + 1\n",
    "    fig = plt.figure(figure_uni_index)\n",
    "    return fig\n"
   ]
  },
  {
   "cell_type": "code",
   "execution_count": 41,
   "id": "8f4745cb",
   "metadata": {},
   "outputs": [],
   "source": [
    "def lambda_min_max(Q):\n",
    "    lambda_min = 1 + 1 / Q - 2 * math.sqrt(1/Q)\n",
    "    lambda_max = 1 + 1 / Q + 2 * math.sqrt(1/Q)\n",
    "    return lambda_min, lambda_max\n",
    "\n",
    "def marcenko_pastur(Q, lambda_input):\n",
    "    lambda_min, lambda_max = lambda_min_max(Q)\n",
    "    probability = (Q / (2 * math.pi)) * (math.sqrt((lambda_max - lambda_input)*(lambda_input - lambda_min)) / lambda_input)\n",
    "    return probability\n",
    "\n",
    "def replace_noise(eigvals, norm_noise, noise_index):\n",
    "    matrix = np.zeros((eigvals.shape[0], eigvals.shape[0]))\n",
    "    for i in range(0, eigvals.shape[0]):\n",
    "        matrix[i][i] = eigvals[i]\n",
    "    for i in range(len(noise_index)):\n",
    "        nidx = noise_index[i]\n",
    "        matrix[nidx][nidx] = norm_noise[i]\n",
    "    return matrix"
   ]
  },
  {
   "cell_type": "markdown",
   "id": "47a18794",
   "metadata": {
    "pycharm": {
     "name": "#%% md\n"
    }
   },
   "source": [
    "### A07.01"
   ]
  },
  {
   "cell_type": "code",
   "execution_count": 42,
   "id": "4e463b22",
   "metadata": {
    "pycharm": {
     "name": "#%%\n"
    }
   },
   "outputs": [
    {
     "name": "stdout",
     "output_type": "stream",
     "text": [
      "eigenvalues and vectors for 1m matrix\n",
      "[30.15967999  3.06441856  2.69300287  2.01853023  1.87088218  1.61804659\n",
      "  1.5286698   1.44483891  1.3705737   1.21522435  1.20763077  1.18148502\n",
      "  1.13456249  1.12095821  1.09757579  1.04829675  1.02094271  0.07619294\n",
      "  0.11351842  0.99073481  0.95252709  0.94956666  0.13593653  0.92901798\n",
      "  0.9060765   0.89551127  0.17642145  0.18275983  0.87128445  0.85969399\n",
      "  0.84981126  0.22164492  0.24641848  0.8242317   0.79908457  0.805316\n",
      "  0.81074884  0.77242311  0.25038788  0.7496294   0.26942891  0.27694144\n",
      "  0.73472574  0.72888706  0.28200079  0.69964766  0.70444103  0.29220966\n",
      "  0.29358174  0.30151474  0.68103054  0.67564233  0.3163477   0.32930381\n",
      "  0.66727062  0.65497874  0.64891423  0.3384005   0.34501027  0.6430286\n",
      "  0.35174528  0.35579498  0.63541305  0.63714127  0.62493966  0.3615253\n",
      "  0.61306728  0.36626357  0.5971473   0.37664014  0.38565092  0.5802699\n",
      "  0.39680543  0.57634413  0.55863149  0.55703092  0.54810024  0.42448627\n",
      "  0.41284013  0.40708333  0.43184792  0.53750456  0.47343326  0.50706425\n",
      "  0.49770436  0.46372574  0.52075107  0.40522573  0.44800767  0.5248485\n",
      "  0.51211442  0.4531241   0.4419446   0.48091548  0.457907    0.49066646\n",
      "  0.53873119]\n",
      "[[ 0.08440599 -0.03224533 -0.05752947 ... -0.0574191  -0.00433312\n",
      "   0.02806714]\n",
      " [ 0.07438679 -0.04581911  0.04279941 ... -0.1069674  -0.18750145\n",
      "   0.09463877]\n",
      " [ 0.09927998 -0.11948835 -0.04482772 ... -0.12330596  0.0973778\n",
      "   0.07017041]\n",
      " ...\n",
      " [ 0.08811589  0.03596723  0.15586365 ...  0.01115557  0.1120106\n",
      "   0.02112151]\n",
      " [ 0.09942243 -0.02206971  0.20573319 ... -0.08094686  0.11955421\n",
      "  -0.01780655]\n",
      " [ 0.12468711  0.21660525 -0.01770096 ... -0.09784538 -0.05072319\n",
      "   0.08532196]]\n",
      "eigenvalues and vectors for 1h matrix\n",
      "[3.10278357e+01 6.11462818e+00 3.90762710e+00 3.38341207e+00\n",
      " 3.29244496e+00 2.72151599e+00 2.48442167e+00 2.33355883e+00\n",
      " 2.08467102e+00 1.90042517e+00 1.78149180e+00 1.67893845e+00\n",
      " 1.54920798e+00 1.51315768e+00 1.39114035e+00 1.28089150e+00\n",
      " 1.26239606e+00 1.18971931e+00 1.12630673e+00 1.08744639e+00\n",
      " 1.03529794e+00 9.58606917e-01 9.89977946e-01 9.15589513e-01\n",
      " 8.68960156e-01 8.50254263e-01 7.92407534e-01 7.36828468e-01\n",
      " 7.71291141e-01 7.05923023e-01 6.74072270e-01 6.32130296e-01\n",
      " 6.05902486e-01 5.72376717e-01 5.61119174e-01 5.22957580e-01\n",
      " 5.16337739e-01 4.97981478e-01 4.79414479e-01 4.56641482e-01\n",
      " 4.40709127e-01 4.29785965e-01 4.15268348e-01 3.88825844e-01\n",
      " 3.75706258e-01 3.70619833e-01 3.59691965e-01 3.45398785e-01\n",
      " 3.29092969e-01 3.18825500e-01 3.02578385e-01 2.81592137e-01\n",
      " 2.63001216e-01 2.26782708e-01 2.35173856e-01 2.56798749e-01\n",
      " 2.54752222e-01 2.47836340e-01 1.58493466e-02 1.96892329e-02\n",
      " 2.10099146e-01 2.03854554e-01 2.57622802e-02 2.91972826e-02\n",
      " 1.94749478e-01 1.88548786e-01 1.82338210e-01 3.21677301e-02\n",
      " 3.68957940e-02 4.16456926e-02 1.69073210e-01 1.59023369e-01\n",
      " 4.55070230e-02 4.91642964e-02 1.50194843e-01 1.75505136e-01\n",
      " 5.50918821e-02 1.41842409e-01 5.76119043e-02 1.33392731e-01\n",
      " 6.13943451e-02 1.19832467e-01 1.14281071e-01 6.36282229e-02\n",
      " 6.95028245e-02 1.04209380e-01 9.80392019e-02 7.55995438e-02\n",
      " 1.31907427e-01 9.19443558e-02 1.08972701e-01 1.27707895e-01\n",
      " 7.86567981e-02 8.88018408e-02 8.55085014e-02 8.34387978e-02\n",
      " 8.16224969e-02]\n",
      "[[-0.06427784  0.05177606 -0.17503667 ...  0.02522387 -0.02475628\n",
      "  -0.04220006]\n",
      " [-0.09458947  0.01353362  0.00407004 ... -0.03215896 -0.01147265\n",
      "  -0.03628222]\n",
      " [-0.1079792   0.05703387  0.07890501 ... -0.01414166 -0.05327893\n",
      "   0.07073366]\n",
      " ...\n",
      " [-0.0948466  -0.09853794  0.10654993 ...  0.19509721 -0.0057442\n",
      "   0.07444659]\n",
      " [-0.07754473 -0.09253682  0.28288815 ...  0.00876159  0.14000302\n",
      "   0.02987095]\n",
      " [-0.1137606  -0.24491768 -0.03439756 ...  0.24145998 -0.07339507\n",
      "  -0.07153489]]\n"
     ]
    },
    {
     "data": {
      "text/plain": "[<matplotlib.lines.Line2D at 0x7fc98211ad60>]"
     },
     "execution_count": 42,
     "metadata": {},
     "output_type": "execute_result"
    },
    {
     "data": {
      "text/plain": "<Figure size 432x288 with 1 Axes>",
      "image/png": "[encoded data removed]"
     },
     "metadata": {
      "needs_background": "light"
     },
     "output_type": "display_data"
    },
    {
     "data": {
      "text/plain": "<Figure size 432x288 with 1 Axes>",
      "image/png": "[encoded data removed]"
     },
     "metadata": {
      "needs_background": "light"
     },
     "output_type": "display_data"
    }
   ],
   "source": [
    "eigval_1h, eigvec_1h = np.linalg.eig(cormat_1h)\n",
    "eigval_1m, eigvec_1m = np.linalg.eig(cormat_1m)\n",
    "print(\"eigenvalues and vectors for 1m matrix\")\n",
    "print (eigval_1m)\n",
    "print (eigvec_1m)\n",
    "print(\"eigenvalues and vectors for 1h matrix\")\n",
    "print (eigval_1h)\n",
    "print (eigvec_1h)\n",
    "\n",
    "Q_1h = 3.6289\n",
    "Q_1m = 200.8969\n",
    "\n",
    "lambda_min_1h, lambda_max_1h = lambda_min_max(Q_1h)\n",
    "lambda_min_1m, lambda_max_1m = lambda_min_max(Q_1m)\n",
    "\n",
    "x_1h = np.arange(lambda_min_1h, lambda_max_1h, (lambda_max_1h - lambda_min_1h)/200)\n",
    "x_1m = np.arange(lambda_min_1m, lambda_max_1m, (lambda_max_1m - lambda_min_1m)/200)\n",
    "x_1h = np.append(x_1h, lambda_max_1h)\n",
    "x_1m = np.append(x_1m, lambda_max_1m)\n",
    "\n",
    "y_1h = [marcenko_pastur(Q_1h, x) for x in x_1h]\n",
    "y_1m = [marcenko_pastur(Q_1m, x) for x in x_1m]\n",
    "\n",
    "new_figure()\n",
    "plt.xlabel('\\u03BB')\n",
    "plt.ylabel('\\u03C1(\\u03BB)')\n",
    "plt.title('MP law for 1h')\n",
    "plt.hist(eigval_1h, bins=np.linspace(0.0, lambda_max_1h + 2, num=100), density = True)\n",
    "plt.plot(x_1h, y_1h)\n",
    "\n",
    "new_figure()\n",
    "plt.xlabel('\\u03BB')\n",
    "plt.ylabel('\\u03C1(\\u03BB)')\n",
    "plt.title('MP law for 1m')\n",
    "plt.hist(eigval_1m, bins=np.linspace(0.0, lambda_max_1m + 3, num=100), density = True)\n",
    "plt.plot(x_1m, y_1m)"
   ]
  },
  {
   "cell_type": "code",
   "execution_count": 43,
   "id": "d57aae5f",
   "metadata": {},
   "outputs": [
    {
     "name": "stdout",
     "output_type": "stream",
     "text": [
      "denoised_1h:\n",
      " [[1.         0.14692527 0.15940992 ... 0.07201036 0.01421172 0.10200188]\n",
      " [0.14692527 1.         0.33724734 ... 0.15917889 0.11284625 0.18945718]\n",
      " [0.15940992 0.33724734 1.         ... 0.27913275 0.11432449 0.14112075]\n",
      " ...\n",
      " [0.07201036 0.15917889 0.27913275 ... 1.         0.26350568 0.27682449]\n",
      " [0.01421172 0.11284625 0.11432449 ... 0.26350568 1.         0.35824278]\n",
      " [0.10200188 0.18945718 0.14112075 ... 0.27682449 0.35824278 1.        ]]\n",
      "\n",
      "\n",
      "denoised_1m:\n",
      " [[1.         0.12031749 0.19389909 ... 0.16291595 0.19838505 0.20601955]\n",
      " [0.12031749 1.         0.14695473 ... 0.12858604 0.1652078  0.26106404]\n",
      " [0.19389909 0.14695473 1.         ... 0.12086124 0.18929927 0.22079134]\n",
      " ...\n",
      " [0.16291595 0.12858604 0.12086124 ... 1.         0.19520453 0.23550205]\n",
      " [0.19838505 0.1652078  0.18929927 ... 0.19520453 1.         0.26607777]\n",
      " [0.20601955 0.26106404 0.22079134 ... 0.23550205 0.26607777 1.        ]]\n"
     ]
    }
   ],
   "source": [
    "noise_1h = []\n",
    "noise_1m = []\n",
    "\n",
    "noise_1h_idx=[]\n",
    "for eigval_idx in range(len(eigval_1h)):\n",
    "    eigval = eigval_1h[eigval_idx]\n",
    "    if (eigval < lambda_max_1h):\n",
    "        noise_1h.append(eigval)\n",
    "        noise_1h_idx.append(eigval_idx)\n",
    "\n",
    "noise_1m_idx=[]\n",
    "for eigval_idx in range(len(eigval_1m)):\n",
    "    eigval = eigval_1m[eigval_idx]\n",
    "    if (eigval < lambda_max_1m):\n",
    "        noise_1m.append(eigval)\n",
    "        noise_1m_idx.append(eigval_idx)\n",
    "\n",
    "norm_noise_1h = [lambda_i / sum(noise_1h) * len(noise_1h) for lambda_i in noise_1h]\n",
    "norm_noise_1m = [lambda_i / sum(noise_1m) * len(noise_1m) for lambda_i in noise_1m]\n",
    "\n",
    "diagonal_1h = replace_noise(eigval_1h, norm_noise_1h, noise_1h_idx)\n",
    "diagonal_1m = replace_noise(eigval_1m, norm_noise_1m, noise_1m_idx)\n",
    "\n",
    "denoised_1h = eigvec_1h.dot(diagonal_1h).dot(np.linalg.inv(eigvec_1h))\n",
    "denoised_1m = eigvec_1m.dot(diagonal_1m).dot(np.linalg.inv(eigvec_1m))\n",
    "\n",
    "D_1h = np.zeros(denoised_1h.shape)\n",
    "D_1m = np.zeros(denoised_1m.shape)\n",
    "\n",
    "for i in range(0, denoised_1h.shape[0]):\n",
    "    D_1h[i][i] = 1 / math.sqrt(denoised_1h[i][i])\n",
    "    \n",
    "for i in range(0, denoised_1m.shape[0]):\n",
    "    D_1m[i][i] = 1 / math.sqrt(denoised_1m[i][i])\n",
    "\n",
    "denoised_1h = D_1h.dot(denoised_1h).dot(D_1h)\n",
    "denoised_1m = D_1m.dot(denoised_1m).dot(D_1m)\n",
    "\n",
    "print('denoised_1h:\\n', denoised_1h)\n",
    "print('\\n')\n",
    "print('denoised_1m:\\n', denoised_1m)"
   ]
  },
  {
   "cell_type": "markdown",
   "id": "3498f7a6",
   "metadata": {
    "pycharm": {
     "name": "#%% md\n"
    }
   },
   "source": [
    "### A07.02\n",
    "#### Scatterplot of the 1 hour vs 1 minute denoisedcorrelations"
   ]
  },
  {
   "cell_type": "code",
   "execution_count": 44,
   "id": "28fe994e",
   "metadata": {
    "scrolled": true
   },
   "outputs": [
    {
     "data": {
      "text/plain": "<matplotlib.collections.PathCollection at 0x7fc9822f1310>"
     },
     "execution_count": 44,
     "metadata": {},
     "output_type": "execute_result"
    },
    {
     "data": {
      "text/plain": "<Figure size 432x288 with 1 Axes>",
      "image/png": "[encoded data removed]"
     },
     "metadata": {
      "needs_background": "light"
     },
     "output_type": "display_data"
    }
   ],
   "source": [
    "D_1h = np.zeros(cormat_1h.shape)\n",
    "D_1m = np.zeros(cormat_1m.shape)\n",
    "\n",
    "for i in range(0, cormat_1h.shape[0]):\n",
    "    for j in range(0, cormat_1h.shape[1]):\n",
    "        D_1h[i][j] = math.sqrt(2 * (round(1.0,14) - round(denoised_1h[i][j],14)))\n",
    "\n",
    "for i in range(0, cormat_1m.shape[0]):\n",
    "    for j in range(0, cormat_1m.shape[1]):\n",
    "        D_1m[i][j] = math.sqrt(2 * (round(1.0,14) - round(denoised_1m[i][j],14)))\n",
    "        \n",
    "new_figure()\n",
    "D_1h_utri_flatten=np.triu(D_1h, 0).flatten()\n",
    "D_1m_utri_flatten=np.triu(D_1m, 0).flatten()\n",
    "dc_x = np.delete(D_1h_utri_flatten, np.where(D_1h_utri_flatten==0))\n",
    "dc_y = np.delete(D_1m_utri_flatten, np.where(D_1m_utri_flatten==0))\n",
    "plt.xlabel('1h')\n",
    "plt.ylabel('1m')\n",
    "plt.title('1 hour vs 1 minute denoised correlations')\n",
    "plt.scatter(x = dc_x, y = dc_y)"
   ]
  },
  {
   "cell_type": "code",
   "execution_count": 45,
   "id": "44ee6a1d",
   "metadata": {
    "pycharm": {
     "name": "#%%\n"
    }
   },
   "outputs": [],
   "source": [
    "G_1h = nx.from_numpy_matrix(D_1h)\n",
    "G_1m = nx.from_numpy_matrix(D_1m)\n",
    "nx.set_node_attributes(G_1h, stocknames_dict, 'ticker')\n",
    "nx.set_node_attributes(G_1m, stocknames_dict, 'ticker')\n",
    "\n",
    "MST_1h = nx.minimum_spanning_tree(G_1h)\n",
    "MST_1m = nx.minimum_spanning_tree(G_1m)\n",
    "\n",
    "degrees_1h = []\n",
    "degrees_1m = []\n",
    "\n",
    "MST_1h_degrees = MST_1h.degree()\n",
    "MST_1m_degrees = MST_1m.degree()\n",
    "for i in range (0, len(stocknames)):\n",
    "    degrees_1h.append(MST_1h_degrees[i])\n",
    "    degrees_1m.append(MST_1m_degrees[i])"
   ]
  },
  {
   "cell_type": "markdown",
   "id": "c2a00853",
   "metadata": {},
   "source": [
    "#### MST for 1 h"
   ]
  },
  {
   "cell_type": "code",
   "execution_count": 46,
   "id": "d32b6160",
   "metadata": {
    "pycharm": {
     "name": "#%%\n"
    }
   },
   "outputs": [
    {
     "data": {
      "text/plain": "<Figure size 432x288 with 1 Axes>",
      "image/png": "[encoded data removed]"
     },
     "metadata": {},
     "output_type": "display_data"
    }
   ],
   "source": [
    "new_figure()\n",
    "plt.title(\"MST for 1 h\")\n",
    "nx.draw(MST_1h, node_size=50)"
   ]
  },
  {
   "cell_type": "markdown",
   "id": "ef78b8ab",
   "metadata": {},
   "source": [
    "#### MST for 1 m"
   ]
  },
  {
   "cell_type": "code",
   "execution_count": 47,
   "id": "8ad2c010",
   "metadata": {
    "pycharm": {
     "name": "#%%\n"
    }
   },
   "outputs": [
    {
     "data": {
      "text/plain": "<Figure size 432x288 with 1 Axes>",
      "image/png": "[encoded data removed]"
     },
     "metadata": {},
     "output_type": "display_data"
    }
   ],
   "source": [
    "new_figure()\n",
    "plt.title(\"MST for 1 min\")\n",
    "nx.draw(MST_1m, node_size=50)"
   ]
  },
  {
   "cell_type": "markdown",
   "id": "a0ea123b",
   "metadata": {},
   "source": [
    "#### Scatterplot of the 1 hour vs 1 minute MST degrees"
   ]
  },
  {
   "cell_type": "code",
   "execution_count": 48,
   "id": "0b1b40aa",
   "metadata": {
    "pycharm": {
     "name": "#%%\n"
    }
   },
   "outputs": [
    {
     "data": {
      "text/plain": "<matplotlib.collections.PathCollection at 0x7fc982731190>"
     },
     "execution_count": 48,
     "metadata": {},
     "output_type": "execute_result"
    },
    {
     "data": {
      "text/plain": "<Figure size 432x288 with 1 Axes>",
      "image/png": "[encoded data removed]"
     },
     "metadata": {
      "needs_background": "light"
     },
     "output_type": "display_data"
    }
   ],
   "source": [
    "new_figure()\n",
    "plt.title('1 hour vs 1 minute MST degrees of stocks')\n",
    "plt.xlabel('1h')\n",
    "plt.ylabel('1min')\n",
    "plt.scatter(x = degrees_1h, y = degrees_1m)"
   ]
  },
  {
   "cell_type": "markdown",
   "id": "ae9510ed",
   "metadata": {
    "pycharm": {
     "name": "#%% md\n"
    }
   },
   "source": [
    "#### A07.3\n",
    "1. There are market modes for both 1h and 1min, Respectively at λ = 31.03 and 30.16.\n",
    "2. AXP. AXP has the largest correlation to the market。\n",
    "3. 5 stocks with highest degree on the MST for 1h:  ['DIS', 'HON', 'DVN', 'GD', 'GS']\n",
    "   5 stocks with highest degree on the MST for 1m:  ['HON', 'EMR', 'JPM', 'COP', 'DIS']\n",
    "4. Qualitatively similar. See below histgrams, the amounts of low degree and the trends are almost the same."
   ]
  },
  {
   "cell_type": "code",
   "execution_count": 49,
   "id": "076485dc",
   "metadata": {},
   "outputs": [
    {
     "name": "stdout",
     "output_type": "stream",
     "text": [
      "max eigenvalue - 1h:31.02783573849152\n",
      "max eigenvalue - 1m:30.15967998949906\n"
     ]
    }
   ],
   "source": [
    "print(\"max eigenvalue - 1h:\" + str(np.max(eigval_1h)))\n",
    "print(\"max eigenvalue - 1m:\" + str(np.max(eigval_1m)))"
   ]
  },
  {
   "cell_type": "code",
   "execution_count": 50,
   "outputs": [
    {
     "name": "stdout",
     "output_type": "stream",
     "text": [
      "Stock with max correlation to market node:AXP\n"
     ]
    }
   ],
   "source": [
    "max_eigenvec_h = eigvec_1m[np.argmax(eigval_1h)]\n",
    "max_eigenvec_m = eigvec_1m[np.argmax(eigval_1m)]\n",
    "max_cor_idx_h = np.argmax(np.absolute(max_eigenvec_h))\n",
    "max_cor_idx_m = np.argmax(np.absolute(max_eigenvec_m))\n",
    "print(\"Stock with max correlation to market node:\" + G_1h.nodes[max_cor_idx_h]['ticker'])"
   ],
   "metadata": {
    "collapsed": false,
    "pycharm": {
     "name": "#%%\n"
    }
   }
  },
  {
   "cell_type": "code",
   "execution_count": 51,
   "outputs": [
    {
     "name": "stdout",
     "output_type": "stream",
     "text": [
      "5 stocks with highest degree on the MST for 1h:  ['DIS', 'HON', 'DVN', 'GD', 'GS']\n",
      "5 stocks with highest degree on the MST for 1m:  ['HON', 'EMR', 'JPM', 'COP', 'DIS']\n"
     ]
    }
   ],
   "source": [
    "top5_degree_1h = sorted(MST_1h_degrees, key=lambda x: x[1], reverse = True)[0:5]\n",
    "top5_degree_1m = sorted(MST_1m_degrees, key=lambda x: x[1], reverse = True)[0:5]\n",
    "\n",
    "top5_degree_name_1h = []\n",
    "top5_degree_name_1m = []\n",
    "\n",
    "for i in range (0, 5):\n",
    "    top5_degree_name_1h.append(nx.get_node_attributes(MST_1h, 'ticker')[top5_degree_1h[i][0]])\n",
    "    top5_degree_name_1m.append(nx.get_node_attributes(MST_1m, 'ticker')[top5_degree_1m[i][0]])\n",
    "\n",
    "print(\"5 stocks with highest degree on the MST for 1h: \",top5_degree_name_1h)\n",
    "print(\"5 stocks with highest degree on the MST for 1m: \",top5_degree_name_1m)\n"
   ],
   "metadata": {
    "collapsed": false,
    "pycharm": {
     "name": "#%%\n"
    }
   }
  },
  {
   "cell_type": "code",
   "execution_count": 52,
   "id": "66640a66",
   "metadata": {},
   "outputs": [
    {
     "data": {
      "text/plain": "<Figure size 432x288 with 1 Axes>",
      "image/png": "[encoded data removed]"
     },
     "metadata": {
      "needs_background": "light"
     },
     "output_type": "display_data"
    },
    {
     "data": {
      "text/plain": "<Figure size 432x288 with 1 Axes>",
      "image/png": "[encoded data removed]"
     },
     "metadata": {
      "needs_background": "light"
     },
     "output_type": "display_data"
    }
   ],
   "source": [
    "new_figure()\n",
    "plt.title(\"Degree Distributuon of MST for 1h\")\n",
    "plt.xlabel(\"Degree\")\n",
    "plt.hist(degrees_1h, bins=np.linspace(0,30,30))\n",
    "plt.show()\n",
    "\n",
    "new_figure()\n",
    "plt.title(\"Degree Distributuon of MST for 1m\")\n",
    "plt.xlabel(\"Degree\")\n",
    "plt.hist(degrees_1m, bins=np.linspace(0,30,30))\n",
    "plt.show()"
   ]
  },
  {
   "cell_type": "code",
   "execution_count": 52,
   "outputs": [],
   "source": [],
   "metadata": {
    "collapsed": false,
    "pycharm": {
     "name": "#%%\n"
    }
   }
  }
 ],
 "metadata": {
  "kernelspec": {
   "display_name": "Python 3",
   "language": "python",
   "name": "python3"
  },
  "language_info": {
   "codemirror_mode": {
    "name": "ipython",
    "version": 3
   },
   "file_extension": ".py",
   "mimetype": "text/x-python",
   "name": "python",
   "nbconvert_exporter": "python",
   "pygments_lexer": "ipython3",
   "version": "3.8.8"
  }
 },
 "nbformat": 4,
 "nbformat_minor": 5
}