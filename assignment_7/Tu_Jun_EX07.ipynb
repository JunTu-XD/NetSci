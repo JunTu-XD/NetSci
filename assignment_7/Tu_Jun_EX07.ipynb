{
 "cells": [
  {
   "cell_type": "code",
   "execution_count": 1,
   "id": "8e001d45",
   "metadata": {},
   "outputs": [],
   "source": [
    "# Jun Tu 21-732-722\n",
    "# Guanda Zhao 21-716-345"
   ]
  },
  {
   "cell_type": "code",
   "execution_count": 2,
   "id": "deab2024",
   "metadata": {},
   "outputs": [],
   "source": [
    "import math\n",
    "import numpy as np\n",
    "import matplotlib.pyplot as plt\n",
    "import networkx as nx\n",
    "import scipy.stats as sts"
   ]
  },
  {
   "cell_type": "code",
   "execution_count": 3,
   "id": "f67e39af",
   "metadata": {},
   "outputs": [
    {
     "name": "stdout",
     "output_type": "stream",
     "text": [
      "Loading is done\n"
     ]
    }
   ],
   "source": [
    "data_base_path = \"Data/\"\n",
    "\n",
    "cormat_1h = np.load(data_base_path + \"cormat_1h.npy\")\n",
    "cormat_1m = np.load(data_base_path + \"cormat_1m.npy\")\n",
    "\n",
    "print(\"Loading is done\")\n",
    "\n",
    "## thread unsafe\n",
    "figure_uni_index=0\n",
    "def new_figure():\n",
    "    global figure_uni_index\n",
    "    figure_uni_index = figure_uni_index + 1\n",
    "    fig = plt.figure(figure_uni_index)\n",
    "    return fig\n"
   ]
  },
  {
   "cell_type": "code",
   "execution_count": 65,
   "id": "8f4745cb",
   "metadata": {},
   "outputs": [],
   "source": [
    "def lambda_min_max(Q):\n",
    "    lambda_min = 1 + 1 / Q - 2 * math.sqrt(1/Q)\n",
    "    lambda_max = 1 + 1 / Q + 2 * math.sqrt(1/Q)\n",
    "    return lambda_min, lambda_max\n",
    "\n",
    "def marcenko_pastur(Q, lambda_input):\n",
    "    lambda_min, lambda_max = lambda_min_max(Q)\n",
    "    probability = (Q / (2 * math.pi)) * (math.sqrt((lambda_max - lambda_input)*(lambda_input - lambda_min)) / lambda_input)\n",
    "    return probability\n",
    "\n",
    "def replace_noise(eigvals, noise, lambda_max):\n",
    "    count = 0\n",
    "    while count < len(noise):\n",
    "        for eigval in eigvals:\n",
    "            if (eigval < lambda_max):\n",
    "                eigval = noise[count]\n",
    "                count += 1  \n",
    "    return eigvals"
   ]
  },
  {
   "cell_type": "code",
   "execution_count": 66,
   "id": "47a18794",
   "metadata": {},
   "outputs": [
    {
     "data": {
      "text/plain": [
       "Text(0.5, 1.0, 'MP law for 1m')"
      ]
     },
     "execution_count": 66,
     "metadata": {},
     "output_type": "execute_result"
    },
    {
     "data": {
      "image/png": "[encoded data removed]",
      "text/plain": [
       "<Figure size 432x288 with 1 Axes>"
      ]
     },
     "metadata": {
      "needs_background": "light"
     },
     "output_type": "display_data"
    },
    {
     "data": {
      "image/png": "[encoded data removed]",
      "text/plain": [
       "<Figure size 432x288 with 1 Axes>"
      ]
     },
     "metadata": {
      "needs_background": "light"
     },
     "output_type": "display_data"
    }
   ],
   "source": [
    "eigval_1h, eigvec_1h = np.linalg.eig(cormat_1h)\n",
    "eigval_1m, eigvec_1m = np.linalg.eig(cormat_1m)\n",
    "\n",
    "Q_1h = 3.6289\n",
    "Q_1m = 200.8969\n",
    "\n",
    "lambda_min_1h, lambda_max_1h = lambda_min_max(Q_1h)\n",
    "lambda_min_1m, lambda_max_1m = lambda_min_max(Q_1m)\n",
    "\n",
    "x_1h = np.arange(lambda_min_1h, lambda_max_1h, (lambda_max_1h - lambda_min_1h)/200)\n",
    "x_1m = np.arange(lambda_min_1m, lambda_max_1m, (lambda_max_1m - lambda_min_1m)/200)\n",
    "x_1h = np.append(x_1h, lambda_max_1h)\n",
    "x_1m = np.append(x_1m, lambda_max_1m)\n",
    "\n",
    "y_1h = [marcenko_pastur(Q_1h, x) for x in x_1h]\n",
    "y_1m = [marcenko_pastur(Q_1m, x) for x in x_1m]\n",
    "\n",
    "new_figure()\n",
    "plt.hist(eigval_1h, range = (lambda_min_1h, lambda_max_1h), density = True)\n",
    "plt.plot(x_1h, y_1h)\n",
    "plt.xlabel('\\u03BB')\n",
    "plt.ylabel('\\u03C1(\\u03BB)')\n",
    "plt.title('MP law for 1h')\n",
    "\n",
    "new_figure()\n",
    "plt.hist(eigval_1m, range = (lambda_min_1m, lambda_max_1m), density = True)\n",
    "plt.plot(x_1m, y_1m)\n",
    "plt.xlabel('\\u03BB')\n",
    "plt.ylabel('\\u03C1(\\u03BB)')\n",
    "plt.title('MP law for 1m')"
   ]
  },
  {
   "cell_type": "code",
   "execution_count": 73,
   "id": "d57aae5f",
   "metadata": {},
   "outputs": [
    {
     "name": "stdout",
     "output_type": "stream",
     "text": [
      "denoised_1h:\n",
      " [2.98713225e+04 2.28617863e+02 5.96677055e+01 3.87315328e+01\n",
      " 3.56907417e+01 2.01573144e+01 1.53347226e+01 1.27073873e+01\n",
      " 9.05967434e+00 6.86360561e+00 5.65394379e+00 4.73264931e+00\n",
      " 3.71816946e+00 3.46459565e+00 2.69223422e+00 2.10153695e+00\n",
      " 2.01180969e+00 1.68396685e+00 1.42879538e+00 1.28594847e+00\n",
      " 1.10967562e+00 8.80889990e-01 9.70234157e-01 7.67542494e-01\n",
      " 6.56144648e-01 6.14676280e-01 4.97560377e-01 4.58833406e-01\n",
      " 4.00036105e-01 3.51780725e-01 3.06280527e-01 2.52592130e-01\n",
      " 2.22437602e-01 1.87519259e-01 1.76671024e-01 1.43020861e-01\n",
      " 1.37658048e-01 1.23492212e-01 1.10187781e-01 9.52195409e-02\n",
      " 8.55965253e-02 7.93883339e-02 7.16121133e-02 5.87848439e-02\n",
      " 5.30328891e-02 5.09079920e-02 4.65363384e-02 4.12061858e-02\n",
      " 3.56414866e-02 3.24085163e-02 2.77021643e-02 2.23286040e-02\n",
      " 1.81916993e-02 1.69347469e-02 1.65330867e-02 1.52228147e-02\n",
      " 1.30066999e-02 1.16635246e-02 3.98138421e-06 7.63284402e-06\n",
      " 9.27412323e-03 8.47151834e-03 1.70982986e-05 2.48901378e-05\n",
      " 7.38633341e-03 6.70303095e-03 3.32859725e-05 6.06223906e-03\n",
      " 5.02262301e-05 7.22287780e-05 4.83308458e-03 4.02145161e-03\n",
      " 9.42400001e-05 1.18836399e-04 3.38816896e-03 5.40591847e-03\n",
      " 1.67210224e-04 2.85376557e-03 1.91221487e-04 2.37353966e-03\n",
      " 2.31411594e-04 1.72077268e-03 1.49252943e-03 2.57602089e-04\n",
      " 3.35743306e-04 1.13167165e-03 9.42321937e-04 4.32073394e-04\n",
      " 2.29513242e-03 7.77275937e-04 1.29405624e-03 2.08282719e-03\n",
      " 4.86641107e-04 6.25212835e-04 7.00270618e-04 5.80903661e-04\n",
      " 5.43788010e-04]\n",
      "\n",
      "\n",
      "denoised_1m:\n",
      " [2.74334348e+04 2.87769162e+01 1.95303689e+01 8.22442932e+00\n",
      " 6.54846203e+00 4.23616697e+00 3.57224351e+00 3.01618719e+00\n",
      " 2.57458466e+00 1.79460712e+00 1.76117502e+00 1.64924304e+00\n",
      " 1.46044518e+00 1.40853702e+00 1.32221949e+00 1.15200064e+00\n",
      " 1.06415309e+00 4.42327682e-04 1.46284739e-03 9.72461162e-01\n",
      " 8.64235303e-01 8.56202265e-01 2.51193598e-03 8.01811655e-01\n",
      " 7.43865808e-01 7.18146692e-01 5.49103419e-03 6.10438986e-03\n",
      " 6.61423920e-01 6.35377256e-01 6.13715993e-01 1.08886324e-02\n",
      " 1.49630402e-02 5.59948320e-01 5.10244381e-01 5.22274693e-01\n",
      " 5.32916311e-01 4.60856568e-01 1.56978408e-02 4.21249927e-01\n",
      " 1.95583667e-02 3.96621055e-01 3.87240454e-01 2.12404566e-02\n",
      " 3.42482319e-01 3.49569817e-01 2.24259575e-02 2.49507565e-02\n",
      " 2.53038809e-02 2.74110492e-02 3.15863726e-01 3.08425698e-01\n",
      " 3.16587706e-02 3.57100345e-02 2.97102296e-01 2.80984011e-01\n",
      " 2.73251081e-01 3.87518992e-02 4.10672906e-02 2.65883185e-01\n",
      " 4.35195939e-02 4.50401098e-02 2.56547853e-01 2.58646855e-01\n",
      " 2.44069923e-01 4.72515547e-02 2.30422252e-01 4.91338911e-02\n",
      " 2.12933706e-01 5.34293397e-02 5.73565604e-02 6.24788197e-02\n",
      " 1.95384510e-01 1.91445701e-01 1.74331653e-01 1.72837474e-01\n",
      " 1.64656920e-01 7.64875816e-02 7.03632195e-02 6.74605626e-02\n",
      " 8.05364537e-02 1.55291062e-01 1.06114883e-01 1.30373398e-01\n",
      " 1.23286165e-01 9.97203051e-02 1.41218145e-01 6.65412637e-02\n",
      " 8.99200118e-02 1.44577892e-01 1.34307729e-01 9.30360957e-02\n",
      " 8.63184232e-02 1.11225988e-01 9.60134015e-02 1.18129703e-01\n",
      " 1.56356650e-01]\n"
     ]
    }
   ],
   "source": [
    "noise_1h = []\n",
    "signal_1h = []\n",
    "noise_1m = []\n",
    "signal_1m = []\n",
    "\n",
    "for eigval in eigval_1h:\n",
    "    if (eigval < lambda_max_1h):\n",
    "        noise_1h.append(eigval)\n",
    "    else:\n",
    "        signal_1h.append(eigval)\n",
    "        \n",
    "for eigval in eigval_1m:\n",
    "    if (eigval < lambda_max_1m):\n",
    "        noise_1m.append(eigval)\n",
    "    else:\n",
    "        signal_1m.append(eigval)\n",
    "        \n",
    "norm_noise_1h = [lambda_i / sum(noise_1h) * len(noise_1h) for lambda_i in noise_1h]\n",
    "norm_noise_1m = [lambda_i / sum(noise_1m) * len(noise_1m) for lambda_i in noise_1m]\n",
    "\n",
    "diagonal_1h = replace_noise(eigval_1h, norm_noise_1h, lambda_max_1h)\n",
    "diagonal_1m = replace_noise(eigval_1m, norm_noise_1m, lambda_max_1m)\n",
    "\n",
    "denoised_1h = eigval_1h * diagonal_1h * eigval_1h.T\n",
    "denoised_1m = eigval_1m * diagonal_1m * eigval_1m.T\n",
    "\n",
    "print('denoised_1h:\\n', denoised_1h)\n",
    "print('\\n')\n",
    "print('denoised_1m:\\n', denoised_1m)"
   ]
  },
  {
   "cell_type": "code",
   "execution_count": null,
   "id": "28fe994e",
   "metadata": {},
   "outputs": [],
   "source": []
  }
 ],
 "metadata": {
  "kernelspec": {
   "display_name": "Python 3",
   "language": "python",
   "name": "python3"
  },
  "language_info": {
   "codemirror_mode": {
    "name": "ipython",
    "version": 3
   },
   "file_extension": ".py",
   "mimetype": "text/x-python",
   "name": "python",
   "nbconvert_exporter": "python",
   "pygments_lexer": "ipython3",
   "version": "3.8.8"
  }
 },
 "nbformat": 4,
 "nbformat_minor": 5
}
