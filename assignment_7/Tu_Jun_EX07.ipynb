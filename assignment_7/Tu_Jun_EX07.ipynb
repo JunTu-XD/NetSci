{
 "cells": [
  {
   "cell_type": "code",
   "execution_count": 1,
   "id": "8e001d45",
   "metadata": {},
   "outputs": [],
   "source": [
    "# Jun Tu 21-732-722\n",
    "# Guanda Zhao 21-716-345"
   ]
  },
  {
   "cell_type": "code",
   "execution_count": 2,
   "id": "deab2024",
   "metadata": {},
   "outputs": [],
   "source": [
    "import math\n",
    "import numpy as np\n",
    "import matplotlib.pyplot as plt\n",
    "import networkx as nx\n",
    "import scipy.stats as sts"
   ]
  },
  {
   "cell_type": "code",
   "execution_count": 3,
   "id": "f67e39af",
   "metadata": {},
   "outputs": [
    {
     "name": "stdout",
     "output_type": "stream",
     "text": [
      "Loading is done\n"
     ]
    }
   ],
   "source": [
    "data_base_path = \"Data/\"\n",
    "\n",
    "cormat_1h = np.load(data_base_path + \"cormat_1h.npy\")\n",
    "cormat_1m = np.load(data_base_path + \"cormat_1m.npy\")\n",
    "stocknames = np.loadtxt(data_base_path + \"stocknames.txt\", dtype=str)\n",
    "stocknames_dict = {}\n",
    "\n",
    "for i in range(0, len(stocknames)):\n",
    "    stocknames_dict[i] = stocknames[i]\n",
    "\n",
    "print(\"Loading is done\")\n",
    "\n",
    "## thread unsafe\n",
    "figure_uni_index=0\n",
    "def new_figure():\n",
    "    global figure_uni_index\n",
    "    figure_uni_index = figure_uni_index + 1\n",
    "    fig = plt.figure(figure_uni_index)\n",
    "    return fig\n"
   ]
  },
  {
   "cell_type": "code",
   "execution_count": 10,
   "id": "8f4745cb",
   "metadata": {},
   "outputs": [],
   "source": [
    "def lambda_min_max(Q):\n",
    "    lambda_min = 1 + 1 / Q - 2 * math.sqrt(1/Q)\n",
    "    lambda_max = 1 + 1 / Q + 2 * math.sqrt(1/Q)\n",
    "    return lambda_min, lambda_max\n",
    "\n",
    "def marcenko_pastur(Q, lambda_input):\n",
    "    lambda_min, lambda_max = lambda_min_max(Q)\n",
    "    probability = (Q / (2 * math.pi)) * (math.sqrt((lambda_max - lambda_input)*(lambda_input - lambda_min)) / lambda_input)\n",
    "    return probability\n",
    "\n",
    "def replace_noise(eigvals, norm_noise, noise_index):\n",
    "    matrix = np.zeros((eigvals.shape[0], eigvals.shape[0]))\n",
    "    for i in range(0, eigvals.shape[0]):\n",
    "        matrix[i][i] = eigvals[i]\n",
    "    for i in range(len(noise_index)):\n",
    "        nidx = noise_index[i]\n",
    "        matrix[nidx][nidx] = norm_noise[i]\n",
    "    return matrix"
   ]
  },
  {
   "cell_type": "markdown",
   "id": "47a18794",
   "metadata": {
    "pycharm": {
     "name": "#%% md\n"
    }
   },
   "source": [
    "### A07.01"
   ]
  },
  {
   "cell_type": "code",
   "execution_count": 11,
   "outputs": [
    {
     "data": {
      "text/plain": "[<matplotlib.lines.Line2D at 0x7fc0c6b71580>]"
     },
     "execution_count": 11,
     "metadata": {},
     "output_type": "execute_result"
    },
    {
     "data": {
      "text/plain": "<Figure size 432x288 with 1 Axes>",
      "image/png": "[encoded data removed]"
     },
     "metadata": {
      "needs_background": "light"
     },
     "output_type": "display_data"
    },
    {
     "data": {
      "text/plain": "<Figure size 432x288 with 1 Axes>",
      "image/png": "[encoded data removed]"
     },
     "metadata": {
      "needs_background": "light"
     },
     "output_type": "display_data"
    }
   ],
   "source": [
    "eigval_1h, eigvec_1h = np.linalg.eig(cormat_1h)\n",
    "eigval_1m, eigvec_1m = np.linalg.eig(cormat_1m)\n",
    "\n",
    "Q_1h = 3.6289\n",
    "Q_1m = 200.8969\n",
    "\n",
    "lambda_min_1h, lambda_max_1h = lambda_min_max(Q_1h)\n",
    "lambda_min_1m, lambda_max_1m = lambda_min_max(Q_1m)\n",
    "\n",
    "x_1h = np.arange(lambda_min_1h, lambda_max_1h, (lambda_max_1h - lambda_min_1h)/200)\n",
    "x_1m = np.arange(lambda_min_1m, lambda_max_1m, (lambda_max_1m - lambda_min_1m)/200)\n",
    "x_1h = np.append(x_1h, lambda_max_1h)\n",
    "x_1m = np.append(x_1m, lambda_max_1m)\n",
    "\n",
    "y_1h = [marcenko_pastur(Q_1h, x) for x in x_1h]\n",
    "y_1m = [marcenko_pastur(Q_1m, x) for x in x_1m]\n",
    "\n",
    "new_figure()\n",
    "plt.xlabel('\\u03BB')\n",
    "plt.ylabel('\\u03C1(\\u03BB)')\n",
    "plt.title('MP law for 1h')\n",
    "plt.hist(eigval_1h, density = True)\n",
    "plt.plot(x_1h, y_1h)\n",
    "\n",
    "new_figure()\n",
    "plt.xlabel('\\u03BB')\n",
    "plt.ylabel('\\u03C1(\\u03BB)')\n",
    "plt.title('MP law for 1m')\n",
    "plt.hist(eigval_1m, density = True)\n",
    "plt.plot(x_1m, y_1m)"
   ],
   "metadata": {
    "collapsed": false,
    "pycharm": {
     "name": "#%%\n"
    }
   }
  },
  {
   "cell_type": "code",
   "execution_count": 12,
   "id": "d57aae5f",
   "metadata": {},
   "outputs": [
    {
     "name": "stdout",
     "output_type": "stream",
     "text": [
      "denoised_1h:\n",
      " [[1.         0.14692527 0.15940992 ... 0.07201036 0.01421172 0.10200188]\n",
      " [0.14692527 1.         0.33724734 ... 0.15917889 0.11284625 0.18945718]\n",
      " [0.15940992 0.33724734 1.         ... 0.27913275 0.11432449 0.14112075]\n",
      " ...\n",
      " [0.07201036 0.15917889 0.27913275 ... 1.         0.26350568 0.27682449]\n",
      " [0.01421172 0.11284625 0.11432449 ... 0.26350568 1.         0.35824278]\n",
      " [0.10200188 0.18945718 0.14112075 ... 0.27682449 0.35824278 1.        ]]\n",
      "\n",
      "\n",
      "denoised_1m:\n",
      " [[1.         0.12031749 0.19389909 ... 0.16291595 0.19838505 0.20601955]\n",
      " [0.12031749 1.         0.14695473 ... 0.12858604 0.1652078  0.26106404]\n",
      " [0.19389909 0.14695473 1.         ... 0.12086124 0.18929927 0.22079134]\n",
      " ...\n",
      " [0.16291595 0.12858604 0.12086124 ... 1.         0.19520453 0.23550205]\n",
      " [0.19838505 0.1652078  0.18929927 ... 0.19520453 1.         0.26607777]\n",
      " [0.20601955 0.26106404 0.22079134 ... 0.23550205 0.26607777 1.        ]]\n"
     ]
    }
   ],
   "source": [
    "noise_1h = []\n",
    "noise_1m = []\n",
    "\n",
    "noise_1h_idx=[]\n",
    "for eigval_idx in range(len(eigval_1h)):\n",
    "    eigval = eigval_1h[eigval_idx]\n",
    "    if (eigval < lambda_max_1h):\n",
    "        noise_1h.append(eigval)\n",
    "        noise_1h_idx.append(eigval_idx)\n",
    "\n",
    "noise_1m_idx=[]\n",
    "for eigval_idx in range(len(eigval_1m)):\n",
    "    eigval = eigval_1m[eigval_idx]\n",
    "    if (eigval < lambda_max_1m):\n",
    "        noise_1m.append(eigval)\n",
    "        noise_1m_idx.append(eigval_idx)\n",
    "\n",
    "norm_noise_1h = [lambda_i / sum(noise_1h) * len(noise_1h) for lambda_i in noise_1h]\n",
    "norm_noise_1m = [lambda_i / sum(noise_1m) * len(noise_1m) for lambda_i in noise_1m]\n",
    "\n",
    "diagonal_1h = replace_noise(eigval_1h, norm_noise_1h, noise_1h_idx)\n",
    "diagonal_1m = replace_noise(eigval_1m, norm_noise_1m, noise_1m_idx)\n",
    "\n",
    "denoised_1h = eigvec_1h.dot(diagonal_1h).dot(np.linalg.inv(eigvec_1h))\n",
    "denoised_1m = eigvec_1m.dot(diagonal_1m).dot(np.linalg.inv(eigvec_1m))\n",
    "\n",
    "D_1h = np.zeros(denoised_1h.shape)\n",
    "D_1m = np.zeros(denoised_1m.shape)\n",
    "\n",
    "for i in range(0, denoised_1h.shape[0]):\n",
    "    D_1h[i][i] = 1 / math.sqrt(denoised_1h[i][i])\n",
    "    \n",
    "for i in range(0, denoised_1m.shape[0]):\n",
    "    D_1m[i][i] = 1 / math.sqrt(denoised_1m[i][i])\n",
    "\n",
    "denoised_1h = D_1h.dot(denoised_1h).dot(D_1h)\n",
    "denoised_1m = D_1m.dot(denoised_1m).dot(D_1m)\n",
    "\n",
    "print('denoised_1h:\\n', denoised_1h)\n",
    "print('\\n')\n",
    "print('denoised_1m:\\n', denoised_1m)"
   ]
  },
  {
   "cell_type": "markdown",
   "source": [
    "### A07.02\n",
    "#### Scatterplot of the 1 hour vs 1 minute denoisedcorrelations"
   ],
   "metadata": {
    "collapsed": false,
    "pycharm": {
     "name": "#%% md\n"
    }
   }
  },
  {
   "cell_type": "code",
   "execution_count": null,
   "id": "28fe994e",
   "metadata": {
    "scrolled": true
   },
   "outputs": [],
   "source": [
    "D_1h = np.zeros(cormat_1h.shape)\n",
    "D_1m = np.zeros(cormat_1m.shape)\n",
    "\n",
    "for i in range(0, cormat_1h.shape[0]):\n",
    "    for j in range(0, cormat_1h.shape[1]):\n",
    "        D_1h[i][j] = math.sqrt(2 * (1 - cormat_1h[i][j])) \n",
    "\n",
    "for i in range(0, cormat_1m.shape[0]):\n",
    "    for j in range(0, cormat_1m.shape[1]):\n",
    "        D_1m[i][j] = math.sqrt(2 * (1 - cormat_1m[i][j])) \n",
    "        \n",
    "new_figure()\n",
    "D_1h_utri_flatten=np.triu(D_1h, 0).flatten()\n",
    "D_1m_utri_flatten=np.triu(D_1m, 0).flatten()\n",
    "dc_x = np.delete(D_1h_utri_flatten, np.where(D_1h_utri_flatten==0))\n",
    "dc_y = np.delete(D_1m_utri_flatten, np.where(D_1m_utri_flatten==0))\n",
    "plt.xlabel('1h')\n",
    "plt.ylabel('1m')\n",
    "plt.title('1 hour vs 1 minute denoised correlations')\n",
    "plt.scatter(x = dc_x, y = dc_y)"
   ]
  },
  {
   "cell_type": "code",
   "execution_count": null,
   "outputs": [],
   "source": [
    "G_1h = nx.from_numpy_matrix(D_1h)\n",
    "G_1m = nx.from_numpy_matrix(D_1m)\n",
    "nx.set_node_attributes(G_1h, stocknames_dict, 'name')\n",
    "nx.set_node_attributes(G_1m, stocknames_dict, 'name')\n",
    "\n",
    "MST_1h = nx.minimum_spanning_tree(G_1h)\n",
    "MST_1m = nx.minimum_spanning_tree(G_1m)\n",
    "\n",
    "degrees_1h = []\n",
    "degrees_1m = []\n",
    "\n",
    "MST_1h_degrees = MST_1h.degree()\n",
    "MST_1m_degrees = MST_1m.degree()\n",
    "for i in range (0, len(stocknames)):\n",
    "    degrees_1h.append(MST_1h_degrees[i])\n",
    "    degrees_1m.append(MST_1m_degrees[i])"
   ],
   "metadata": {
    "collapsed": false,
    "pycharm": {
     "name": "#%%\n"
    }
   }
  },
  {
   "cell_type": "markdown",
   "source": [
    "#### MST for 1 h"
   ],
   "metadata": {
    "collapsed": false
   }
  },
  {
   "cell_type": "code",
   "execution_count": null,
   "outputs": [],
   "source": [
    "new_figure()\n",
    "plt.title(\"MST for 1 h\")\n",
    "nx.draw(MST_1h, node_size=50)"
   ],
   "metadata": {
    "collapsed": false,
    "pycharm": {
     "name": "#%%\n"
    }
   }
  },
  {
   "cell_type": "markdown",
   "source": [
    "#### MST for 1 m"
   ],
   "metadata": {
    "collapsed": false
   }
  },
  {
   "cell_type": "code",
   "execution_count": null,
   "outputs": [],
   "source": [
    "new_figure()\n",
    "plt.title(\"MST for 1 m\")\n",
    "nx.draw(MST_1m, node_size=50)"
   ],
   "metadata": {
    "collapsed": false,
    "pycharm": {
     "name": "#%%\n"
    }
   }
  },
  {
   "cell_type": "markdown",
   "source": [
    "#### Scatterplot of the 1 hour vs 1 minute MST degrees of"
   ],
   "metadata": {
    "collapsed": false
   }
  },
  {
   "cell_type": "code",
   "execution_count": null,
   "outputs": [],
   "source": [
    "new_figure()\n",
    "plt.title('1 hour vs 1 minute MST degrees of stocks')\n",
    "plt.xlabel('1h')\n",
    "plt.ylabel('1m')\n",
    "plt.scatter(x = degrees_1h, y = degrees_1m)"
   ],
   "metadata": {
    "collapsed": false,
    "pycharm": {
     "name": "#%%\n"
    }
   }
  },
  {
   "cell_type": "markdown",
   "id": "ae9510ed",
   "metadata": {
    "pycharm": {
     "name": "#%% md\n"
    }
   },
   "source": [
    "1.\n",
    "\n"
   ]
  },
  {
   "cell_type": "code",
   "execution_count": null,
   "id": "ca48a117",
   "metadata": {},
   "outputs": [],
   "source": []
  }
 ],
 "metadata": {
  "kernelspec": {
   "display_name": "Python 3",
   "language": "python",
   "name": "python3"
  },
  "language_info": {
   "codemirror_mode": {
    "name": "ipython",
    "version": 3
   },
   "file_extension": ".py",
   "mimetype": "text/x-python",
   "name": "python",
   "nbconvert_exporter": "python",
   "pygments_lexer": "ipython3",
   "version": "3.8.8"
  }
 },
 "nbformat": 4,
 "nbformat_minor": 5
}