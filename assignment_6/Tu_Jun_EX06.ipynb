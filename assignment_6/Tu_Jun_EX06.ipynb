{
 "cells": [
  {
   "cell_type": "code",
   "execution_count": 34,
   "metadata": {
    "collapsed": true
   },
   "outputs": [],
   "source": []
  },
  {
   "cell_type": "code",
   "execution_count": 35,
   "outputs": [],
   "source": [
    "# Jun Tu 21-732-722\n",
    "# Guanda Zhao 21-716-345"
   ],
   "metadata": {
    "collapsed": false,
    "pycharm": {
     "name": "#%%\n"
    }
   }
  },
  {
   "cell_type": "code",
   "execution_count": 36,
   "outputs": [],
   "source": [
    "import matplotlib.pyplot as plt\n",
    "import numpy as np\n",
    "from NEMtropy import UndirectedGraph, DirectedGraph\n",
    "from NEMtropy.network_functions import build_adjacency_from_edgelist\n",
    "import networkx as nx\n",
    "\n",
    "path = \"Data/\"\n",
    "\n",
    "nets = []\n",
    "nets_index = [str(i) for i in range(1992, 2003)]\n",
    "for index in nets_index:\n",
    "    gml_file = path + 'WDN_' +index +\".txt.graphml\"\n",
    "    G = nx.read_graphml(gml_file)\n",
    "    nets.append(G)\n",
    "figure_index = 10\n",
    "def new_figure():\n",
    "    global figure_index\n",
    "    plt.figure(figure_index)\n",
    "    figure_index+=1"
   ],
   "metadata": {
    "collapsed": false,
    "pycharm": {
     "name": "#%%\n"
    }
   }
  },
  {
   "cell_type": "code",
   "execution_count": 37,
   "outputs": [],
   "source": [
    "### A06.1 code\n",
    "def avg_nets_clustering(nets):\n",
    "    clustering_coes = []\n",
    "    for G in nets:\n",
    "        clustering_coes.append(nx.average_clustering(G))\n",
    "    return clustering_coes\n",
    "def avg_nets_reciprocity(nets):\n",
    "    reci_coes = []\n",
    "    for G in nets:\n",
    "        reci_coes.append(nx.reciprocity(G))\n",
    "    return reci_coes\n",
    "def output(nets):\n",
    "    clusterings = avg_nets_clustering(nets)\n",
    "    reciprocities = avg_nets_reciprocity(nets)\n",
    "    for i in range(0, len(nets_index)):\n",
    "        print(\"WDN_\"+nets_index[i])\n",
    "        print(\"average_clustering: \" , clusterings[i])\n",
    "        print(\"reciprocities: \", reciprocities[i])\n",
    "        print(\"\\n\")"
   ],
   "metadata": {
    "collapsed": false,
    "pycharm": {
     "name": "#%%\n"
    }
   }
  },
  {
   "cell_type": "code",
   "execution_count": 38,
   "outputs": [
    {
     "name": "stdout",
     "output_type": "stream",
     "text": [
      "\n",
      "solution error = 3.939362613891717e-09\n"
     ]
    },
    {
     "name": "stderr",
     "output_type": "stream",
     "text": [
      "/Users/jun/Documents/study/course/foundation of ds/FDS21-M56/venv/lib/python3.9/site-packages/numba/core/utils.py:544: NumbaExperimentalFeatureWarning: First-class function type feature is experimental\n",
      "  warnings.warn(\"First-class function type feature is experimental\",\n"
     ]
    },
    {
     "name": "stdout",
     "output_type": "stream",
     "text": [
      "\n",
      "solution error = 9.788934107746172e-10\n",
      "\n",
      "solution error = 3.7088625504111405e-09\n",
      "\n",
      "solution error = 4.213248416817805e-09\n",
      "\n",
      "solution error = 4.8302979394065915e-09\n",
      "\n",
      "solution error = 4.586709678733314e-09\n",
      "\n",
      "solution error = 1.4998136066424195e-09\n",
      "\n",
      "solution error = 5.063881758360367e-09\n",
      "\n",
      "solution error = 4.6791228669462726e-09\n",
      "\n",
      "solution error = 3.117285984899354e-09\n",
      "\n",
      "solution error = 1.1812915090558818e-09\n",
      "\n",
      "solution error = 3.2474929412273923e-09\n",
      "\n",
      "solution error = 1.4834995454293676e-09\n",
      "\n",
      "solution error = 3.5814764487440698e-09\n",
      "\n",
      "solution error = 7.786127298459178e-10\n",
      "\n",
      "solution error = 2.645066388140549e-09\n",
      "\n",
      "solution error = 2.1667290184268495e-09\n",
      "\n",
      "solution error = 1.9652866001251823e-09\n",
      "\n",
      "solution error = 4.9465143092675135e-09\n",
      "\n",
      "solution error = 3.351303234921943e-09\n",
      "\n",
      "solution error = 4.053475777254789e-09\n",
      "\n",
      "solution error = 2.745164096040753e-09\n"
     ]
    }
   ],
   "source": [
    "sample_count = 10\n",
    "max_relative_error_strength = 0.01\n",
    "def sample_UBCM(G:nx.Graph, output_path):\n",
    "    g_array = nx.to_numpy_array(G.to_undirected())\n",
    "    UG = UndirectedGraph(g_array)\n",
    "    UG.solve_tool(model=\"cm_exp\")\n",
    "    global sample_count\n",
    "    UG.ensemble_sampler(sample_count, cpu_n=1, output_dir=output_path)\n",
    "\n",
    "def sample_DBCM(G, output_path):\n",
    "    g_array = nx.to_numpy_array(G)\n",
    "    DG = DirectedGraph(g_array)\n",
    "    DG.solve_tool(model=\"dcm_exp\")\n",
    "\n",
    "    global sample_count\n",
    "    DG.ensemble_sampler(sample_count, cpu_n=1, output_dir=output_path)\n",
    "\n",
    "def extract_samples(path, directed):\n",
    "    nets = []\n",
    "    global sample_count\n",
    "    for i in range(sample_count):\n",
    "        file = path + str(i) + \".txt\"\n",
    "        edges = np.loadtxt(file)\n",
    "        if (directed):\n",
    "            G = nx.from_numpy_array(build_adjacency_from_edgelist(edgelist = edges,\n",
    "                                                                  is_directed = True,\n",
    "                                                                  is_sparse = False,\n",
    "                                                                  is_weighted = True),\n",
    "                                    create_using=nx.DiGraph)\n",
    "            nets.append(G)\n",
    "        else:\n",
    "            edges = np.loadtxt(file)\n",
    "            G = nx.from_numpy_array(build_adjacency_from_edgelist(edges,is_directed = False,\n",
    "                                                                  is_sparse = False,\n",
    "                                                                  is_weighted = True))\n",
    "            nets.append(G)\n",
    "    return nets\n",
    "\n",
    "def origin_vs_sample(nets):\n",
    "    original_clustering_t = []\n",
    "    original_undirected_clustering_t= []\n",
    "    original_reci_t = []\n",
    "\n",
    "    undirected_sample_clustering_t = []\n",
    "    directed_sample_clustering_t =[]\n",
    "    sample_reci_t = []\n",
    "\n",
    "    for i in range(len(nets_index)):\n",
    "        G = nets[i]\n",
    "\n",
    "        original_clustering_t.append(nx.average_clustering(G))\n",
    "        original_reci_t.append(nx.average_clustering(G))\n",
    "        original_undirected_clustering_t.append(nx.average_clustering(G.to_undirected()))\n",
    "\n",
    "        DBCM_path=\"sample_DBCM_\" + nets_index[i] + \"/\"\n",
    "        UBCM_path=\"sample_UBCM_\" + nets_index[i] + \"/\"\n",
    "\n",
    "        sample_UBCM(G, UBCM_path)\n",
    "        sample_DBCM(G, DBCM_path)\n",
    "        DBCM_samples = extract_samples(DBCM_path, True)\n",
    "        UBCM_samples = extract_samples(UBCM_path, False)\n",
    "\n",
    "\n",
    "        undirected_sample_clusterings=[]\n",
    "        for sample in UBCM_samples:\n",
    "            undirected_sample_clusterings.append(nx.average_clustering(sample))\n",
    "        undirected_sample_clustering_t.append(np.mean(undirected_sample_clusterings))\n",
    "\n",
    "        directed_sample_clusterings = []\n",
    "        sample_reciprocities = []\n",
    "        for sample in DBCM_samples:\n",
    "            directed_sample_clusterings.append(nx.average_clustering(sample))\n",
    "            sample_reciprocities.append(nx.reciprocity(sample))\n",
    "        directed_sample_clustering_t.append(np.mean(directed_sample_clusterings))\n",
    "        sample_reci_t.append(np.mean(sample_reciprocities))\n",
    "\n",
    "    return original_undirected_clustering_t, undirected_sample_clustering_t, original_clustering_t, directed_sample_clustering_t, original_reci_t,sample_reci_t\n",
    "\n",
    "original_undirected_clustering_t, undirected_sample_clustering_t, original_clustering_t, directed_sample_clustering_t, original_reci_t, sample_reci_t = origin_vs_sample(nets)"
   ],
   "metadata": {
    "collapsed": false,
    "pycharm": {
     "name": "#%%\n"
    }
   }
  },
  {
   "cell_type": "markdown",
   "source": [
    "### A06.1  - 1 coefficients"
   ],
   "metadata": {
    "collapsed": false
   }
  },
  {
   "cell_type": "code",
   "execution_count": 39,
   "outputs": [
    {
     "name": "stdout",
     "output_type": "stream",
     "text": [
      "WDN_1992\n",
      "average_clustering:  0.8021364732946835\n",
      "reciprocities:  0.367340010185028\n",
      "\n",
      "\n",
      "WDN_1993\n",
      "average_clustering:  0.7826552252417198\n",
      "reciprocities:  0.430931744312026\n",
      "\n",
      "\n",
      "WDN_1994\n",
      "average_clustering:  0.778118724128831\n",
      "reciprocities:  0.541138903672166\n",
      "\n",
      "\n",
      "WDN_1995\n",
      "average_clustering:  0.769316598518603\n",
      "reciprocities:  0.6043664931031333\n",
      "\n",
      "\n",
      "WDN_1996\n",
      "average_clustering:  0.779859983253989\n",
      "reciprocities:  0.6482433229421182\n",
      "\n",
      "\n",
      "WDN_1997\n",
      "average_clustering:  0.7844618494148852\n",
      "reciprocities:  0.6822429906542056\n",
      "\n",
      "\n",
      "WDN_1998\n",
      "average_clustering:  0.7913458153848136\n",
      "reciprocities:  0.7015887290167866\n",
      "\n",
      "\n",
      "WDN_1999\n",
      "average_clustering:  0.7946922756897296\n",
      "reciprocities:  0.716582186821144\n",
      "\n",
      "\n",
      "WDN_2000\n",
      "average_clustering:  0.7928732278480053\n",
      "reciprocities:  0.7232351897836112\n",
      "\n",
      "\n",
      "WDN_2001\n",
      "average_clustering:  0.8020845961993215\n",
      "reciprocities:  0.7375525101577026\n",
      "\n",
      "\n",
      "WDN_2002\n",
      "average_clustering:  0.7955013137787762\n",
      "reciprocities:  0.7041909280425562\n",
      "\n",
      "\n"
     ]
    }
   ],
   "source": [
    "output(nets)"
   ],
   "metadata": {
    "collapsed": false,
    "pycharm": {
     "name": "#%%\n"
    }
   }
  },
  {
   "cell_type": "markdown",
   "source": [
    "### A06.1 - 3 plot"
   ],
   "metadata": {
    "collapsed": false
   }
  },
  {
   "cell_type": "code",
   "execution_count": 40,
   "outputs": [
    {
     "data": {
      "text/plain": "<matplotlib.legend.Legend at 0x7fa867439730>"
     },
     "execution_count": 40,
     "metadata": {},
     "output_type": "execute_result"
    },
    {
     "data": {
      "text/plain": "<Figure size 432x288 with 1 Axes>",
      "image/png": "[encoded data removed]"
     },
     "metadata": {
      "needs_background": "light"
     },
     "output_type": "display_data"
    },
    {
     "data": {
      "text/plain": "<Figure size 432x288 with 1 Axes>",
      "image/png": "[encoded data removed]"
     },
     "metadata": {
      "needs_background": "light"
     },
     "output_type": "display_data"
    },
    {
     "data": {
      "text/plain": "<Figure size 432x288 with 1 Axes>",
      "image/png": "[encoded data removed]"
     },
     "metadata": {
      "needs_background": "light"
     },
     "output_type": "display_data"
    }
   ],
   "source": [
    "new_figure()\n",
    "plt.title(\"DBCM samples avg_clustering vs original\")\n",
    "plt.plot(nets_index, undirected_sample_clustering_t, label = \"sample's avg\")\n",
    "plt.plot(nets_index, original_undirected_clustering_t, label = \"original\")\n",
    "plt.legend()\n",
    "\n",
    "new_figure()\n",
    "plt.title(\"DBCM samples avg_clustering vs original\")\n",
    "plt.plot(nets_index, directed_sample_clustering_t, label = \"sample's avg\")\n",
    "plt.plot(nets_index, original_clustering_t, label = \"original\")\n",
    "plt.legend()\n",
    "\n",
    "new_figure()\n",
    "plt.title(\"DBCM samples avg_reciprocities vs original\")\n",
    "plt.plot(nets_index, sample_reci_t, label = \"sample's avg\")\n",
    "plt.plot(nets_index, original_reci_t, label = \"original\")\n",
    "plt.legend()"
   ],
   "metadata": {
    "collapsed": false,
    "pycharm": {
     "name": "#%%\n"
    }
   }
  },
  {
   "cell_type": "code",
   "execution_count": 41,
   "outputs": [],
   "source": [
    "### A06.2 code\n",
    "def strength_assortativity_coefficient(nets):\n",
    "    sac_list = []\n",
    "    for G in nets:\n",
    "        sac_list.append(nx.degree_pearson_correlation_coefficient(G, weight='weight'))\n",
    "    return sac_list\n",
    "\n",
    "def weighted_output(nets):\n",
    "    sac_list = strength_assortativity_coefficient(nets)\n",
    "    for i in range(0, len(nets_index)):\n",
    "        print(nets_index[i])\n",
    "        print(\"strength_assortativity_coefficient: \" , sac_list[i])\n",
    "        print(\"\\n\")"
   ],
   "metadata": {
    "collapsed": false,
    "pycharm": {
     "name": "#%%\n"
    }
   }
  },
  {
   "cell_type": "code",
   "execution_count": 57,
   "outputs": [
    {
     "name": "stdout",
     "output_type": "stream",
     "text": [
      "\n",
      "solution error = 350202716373.75684\n",
      "\n",
      "solution error = 347446025946.5157\n",
      "\n",
      "solution error = 290992720962.88086\n",
      "\n",
      "solution error = 129268404924.18124\n",
      "\n",
      "solution error = 12559343812.577942\n",
      "\n",
      "solution error = 0.09859954658895731\n",
      "2.1884350351184914e-08\n"
     ]
    },
    {
     "name": "stderr",
     "output_type": "stream",
     "text": [
      "Process SpawnPoolWorker-1811:\n",
      "Traceback (most recent call last):\n",
      "  File \"/Library/Frameworks/Python.framework/Versions/3.9/lib/python3.9/multiprocessing/process.py\", line 315, in _bootstrap\n",
      "    self.run()\n",
      "  File \"/Library/Frameworks/Python.framework/Versions/3.9/lib/python3.9/multiprocessing/process.py\", line 108, in run\n",
      "    self._target(*self._args, **self._kwargs)\n",
      "  File \"/Library/Frameworks/Python.framework/Versions/3.9/lib/python3.9/multiprocessing/pool.py\", line 114, in worker\n",
      "    task = get()\n",
      "  File \"/Library/Frameworks/Python.framework/Versions/3.9/lib/python3.9/multiprocessing/queues.py\", line 366, in get\n",
      "    res = self._reader.recv_bytes()\n",
      "  File \"/Library/Frameworks/Python.framework/Versions/3.9/lib/python3.9/multiprocessing/connection.py\", line 221, in recv_bytes\n",
      "    buf = self._recv_bytes(maxlength)\n",
      "  File \"/Library/Frameworks/Python.framework/Versions/3.9/lib/python3.9/multiprocessing/connection.py\", line 419, in _recv_bytes\n",
      "    buf = self._recv(4)\n",
      "  File \"/Library/Frameworks/Python.framework/Versions/3.9/lib/python3.9/multiprocessing/connection.py\", line 384, in _recv\n",
      "    chunk = read(handle, remaining)\n",
      "KeyboardInterrupt\n"
     ]
    },
    {
     "ename": "KeyboardInterrupt",
     "evalue": "",
     "output_type": "error",
     "traceback": [
      "\u001B[0;31m---------------------------------------------------------------------------\u001B[0m",
      "\u001B[0;31mKeyboardInterrupt\u001B[0m                         Traceback (most recent call last)",
      "\u001B[0;32m/var/folders/2h/fb8n9yjj29b27__wb9rw051c0000gn/T/ipykernel_4106/2385486181.py\u001B[0m in \u001B[0;36m<module>\u001B[0;34m\u001B[0m\n\u001B[1;32m    101\u001B[0m \u001B[0;34m\u001B[0m\u001B[0m\n\u001B[1;32m    102\u001B[0m     \u001B[0;32mreturn\u001B[0m \u001B[0moriginal_undirected_sac\u001B[0m\u001B[0;34m,\u001B[0m \u001B[0mundirected_avg_sample_sac\u001B[0m\u001B[0;34m,\u001B[0m \u001B[0moriginal_in_in_directed_sac\u001B[0m\u001B[0;34m,\u001B[0m\u001B[0mdirected_avg_in_in_sample_sac\u001B[0m\u001B[0;34m,\u001B[0m\u001B[0moriginal_in_out_directed_sac\u001B[0m\u001B[0;34m,\u001B[0m\u001B[0mdirected_avg_in_out_sample_sac\u001B[0m\u001B[0;34m,\u001B[0m\u001B[0moriginal_out_out_directed_sac\u001B[0m \u001B[0;34m,\u001B[0m\u001B[0mdirected_avg_out_out_sample_sac\u001B[0m\u001B[0;34m\u001B[0m\u001B[0;34m\u001B[0m\u001B[0m\n\u001B[0;32m--> 103\u001B[0;31m \u001B[0moriginal_undirected_sac\u001B[0m\u001B[0;34m,\u001B[0m \u001B[0mundirected_avg_sample_sac\u001B[0m\u001B[0;34m,\u001B[0m \u001B[0moriginal_in_in_directed_sac\u001B[0m\u001B[0;34m,\u001B[0m\u001B[0mdirected_avg_in_in_sample_sac\u001B[0m\u001B[0;34m,\u001B[0m\u001B[0moriginal_in_out_directed_sac\u001B[0m\u001B[0;34m,\u001B[0m\u001B[0mdirected_avg_in_out_sample_sac\u001B[0m\u001B[0;34m,\u001B[0m\u001B[0moriginal_out_out_directed_sac\u001B[0m \u001B[0;34m,\u001B[0m\u001B[0mdirected_avg_out_out_sample_sac\u001B[0m \u001B[0;34m=\u001B[0m \u001B[0morigin_vs_weighted_sample\u001B[0m\u001B[0;34m(\u001B[0m\u001B[0mnets\u001B[0m\u001B[0;34m)\u001B[0m\u001B[0;34m\u001B[0m\u001B[0;34m\u001B[0m\u001B[0m\n\u001B[0m",
      "\u001B[0;32m/var/folders/2h/fb8n9yjj29b27__wb9rw051c0000gn/T/ipykernel_4106/2385486181.py\u001B[0m in \u001B[0;36morigin_vs_weighted_sample\u001B[0;34m(nets)\u001B[0m\n\u001B[1;32m     76\u001B[0m \u001B[0;34m\u001B[0m\u001B[0m\n\u001B[1;32m     77\u001B[0m         \u001B[0mweighted_UECM_path\u001B[0m\u001B[0;34m=\u001B[0m \u001B[0;34m\"sample_UECM_\"\u001B[0m \u001B[0;34m+\u001B[0m \u001B[0mnets_index\u001B[0m\u001B[0;34m[\u001B[0m\u001B[0mi\u001B[0m\u001B[0;34m]\u001B[0m \u001B[0;34m+\u001B[0m \u001B[0;34m\"/\"\u001B[0m\u001B[0;34m\u001B[0m\u001B[0;34m\u001B[0m\u001B[0m\n\u001B[0;32m---> 78\u001B[0;31m         \u001B[0mweighted_sample_UECM\u001B[0m\u001B[0;34m(\u001B[0m\u001B[0mG\u001B[0m\u001B[0;34m,\u001B[0m\u001B[0mweighted_UECM_path\u001B[0m\u001B[0;34m)\u001B[0m\u001B[0;34m\u001B[0m\u001B[0;34m\u001B[0m\u001B[0m\n\u001B[0m\u001B[1;32m     79\u001B[0m \u001B[0;34m\u001B[0m\u001B[0m\n\u001B[1;32m     80\u001B[0m         \u001B[0mweighted_DECM_path\u001B[0m \u001B[0;34m=\u001B[0m \u001B[0;34m\"sample_DECM_\"\u001B[0m \u001B[0;34m+\u001B[0m \u001B[0mnets_index\u001B[0m\u001B[0;34m[\u001B[0m\u001B[0mi\u001B[0m\u001B[0;34m]\u001B[0m \u001B[0;34m+\u001B[0m \u001B[0;34m\"/\"\u001B[0m\u001B[0;34m\u001B[0m\u001B[0;34m\u001B[0m\u001B[0m\n",
      "\u001B[0;32m/var/folders/2h/fb8n9yjj29b27__wb9rw051c0000gn/T/ipykernel_4106/2385486181.py\u001B[0m in \u001B[0;36mweighted_sample_UECM\u001B[0;34m(G, output_path)\u001B[0m\n\u001B[1;32m     22\u001B[0m \u001B[0;34m\u001B[0m\u001B[0m\n\u001B[1;32m     23\u001B[0m     \u001B[0;32mglobal\u001B[0m \u001B[0msample_count\u001B[0m\u001B[0;34m\u001B[0m\u001B[0;34m\u001B[0m\u001B[0m\n\u001B[0;32m---> 24\u001B[0;31m     \u001B[0mUG\u001B[0m\u001B[0;34m.\u001B[0m\u001B[0mensemble_sampler\u001B[0m\u001B[0;34m(\u001B[0m\u001B[0msample_count\u001B[0m\u001B[0;34m,\u001B[0m \u001B[0mcpu_n\u001B[0m\u001B[0;34m=\u001B[0m\u001B[0;36m1\u001B[0m\u001B[0;34m,\u001B[0m \u001B[0moutput_dir\u001B[0m\u001B[0;34m=\u001B[0m\u001B[0moutput_path\u001B[0m\u001B[0;34m)\u001B[0m\u001B[0;34m\u001B[0m\u001B[0;34m\u001B[0m\u001B[0m\n\u001B[0m\u001B[1;32m     25\u001B[0m \u001B[0;34m\u001B[0m\u001B[0m\n\u001B[1;32m     26\u001B[0m \u001B[0;32mdef\u001B[0m \u001B[0mweighted_sample_DECM\u001B[0m\u001B[0;34m(\u001B[0m\u001B[0mG\u001B[0m\u001B[0;34m,\u001B[0m \u001B[0moutput_path\u001B[0m\u001B[0;34m)\u001B[0m\u001B[0;34m:\u001B[0m\u001B[0;34m\u001B[0m\u001B[0;34m\u001B[0m\u001B[0m\n",
      "\u001B[0;32m~/Documents/study/course/foundation of ds/FDS21-M56/venv/lib/python3.9/site-packages/NEMtropy/graph_classes.py\u001B[0m in \u001B[0;36mensemble_sampler\u001B[0;34m(self, n, cpu_n, output_dir, seed)\u001B[0m\n\u001B[1;32m   1101\u001B[0m                 \u001B[0mi\u001B[0m \u001B[0;34m=\u001B[0m \u001B[0;36m0\u001B[0m\u001B[0;34m\u001B[0m\u001B[0;34m\u001B[0m\u001B[0m\n\u001B[1;32m   1102\u001B[0m                 \u001B[0;32mfor\u001B[0m \u001B[0mitem\u001B[0m \u001B[0;32min\u001B[0m \u001B[0miter_files\u001B[0m\u001B[0;34m:\u001B[0m\u001B[0;34m\u001B[0m\u001B[0;34m\u001B[0m\u001B[0m\n\u001B[0;32m-> 1103\u001B[0;31m                     eg.ensemble_sampler_crema_ecm_prob_graph(\n\u001B[0m\u001B[1;32m   1104\u001B[0m                         \u001B[0moutfile_name\u001B[0m\u001B[0;34m=\u001B[0m\u001B[0mitem\u001B[0m\u001B[0;34m,\u001B[0m\u001B[0;34m\u001B[0m\u001B[0;34m\u001B[0m\u001B[0m\n\u001B[1;32m   1105\u001B[0m                         \u001B[0mbeta\u001B[0m\u001B[0;34m=\u001B[0m\u001B[0mself\u001B[0m\u001B[0;34m.\u001B[0m\u001B[0mbeta\u001B[0m\u001B[0;34m,\u001B[0m\u001B[0;34m\u001B[0m\u001B[0;34m\u001B[0m\u001B[0m\n",
      "\u001B[0;32m~/Documents/study/course/foundation of ds/FDS21-M56/venv/lib/python3.9/site-packages/NEMtropy/ensemble_generator.py\u001B[0m in \u001B[0;36mensemble_sampler_crema_ecm_prob_graph\u001B[0;34m(outfile_name, beta, adj, cpu_n, seed)\u001B[0m\n\u001B[1;32m    293\u001B[0m     \u001B[0;31m# compute existing edges\u001B[0m\u001B[0;34m\u001B[0m\u001B[0;34m\u001B[0m\u001B[0m\n\u001B[1;32m    294\u001B[0m     \u001B[0;32mwith\u001B[0m \u001B[0mmp\u001B[0m\u001B[0;34m.\u001B[0m\u001B[0mPool\u001B[0m\u001B[0;34m(\u001B[0m\u001B[0mprocesses\u001B[0m\u001B[0;34m=\u001B[0m\u001B[0mcpu_n\u001B[0m\u001B[0;34m)\u001B[0m \u001B[0;32mas\u001B[0m \u001B[0mpool\u001B[0m\u001B[0;34m:\u001B[0m\u001B[0;34m\u001B[0m\u001B[0;34m\u001B[0m\u001B[0m\n\u001B[0;32m--> 295\u001B[0;31m         \u001B[0medges_list\u001B[0m \u001B[0;34m=\u001B[0m \u001B[0mpool\u001B[0m\u001B[0;34m.\u001B[0m\u001B[0mstarmap\u001B[0m\u001B[0;34m(\u001B[0m\u001B[0mis_a_link_crema_ecm_prob\u001B[0m\u001B[0;34m,\u001B[0m \u001B[0miter_\u001B[0m\u001B[0;34m)\u001B[0m\u001B[0;34m\u001B[0m\u001B[0;34m\u001B[0m\u001B[0m\n\u001B[0m\u001B[1;32m    296\u001B[0m \u001B[0;34m\u001B[0m\u001B[0m\n\u001B[1;32m    297\u001B[0m     \u001B[0;31m# removing None\u001B[0m\u001B[0;34m\u001B[0m\u001B[0;34m\u001B[0m\u001B[0m\n",
      "\u001B[0;32m/Library/Frameworks/Python.framework/Versions/3.9/lib/python3.9/multiprocessing/pool.py\u001B[0m in \u001B[0;36mstarmap\u001B[0;34m(self, func, iterable, chunksize)\u001B[0m\n\u001B[1;32m    370\u001B[0m         \u001B[0;31m`\u001B[0m\u001B[0mfunc\u001B[0m\u001B[0;31m`\u001B[0m \u001B[0;32mand\u001B[0m \u001B[0;34m(\u001B[0m\u001B[0ma\u001B[0m\u001B[0;34m,\u001B[0m \u001B[0mb\u001B[0m\u001B[0;34m)\u001B[0m \u001B[0mbecomes\u001B[0m \u001B[0mfunc\u001B[0m\u001B[0;34m(\u001B[0m\u001B[0ma\u001B[0m\u001B[0;34m,\u001B[0m \u001B[0mb\u001B[0m\u001B[0;34m)\u001B[0m\u001B[0;34m.\u001B[0m\u001B[0;34m\u001B[0m\u001B[0;34m\u001B[0m\u001B[0m\n\u001B[1;32m    371\u001B[0m         '''\n\u001B[0;32m--> 372\u001B[0;31m         \u001B[0;32mreturn\u001B[0m \u001B[0mself\u001B[0m\u001B[0;34m.\u001B[0m\u001B[0m_map_async\u001B[0m\u001B[0;34m(\u001B[0m\u001B[0mfunc\u001B[0m\u001B[0;34m,\u001B[0m \u001B[0miterable\u001B[0m\u001B[0;34m,\u001B[0m \u001B[0mstarmapstar\u001B[0m\u001B[0;34m,\u001B[0m \u001B[0mchunksize\u001B[0m\u001B[0;34m)\u001B[0m\u001B[0;34m.\u001B[0m\u001B[0mget\u001B[0m\u001B[0;34m(\u001B[0m\u001B[0;34m)\u001B[0m\u001B[0;34m\u001B[0m\u001B[0;34m\u001B[0m\u001B[0m\n\u001B[0m\u001B[1;32m    373\u001B[0m \u001B[0;34m\u001B[0m\u001B[0m\n\u001B[1;32m    374\u001B[0m     def starmap_async(self, func, iterable, chunksize=None, callback=None,\n",
      "\u001B[0;32m/Library/Frameworks/Python.framework/Versions/3.9/lib/python3.9/multiprocessing/pool.py\u001B[0m in \u001B[0;36mget\u001B[0;34m(self, timeout)\u001B[0m\n\u001B[1;32m    763\u001B[0m \u001B[0;34m\u001B[0m\u001B[0m\n\u001B[1;32m    764\u001B[0m     \u001B[0;32mdef\u001B[0m \u001B[0mget\u001B[0m\u001B[0;34m(\u001B[0m\u001B[0mself\u001B[0m\u001B[0;34m,\u001B[0m \u001B[0mtimeout\u001B[0m\u001B[0;34m=\u001B[0m\u001B[0;32mNone\u001B[0m\u001B[0;34m)\u001B[0m\u001B[0;34m:\u001B[0m\u001B[0;34m\u001B[0m\u001B[0;34m\u001B[0m\u001B[0m\n\u001B[0;32m--> 765\u001B[0;31m         \u001B[0mself\u001B[0m\u001B[0;34m.\u001B[0m\u001B[0mwait\u001B[0m\u001B[0;34m(\u001B[0m\u001B[0mtimeout\u001B[0m\u001B[0;34m)\u001B[0m\u001B[0;34m\u001B[0m\u001B[0;34m\u001B[0m\u001B[0m\n\u001B[0m\u001B[1;32m    766\u001B[0m         \u001B[0;32mif\u001B[0m \u001B[0;32mnot\u001B[0m \u001B[0mself\u001B[0m\u001B[0;34m.\u001B[0m\u001B[0mready\u001B[0m\u001B[0;34m(\u001B[0m\u001B[0;34m)\u001B[0m\u001B[0;34m:\u001B[0m\u001B[0;34m\u001B[0m\u001B[0;34m\u001B[0m\u001B[0m\n\u001B[1;32m    767\u001B[0m             \u001B[0;32mraise\u001B[0m \u001B[0mTimeoutError\u001B[0m\u001B[0;34m\u001B[0m\u001B[0;34m\u001B[0m\u001B[0m\n",
      "\u001B[0;32m/Library/Frameworks/Python.framework/Versions/3.9/lib/python3.9/multiprocessing/pool.py\u001B[0m in \u001B[0;36mwait\u001B[0;34m(self, timeout)\u001B[0m\n\u001B[1;32m    760\u001B[0m \u001B[0;34m\u001B[0m\u001B[0m\n\u001B[1;32m    761\u001B[0m     \u001B[0;32mdef\u001B[0m \u001B[0mwait\u001B[0m\u001B[0;34m(\u001B[0m\u001B[0mself\u001B[0m\u001B[0;34m,\u001B[0m \u001B[0mtimeout\u001B[0m\u001B[0;34m=\u001B[0m\u001B[0;32mNone\u001B[0m\u001B[0;34m)\u001B[0m\u001B[0;34m:\u001B[0m\u001B[0;34m\u001B[0m\u001B[0;34m\u001B[0m\u001B[0m\n\u001B[0;32m--> 762\u001B[0;31m         \u001B[0mself\u001B[0m\u001B[0;34m.\u001B[0m\u001B[0m_event\u001B[0m\u001B[0;34m.\u001B[0m\u001B[0mwait\u001B[0m\u001B[0;34m(\u001B[0m\u001B[0mtimeout\u001B[0m\u001B[0;34m)\u001B[0m\u001B[0;34m\u001B[0m\u001B[0;34m\u001B[0m\u001B[0m\n\u001B[0m\u001B[1;32m    763\u001B[0m \u001B[0;34m\u001B[0m\u001B[0m\n\u001B[1;32m    764\u001B[0m     \u001B[0;32mdef\u001B[0m \u001B[0mget\u001B[0m\u001B[0;34m(\u001B[0m\u001B[0mself\u001B[0m\u001B[0;34m,\u001B[0m \u001B[0mtimeout\u001B[0m\u001B[0;34m=\u001B[0m\u001B[0;32mNone\u001B[0m\u001B[0;34m)\u001B[0m\u001B[0;34m:\u001B[0m\u001B[0;34m\u001B[0m\u001B[0;34m\u001B[0m\u001B[0m\n",
      "\u001B[0;32m/Library/Frameworks/Python.framework/Versions/3.9/lib/python3.9/threading.py\u001B[0m in \u001B[0;36mwait\u001B[0;34m(self, timeout)\u001B[0m\n\u001B[1;32m    572\u001B[0m             \u001B[0msignaled\u001B[0m \u001B[0;34m=\u001B[0m \u001B[0mself\u001B[0m\u001B[0;34m.\u001B[0m\u001B[0m_flag\u001B[0m\u001B[0;34m\u001B[0m\u001B[0;34m\u001B[0m\u001B[0m\n\u001B[1;32m    573\u001B[0m             \u001B[0;32mif\u001B[0m \u001B[0;32mnot\u001B[0m \u001B[0msignaled\u001B[0m\u001B[0;34m:\u001B[0m\u001B[0;34m\u001B[0m\u001B[0;34m\u001B[0m\u001B[0m\n\u001B[0;32m--> 574\u001B[0;31m                 \u001B[0msignaled\u001B[0m \u001B[0;34m=\u001B[0m \u001B[0mself\u001B[0m\u001B[0;34m.\u001B[0m\u001B[0m_cond\u001B[0m\u001B[0;34m.\u001B[0m\u001B[0mwait\u001B[0m\u001B[0;34m(\u001B[0m\u001B[0mtimeout\u001B[0m\u001B[0;34m)\u001B[0m\u001B[0;34m\u001B[0m\u001B[0;34m\u001B[0m\u001B[0m\n\u001B[0m\u001B[1;32m    575\u001B[0m             \u001B[0;32mreturn\u001B[0m \u001B[0msignaled\u001B[0m\u001B[0;34m\u001B[0m\u001B[0;34m\u001B[0m\u001B[0m\n\u001B[1;32m    576\u001B[0m \u001B[0;34m\u001B[0m\u001B[0m\n",
      "\u001B[0;32m/Library/Frameworks/Python.framework/Versions/3.9/lib/python3.9/threading.py\u001B[0m in \u001B[0;36mwait\u001B[0;34m(self, timeout)\u001B[0m\n\u001B[1;32m    310\u001B[0m         \u001B[0;32mtry\u001B[0m\u001B[0;34m:\u001B[0m    \u001B[0;31m# restore state no matter what (e.g., KeyboardInterrupt)\u001B[0m\u001B[0;34m\u001B[0m\u001B[0;34m\u001B[0m\u001B[0m\n\u001B[1;32m    311\u001B[0m             \u001B[0;32mif\u001B[0m \u001B[0mtimeout\u001B[0m \u001B[0;32mis\u001B[0m \u001B[0;32mNone\u001B[0m\u001B[0;34m:\u001B[0m\u001B[0;34m\u001B[0m\u001B[0;34m\u001B[0m\u001B[0m\n\u001B[0;32m--> 312\u001B[0;31m                 \u001B[0mwaiter\u001B[0m\u001B[0;34m.\u001B[0m\u001B[0macquire\u001B[0m\u001B[0;34m(\u001B[0m\u001B[0;34m)\u001B[0m\u001B[0;34m\u001B[0m\u001B[0;34m\u001B[0m\u001B[0m\n\u001B[0m\u001B[1;32m    313\u001B[0m                 \u001B[0mgotit\u001B[0m \u001B[0;34m=\u001B[0m \u001B[0;32mTrue\u001B[0m\u001B[0;34m\u001B[0m\u001B[0;34m\u001B[0m\u001B[0m\n\u001B[1;32m    314\u001B[0m             \u001B[0;32melse\u001B[0m\u001B[0;34m:\u001B[0m\u001B[0;34m\u001B[0m\u001B[0;34m\u001B[0m\u001B[0m\n",
      "\u001B[0;31mKeyboardInterrupt\u001B[0m: "
     ]
    }
   ],
   "source": [
    "def weighted_sample_UECM(G, output_path):\n",
    "    g_array = nx.to_numpy_array(G.to_undirected())\n",
    "\n",
    "    UG = UndirectedGraph(g_array)\n",
    "    UG.solve_tool(model=\"crema\",\n",
    "                  method=\"newton\",\n",
    "                  initial_guess=\"random\",\n",
    "                  adjacency=\"cm_exp\",\n",
    "                  method_adjacency=\"newton\")\n",
    "    ## increase step until finding a small enough relative_error_strength\n",
    "    global max_relative_error_strength\n",
    "    step = 200\n",
    "    current_max = 100\n",
    "    while UG.relative_error_strength > max_relative_error_strength:\n",
    "        current_max+=step\n",
    "        UG.solve_tool(model=\"crema\",\n",
    "                      method=\"newton\",\n",
    "                      initial_guess=\"random\",\n",
    "                      adjacency=\"cm_exp\",\n",
    "                      method_adjacency=\"newton\", max_steps=current_max)\n",
    "    print(UG.relative_error_strength)\n",
    "\n",
    "    global sample_count\n",
    "    UG.ensemble_sampler(sample_count, cpu_n=1, output_dir=output_path)\n",
    "\n",
    "def weighted_sample_DECM(G, output_path):\n",
    "    g_array = nx.to_numpy_array(G)\n",
    "    DG = DirectedGraph(g_array)\n",
    "    DG.solve_tool(model=\"crema\",\n",
    "                  method=\"newton\",\n",
    "                  initial_guess=\"random\",\n",
    "                  adjacency=\"dcm_exp\",\n",
    "                  method_adjacency=\"newton\")\n",
    "    global max_relative_error_strength\n",
    "    step = 200\n",
    "    current_max = 100\n",
    "    while DG.relative_error_strength > max_relative_error_strength:\n",
    "        current_max+=step\n",
    "        DG.solve_tool(model=\"crema\",\n",
    "                  method=\"newton\",\n",
    "                  initial_guess=\"random\",\n",
    "                  adjacency=\"cm_exp\",\n",
    "                  method_adjacency=\"newton\", max_steps=current_max)\n",
    "    print(DG.relative_error_strength)\n",
    "\n",
    "    global sample_count\n",
    "    DG.ensemble_sampler(sample_count, cpu_n=1, output_dir=output_path)\n",
    "\n",
    "def extract_weighted_samples(path):\n",
    "    nets = []\n",
    "    global sample_count\n",
    "    for i in range(sample_count):\n",
    "        file = path + str(i) + \".txt\"\n",
    "        edges = np.loadtxt(file)\n",
    "        G = nx.Graph()\n",
    "        G.add_weighted_edges_from(edges)\n",
    "        nets.append(G)\n",
    "    return nets\n",
    "\n",
    "def origin_vs_weighted_sample(nets):\n",
    "    original_undirected_sac = []\n",
    "    original_in_in_directed_sac = []\n",
    "    original_in_out_directed_sac = []\n",
    "    original_out_out_directed_sac = []\n",
    "\n",
    "    undirected_avg_sample_sac=[]\n",
    "    directed_avg_in_in_sample_sac = []\n",
    "    directed_avg_in_out_sample_sac = []\n",
    "    directed_avg_out_out_sample_sac = []\n",
    "    for i in range(len(nets_index)):\n",
    "        G = nets[i]\n",
    "        original_undirected_sac.append(nx.degree_assortativity_coefficient(G.to_undirected(),  weight='weight'))\n",
    "        original_in_out_directed_sac.append(nx.degree_pearson_correlation_coefficient(G, x=\"in\", y=\"out\", weight='weight'))\n",
    "        original_in_in_directed_sac.append(nx.degree_pearson_correlation_coefficient(G, x=\"in\", y=\"in\", weight='weight'))\n",
    "        original_out_out_directed_sac.append(nx.degree_pearson_correlation_coefficient(G, x=\"out\", y=\"out\", weight='weight'))\n",
    "\n",
    "        weighted_UECM_path= \"sample_UECM_\" + nets_index[i] + \"/\"\n",
    "        weighted_sample_UECM(G,weighted_UECM_path)\n",
    "\n",
    "        weighted_DECM_path = \"sample_DECM_\" + nets_index[i] + \"/\"\n",
    "        weighted_sample_DECM(G, weighted_DECM_path)\n",
    "\n",
    "        undirected_samples = extract_weighted_samples(weighted_UECM_path)\n",
    "        undirected_samples_sac = []\n",
    "        for sample in undirected_samples:\n",
    "            undirected_samples_sac.append(nx.degree_assortativity_coefficient(sample))\n",
    "        undirected_avg_sample_sac.append(np.mean(undirected_samples_sac))\n",
    "\n",
    "        weighted_samples = extract_weighted_samples(weighted_DECM_path)\n",
    "\n",
    "        directed_in_in_sample_sac = []\n",
    "        directed_in_out_sample_sac = []\n",
    "        directed_out_out_sample_sac = []\n",
    "        for weighted_sample in weighted_samples:\n",
    "            directed_in_out_sample_sac.append(nx.degree_pearson_correlation_coefficient(weighted_sample, x=\"in\", y=\"out\", weight='weight'))\n",
    "            directed_in_in_sample_sac.append(nx.degree_pearson_correlation_coefficient(weighted_sample, x=\"in\", y=\"in\", weight='weight'))\n",
    "            directed_out_out_sample_sac.append(nx.degree_pearson_correlation_coefficient(weighted_sample, x=\"out\", y=\"out\", weight='weight'))\n",
    "        directed_avg_in_in_sample_sac.append(np.mean(directed_in_in_sample_sac))\n",
    "        directed_avg_in_out_sample_sac.append(np.mean(directed_in_out_sample_sac))\n",
    "        directed_avg_out_out_sample_sac.append(np.mean(directed_out_out_sample_sac))\n",
    "\n",
    "    return original_undirected_sac, undirected_avg_sample_sac, original_in_in_directed_sac,directed_avg_in_in_sample_sac,original_in_out_directed_sac,directed_avg_in_out_sample_sac,original_out_out_directed_sac ,directed_avg_out_out_sample_sac\n",
    "original_undirected_sac, undirected_avg_sample_sac, original_in_in_directed_sac,directed_avg_in_in_sample_sac,original_in_out_directed_sac,directed_avg_in_out_sample_sac,original_out_out_directed_sac ,directed_avg_out_out_sample_sac = origin_vs_weighted_sample(nets)"
   ],
   "metadata": {
    "collapsed": false,
    "pycharm": {
     "name": "#%%\n"
    }
   }
  },
  {
   "cell_type": "code",
   "execution_count": 43,
   "outputs": [
    {
     "name": "stdout",
     "output_type": "stream",
     "text": [
      "1992\n",
      "strength_assortativity_coefficient:  -0.05986979308699134\n",
      "\n",
      "\n",
      "1993\n",
      "strength_assortativity_coefficient:  -0.07202068872957713\n",
      "\n",
      "\n",
      "1994\n",
      "strength_assortativity_coefficient:  -0.08022501617948054\n",
      "\n",
      "\n",
      "1995\n",
      "strength_assortativity_coefficient:  -0.07830645801950578\n",
      "\n",
      "\n",
      "1996\n",
      "strength_assortativity_coefficient:  -0.07535502512416228\n",
      "\n",
      "\n",
      "1997\n",
      "strength_assortativity_coefficient:  -0.07171683897072376\n",
      "\n",
      "\n",
      "1998\n",
      "strength_assortativity_coefficient:  -0.06572057397949528\n",
      "\n",
      "\n",
      "1999\n",
      "strength_assortativity_coefficient:  -0.06546711179930209\n",
      "\n",
      "\n",
      "2000\n",
      "strength_assortativity_coefficient:  -0.06539073425903165\n",
      "\n",
      "\n",
      "2001\n",
      "strength_assortativity_coefficient:  -0.06192625961852601\n",
      "\n",
      "\n",
      "2002\n",
      "strength_assortativity_coefficient:  -0.06303814946654555\n",
      "\n",
      "\n"
     ]
    }
   ],
   "source": [
    "weighted_output(nets)"
   ],
   "metadata": {
    "collapsed": false,
    "pycharm": {
     "name": "#%%\n"
    }
   }
  },
  {
   "cell_type": "code",
   "execution_count": 53,
   "outputs": [
    {
     "ename": "ValueError",
     "evalue": "x and y must have same first dimension, but have shapes (11,) and (1,)",
     "output_type": "error",
     "traceback": [
      "\u001B[0;31m---------------------------------------------------------------------------\u001B[0m",
      "\u001B[0;31mValueError\u001B[0m                                Traceback (most recent call last)",
      "\u001B[0;32m/var/folders/2h/fb8n9yjj29b27__wb9rw051c0000gn/T/ipykernel_4106/695771027.py\u001B[0m in \u001B[0;36m<module>\u001B[0;34m\u001B[0m\n\u001B[1;32m      1\u001B[0m \u001B[0mnew_figure\u001B[0m\u001B[0;34m(\u001B[0m\u001B[0;34m)\u001B[0m\u001B[0;34m\u001B[0m\u001B[0;34m\u001B[0m\u001B[0m\n\u001B[1;32m      2\u001B[0m \u001B[0mplt\u001B[0m\u001B[0;34m.\u001B[0m\u001B[0mtitle\u001B[0m\u001B[0;34m(\u001B[0m\u001B[0;34m\"undirected samples strength_assortativity_coefficient\"\u001B[0m\u001B[0;34m)\u001B[0m\u001B[0;34m\u001B[0m\u001B[0;34m\u001B[0m\u001B[0m\n\u001B[0;32m----> 3\u001B[0;31m \u001B[0mplt\u001B[0m\u001B[0;34m.\u001B[0m\u001B[0mplot\u001B[0m\u001B[0;34m(\u001B[0m\u001B[0mnets_index\u001B[0m\u001B[0;34m,\u001B[0m \u001B[0moriginal_undirected_sac\u001B[0m\u001B[0;34m,\u001B[0m \u001B[0mlabel\u001B[0m\u001B[0;34m=\u001B[0m\u001B[0;34m\"real value\"\u001B[0m\u001B[0;34m)\u001B[0m\u001B[0;34m\u001B[0m\u001B[0;34m\u001B[0m\u001B[0m\n\u001B[0m\u001B[1;32m      4\u001B[0m \u001B[0mplt\u001B[0m\u001B[0;34m.\u001B[0m\u001B[0mplot\u001B[0m\u001B[0;34m(\u001B[0m\u001B[0mnets_index\u001B[0m\u001B[0;34m,\u001B[0m \u001B[0mundirected_avg_sample_sac\u001B[0m\u001B[0;34m,\u001B[0m \u001B[0mlabel\u001B[0m\u001B[0;34m=\u001B[0m\u001B[0;34m\"samples avg\"\u001B[0m\u001B[0;34m)\u001B[0m\u001B[0;34m\u001B[0m\u001B[0;34m\u001B[0m\u001B[0m\n\u001B[1;32m      5\u001B[0m \u001B[0mplt\u001B[0m\u001B[0;34m.\u001B[0m\u001B[0mlegend\u001B[0m\u001B[0;34m(\u001B[0m\u001B[0;34m)\u001B[0m\u001B[0;34m\u001B[0m\u001B[0;34m\u001B[0m\u001B[0m\n",
      "\u001B[0;32m~/Documents/study/course/foundation of ds/FDS21-M56/venv/lib/python3.9/site-packages/matplotlib/pyplot.py\u001B[0m in \u001B[0;36mplot\u001B[0;34m(scalex, scaley, data, *args, **kwargs)\u001B[0m\n\u001B[1;32m   3017\u001B[0m \u001B[0;34m@\u001B[0m\u001B[0m_copy_docstring_and_deprecators\u001B[0m\u001B[0;34m(\u001B[0m\u001B[0mAxes\u001B[0m\u001B[0;34m.\u001B[0m\u001B[0mplot\u001B[0m\u001B[0;34m)\u001B[0m\u001B[0;34m\u001B[0m\u001B[0;34m\u001B[0m\u001B[0m\n\u001B[1;32m   3018\u001B[0m \u001B[0;32mdef\u001B[0m \u001B[0mplot\u001B[0m\u001B[0;34m(\u001B[0m\u001B[0;34m*\u001B[0m\u001B[0margs\u001B[0m\u001B[0;34m,\u001B[0m \u001B[0mscalex\u001B[0m\u001B[0;34m=\u001B[0m\u001B[0;32mTrue\u001B[0m\u001B[0;34m,\u001B[0m \u001B[0mscaley\u001B[0m\u001B[0;34m=\u001B[0m\u001B[0;32mTrue\u001B[0m\u001B[0;34m,\u001B[0m \u001B[0mdata\u001B[0m\u001B[0;34m=\u001B[0m\u001B[0;32mNone\u001B[0m\u001B[0;34m,\u001B[0m \u001B[0;34m**\u001B[0m\u001B[0mkwargs\u001B[0m\u001B[0;34m)\u001B[0m\u001B[0;34m:\u001B[0m\u001B[0;34m\u001B[0m\u001B[0;34m\u001B[0m\u001B[0m\n\u001B[0;32m-> 3019\u001B[0;31m     return gca().plot(\n\u001B[0m\u001B[1;32m   3020\u001B[0m         \u001B[0;34m*\u001B[0m\u001B[0margs\u001B[0m\u001B[0;34m,\u001B[0m \u001B[0mscalex\u001B[0m\u001B[0;34m=\u001B[0m\u001B[0mscalex\u001B[0m\u001B[0;34m,\u001B[0m \u001B[0mscaley\u001B[0m\u001B[0;34m=\u001B[0m\u001B[0mscaley\u001B[0m\u001B[0;34m,\u001B[0m\u001B[0;34m\u001B[0m\u001B[0;34m\u001B[0m\u001B[0m\n\u001B[1;32m   3021\u001B[0m         **({\"data\": data} if data is not None else {}), **kwargs)\n",
      "\u001B[0;32m~/Documents/study/course/foundation of ds/FDS21-M56/venv/lib/python3.9/site-packages/matplotlib/axes/_axes.py\u001B[0m in \u001B[0;36mplot\u001B[0;34m(self, scalex, scaley, data, *args, **kwargs)\u001B[0m\n\u001B[1;32m   1603\u001B[0m         \"\"\"\n\u001B[1;32m   1604\u001B[0m         \u001B[0mkwargs\u001B[0m \u001B[0;34m=\u001B[0m \u001B[0mcbook\u001B[0m\u001B[0;34m.\u001B[0m\u001B[0mnormalize_kwargs\u001B[0m\u001B[0;34m(\u001B[0m\u001B[0mkwargs\u001B[0m\u001B[0;34m,\u001B[0m \u001B[0mmlines\u001B[0m\u001B[0;34m.\u001B[0m\u001B[0mLine2D\u001B[0m\u001B[0;34m)\u001B[0m\u001B[0;34m\u001B[0m\u001B[0;34m\u001B[0m\u001B[0m\n\u001B[0;32m-> 1605\u001B[0;31m         \u001B[0mlines\u001B[0m \u001B[0;34m=\u001B[0m \u001B[0;34m[\u001B[0m\u001B[0;34m*\u001B[0m\u001B[0mself\u001B[0m\u001B[0;34m.\u001B[0m\u001B[0m_get_lines\u001B[0m\u001B[0;34m(\u001B[0m\u001B[0;34m*\u001B[0m\u001B[0margs\u001B[0m\u001B[0;34m,\u001B[0m \u001B[0mdata\u001B[0m\u001B[0;34m=\u001B[0m\u001B[0mdata\u001B[0m\u001B[0;34m,\u001B[0m \u001B[0;34m**\u001B[0m\u001B[0mkwargs\u001B[0m\u001B[0;34m)\u001B[0m\u001B[0;34m]\u001B[0m\u001B[0;34m\u001B[0m\u001B[0;34m\u001B[0m\u001B[0m\n\u001B[0m\u001B[1;32m   1606\u001B[0m         \u001B[0;32mfor\u001B[0m \u001B[0mline\u001B[0m \u001B[0;32min\u001B[0m \u001B[0mlines\u001B[0m\u001B[0;34m:\u001B[0m\u001B[0;34m\u001B[0m\u001B[0;34m\u001B[0m\u001B[0m\n\u001B[1;32m   1607\u001B[0m             \u001B[0mself\u001B[0m\u001B[0;34m.\u001B[0m\u001B[0madd_line\u001B[0m\u001B[0;34m(\u001B[0m\u001B[0mline\u001B[0m\u001B[0;34m)\u001B[0m\u001B[0;34m\u001B[0m\u001B[0;34m\u001B[0m\u001B[0m\n",
      "\u001B[0;32m~/Documents/study/course/foundation of ds/FDS21-M56/venv/lib/python3.9/site-packages/matplotlib/axes/_base.py\u001B[0m in \u001B[0;36m__call__\u001B[0;34m(self, data, *args, **kwargs)\u001B[0m\n\u001B[1;32m    313\u001B[0m                 \u001B[0mthis\u001B[0m \u001B[0;34m+=\u001B[0m \u001B[0margs\u001B[0m\u001B[0;34m[\u001B[0m\u001B[0;36m0\u001B[0m\u001B[0;34m]\u001B[0m\u001B[0;34m,\u001B[0m\u001B[0;34m\u001B[0m\u001B[0;34m\u001B[0m\u001B[0m\n\u001B[1;32m    314\u001B[0m                 \u001B[0margs\u001B[0m \u001B[0;34m=\u001B[0m \u001B[0margs\u001B[0m\u001B[0;34m[\u001B[0m\u001B[0;36m1\u001B[0m\u001B[0;34m:\u001B[0m\u001B[0;34m]\u001B[0m\u001B[0;34m\u001B[0m\u001B[0;34m\u001B[0m\u001B[0m\n\u001B[0;32m--> 315\u001B[0;31m             \u001B[0;32myield\u001B[0m \u001B[0;32mfrom\u001B[0m \u001B[0mself\u001B[0m\u001B[0;34m.\u001B[0m\u001B[0m_plot_args\u001B[0m\u001B[0;34m(\u001B[0m\u001B[0mthis\u001B[0m\u001B[0;34m,\u001B[0m \u001B[0mkwargs\u001B[0m\u001B[0;34m)\u001B[0m\u001B[0;34m\u001B[0m\u001B[0;34m\u001B[0m\u001B[0m\n\u001B[0m\u001B[1;32m    316\u001B[0m \u001B[0;34m\u001B[0m\u001B[0m\n\u001B[1;32m    317\u001B[0m     \u001B[0;32mdef\u001B[0m \u001B[0mget_next_color\u001B[0m\u001B[0;34m(\u001B[0m\u001B[0mself\u001B[0m\u001B[0;34m)\u001B[0m\u001B[0;34m:\u001B[0m\u001B[0;34m\u001B[0m\u001B[0;34m\u001B[0m\u001B[0m\n",
      "\u001B[0;32m~/Documents/study/course/foundation of ds/FDS21-M56/venv/lib/python3.9/site-packages/matplotlib/axes/_base.py\u001B[0m in \u001B[0;36m_plot_args\u001B[0;34m(self, tup, kwargs, return_kwargs)\u001B[0m\n\u001B[1;32m    499\u001B[0m \u001B[0;34m\u001B[0m\u001B[0m\n\u001B[1;32m    500\u001B[0m         \u001B[0;32mif\u001B[0m \u001B[0mx\u001B[0m\u001B[0;34m.\u001B[0m\u001B[0mshape\u001B[0m\u001B[0;34m[\u001B[0m\u001B[0;36m0\u001B[0m\u001B[0;34m]\u001B[0m \u001B[0;34m!=\u001B[0m \u001B[0my\u001B[0m\u001B[0;34m.\u001B[0m\u001B[0mshape\u001B[0m\u001B[0;34m[\u001B[0m\u001B[0;36m0\u001B[0m\u001B[0;34m]\u001B[0m\u001B[0;34m:\u001B[0m\u001B[0;34m\u001B[0m\u001B[0;34m\u001B[0m\u001B[0m\n\u001B[0;32m--> 501\u001B[0;31m             raise ValueError(f\"x and y must have same first dimension, but \"\n\u001B[0m\u001B[1;32m    502\u001B[0m                              f\"have shapes {x.shape} and {y.shape}\")\n\u001B[1;32m    503\u001B[0m         \u001B[0;32mif\u001B[0m \u001B[0mx\u001B[0m\u001B[0;34m.\u001B[0m\u001B[0mndim\u001B[0m \u001B[0;34m>\u001B[0m \u001B[0;36m2\u001B[0m \u001B[0;32mor\u001B[0m \u001B[0my\u001B[0m\u001B[0;34m.\u001B[0m\u001B[0mndim\u001B[0m \u001B[0;34m>\u001B[0m \u001B[0;36m2\u001B[0m\u001B[0;34m:\u001B[0m\u001B[0;34m\u001B[0m\u001B[0;34m\u001B[0m\u001B[0m\n",
      "\u001B[0;31mValueError\u001B[0m: x and y must have same first dimension, but have shapes (11,) and (1,)"
     ]
    },
    {
     "data": {
      "text/plain": "<Figure size 432x288 with 1 Axes>",
      "image/png": "[encoded data removed]"
     },
     "metadata": {
      "needs_background": "light"
     },
     "output_type": "display_data"
    }
   ],
   "source": [
    "new_figure()\n",
    "plt.title(\"undirected samples strength_assortativity_coefficient\")\n",
    "plt.plot(nets_index, original_undirected_sac, label=\"real value\")\n",
    "plt.plot(nets_index, undirected_avg_sample_sac, label=\"samples avg\")\n",
    "plt.legend()\n",
    "\n",
    "new_figure()\n",
    "plt.title(\"directed samples in-in strength_assortativity_coefficient\")\n",
    "plt.plot(nets_index, original_in_in_directed_sac, label=\"real value\")\n",
    "plt.plot(nets_index, directed_avg_in_in_sample_sac, label=\"samples avg\")\n",
    "plt.legend()\n",
    "\n",
    "new_figure()\n",
    "plt.title(\"directed samples in-out strength_assortativity_coefficient\")\n",
    "plt.plot(nets_index, original_in_out_directed_sac, label=\"real value\")\n",
    "plt.plot(nets_index, directed_avg_in_out_sample_sac, label=\"samples avg\")\n",
    "plt.legend()\n",
    "\n",
    "new_figure()\n",
    "plt.title(\"directed samples out-out strength_assortativity_coefficient\")\n",
    "plt.plot(nets_index, original_out_out_directed_sac, label=\"real value\")\n",
    "plt.plot(nets_index, directed_avg_out_out_sample_sac, label=\"samples avg\")\n",
    "plt.legend()\n",
    "\n"
   ],
   "metadata": {
    "collapsed": false,
    "pycharm": {
     "name": "#%%\n"
    }
   }
  },
  {
   "cell_type": "code",
   "execution_count": null,
   "outputs": [],
   "source": [],
   "metadata": {
    "collapsed": false,
    "pycharm": {
     "name": "#%%\n"
    }
   }
  }
 ],
 "metadata": {
  "kernelspec": {
   "display_name": "Python 3",
   "language": "python",
   "name": "python3"
  },
  "language_info": {
   "codemirror_mode": {
    "name": "ipython",
    "version": 2
   },
   "file_extension": ".py",
   "mimetype": "text/x-python",
   "name": "python",
   "nbconvert_exporter": "python",
   "pygments_lexer": "ipython2",
   "version": "2.7.6"
  }
 },
 "nbformat": 4,
 "nbformat_minor": 0
}