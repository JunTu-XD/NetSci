{
 "cells": [
  {
   "cell_type": "code",
   "execution_count": null,
   "metadata": {},
   "outputs": [],
   "source": []
  },
  {
   "cell_type": "code",
   "execution_count": 1,
   "metadata": {
    "pycharm": {
     "name": "#%%\n"
    }
   },
   "outputs": [],
   "source": [
    "# Jun Tu 21-732-722\n",
    "# Guanda Zhao 21-716-345"
   ]
  },
  {
   "cell_type": "code",
   "execution_count": 2,
   "metadata": {
    "pycharm": {
     "name": "#%%\n"
    }
   },
   "outputs": [],
   "source": [
    "import matplotlib.pyplot as plt\n",
    "import numpy as np\n",
    "from NEMtropy import UndirectedGraph, DirectedGraph\n",
    "from NEMtropy.network_functions import build_adjacency_from_edgelist\n",
    "import networkx as nx\n",
    "\n",
    "path = \"Data/\"\n",
    "\n",
    "nets = []\n",
    "nets_index = [str(i) for i in range(1992, 2003)]\n",
    "for index in nets_index:\n",
    "    gml_file = path + 'WDN_' +index +\".txt.graphml\"\n",
    "    G = nx.read_graphml(gml_file)\n",
    "    nets.append(G)\n",
    "figure_index = 10\n",
    "def new_figure():\n",
    "    global figure_index\n",
    "    plt.figure(figure_index)\n",
    "    figure_index+=1"
   ]
  },
  {
   "cell_type": "code",
   "execution_count": 3,
   "metadata": {
    "pycharm": {
     "name": "#%%\n"
    }
   },
   "outputs": [],
   "source": [
    "### A06.1 code\n",
    "def avg_nets_clustering(nets):\n",
    "    clustering_coes = []\n",
    "    for G in nets:\n",
    "        clustering_coes.append(nx.average_clustering(G))\n",
    "    return clustering_coes\n",
    "def avg_nets_reciprocity(nets):\n",
    "    reci_coes = []\n",
    "    for G in nets:\n",
    "        reci_coes.append(nx.reciprocity(G))\n",
    "    return reci_coes\n",
    "def output(nets):\n",
    "    clusterings = avg_nets_clustering(nets)\n",
    "    reciprocities = avg_nets_reciprocity(nets)\n",
    "    for i in range(0, len(nets_index)):\n",
    "        print(\"WDN_\"+nets_index[i])\n",
    "        print(\"average_clustering: \" , clusterings[i])\n",
    "        print(\"reciprocities: \", reciprocities[i])\n",
    "        print(\"\\n\")"
   ]
  },
  {
   "cell_type": "code",
   "execution_count": 4,
   "metadata": {
    "pycharm": {
     "name": "#%%\n"
    }
   },
   "outputs": [
    {
     "name": "stderr",
     "output_type": "stream",
     "text": [
      "C:\\Users\\zhaog\\anaconda3\\lib\\site-packages\\numba\\core\\utils.py:451: NumbaExperimentalFeatureWarning: \u001b[1mFirst-class function type feature is experimental\u001b[0m\n",
      "  warnings.warn(\"First-class function type feature is experimental\",\n",
      "C:\\Users\\zhaog\\anaconda3\\lib\\site-packages\\NEMtropy\\models_functions.py:461: NumbaExperimentalFeatureWarning: \u001b[1m\u001b[1mFirst-class function type feature is experimental\u001b[0m\u001b[0m\n",
      "  step_fun = args[0]\n",
      "C:\\Users\\zhaog\\anaconda3\\lib\\site-packages\\NEMtropy\\models_functions.py:462: NumbaExperimentalFeatureWarning: \u001b[1m\u001b[1mFirst-class function type feature is experimental\u001b[0m\u001b[0m\n",
      "  arg_step_fun = args[1]\n",
      "C:\\Users\\zhaog\\anaconda3\\lib\\site-packages\\numba\\core\\utils.py:451: NumbaExperimentalFeatureWarning: \u001b[1mFirst-class function type feature is experimental\u001b[0m\n",
      "  warnings.warn(\"First-class function type feature is experimental\",\n"
     ]
    },
    {
     "name": "stdout",
     "output_type": "stream",
     "text": [
      "\n",
      "solution error = 7.323535555769922e-09\n"
     ]
    },
    {
     "name": "stderr",
     "output_type": "stream",
     "text": [
      "C:\\Users\\zhaog\\anaconda3\\lib\\site-packages\\numba\\core\\utils.py:451: NumbaExperimentalFeatureWarning: \u001b[1mFirst-class function type feature is experimental\u001b[0m\n",
      "  warnings.warn(\"First-class function type feature is experimental\",\n",
      "C:\\Users\\zhaog\\anaconda3\\lib\\site-packages\\NEMtropy\\models_functions.py:3181: NumbaExperimentalFeatureWarning: \u001b[1m\u001b[1mFirst-class function type feature is experimental\u001b[0m\u001b[0m\n",
      "  step_fun = args[0]\n",
      "C:\\Users\\zhaog\\anaconda3\\lib\\site-packages\\NEMtropy\\models_functions.py:3182: NumbaExperimentalFeatureWarning: \u001b[1m\u001b[1mFirst-class function type feature is experimental\u001b[0m\u001b[0m\n",
      "  arg_step_fun = args[1]\n",
      "C:\\Users\\zhaog\\anaconda3\\lib\\site-packages\\numba\\core\\utils.py:451: NumbaExperimentalFeatureWarning: \u001b[1mFirst-class function type feature is experimental\u001b[0m\n",
      "  warnings.warn(\"First-class function type feature is experimental\",\n"
     ]
    },
    {
     "name": "stdout",
     "output_type": "stream",
     "text": [
      "\n",
      "solution error = 1.870745336418622e-09\n"
     ]
    },
    {
     "name": "stderr",
     "output_type": "stream",
     "text": [
      "C:\\Users\\zhaog\\anaconda3\\lib\\site-packages\\numba\\core\\utils.py:451: NumbaExperimentalFeatureWarning: \u001b[1mFirst-class function type feature is experimental\u001b[0m\n",
      "  warnings.warn(\"First-class function type feature is experimental\",\n"
     ]
    },
    {
     "name": "stdout",
     "output_type": "stream",
     "text": [
      "\n",
      "solution error = 4.7442654249607585e-09\n",
      "\n",
      "solution error = 4.961201227615675e-09\n",
      "\n",
      "solution error = 4.038980705445283e-09\n",
      "\n",
      "solution error = 4.1926213611986896e-09\n",
      "\n",
      "solution error = 2.780694785542437e-09\n",
      "\n",
      "solution error = 4.125070063309977e-09\n",
      "\n",
      "solution error = 2.51287701757974e-09\n",
      "\n",
      "solution error = 2.9767477371933637e-09\n",
      "\n",
      "solution error = 1.204313093694509e-09\n",
      "\n",
      "solution error = 3.0930209504731465e-09\n",
      "\n",
      "solution error = 2.741387561400188e-09\n",
      "\n",
      "solution error = 2.580478053459956e-09\n",
      "\n",
      "solution error = 9.668212896940531e-10\n",
      "\n",
      "solution error = 3.283503247075714e-09\n",
      "\n",
      "solution error = 2.9986892968736356e-09\n",
      "\n",
      "solution error = 2.0570354308802052e-09\n",
      "\n",
      "solution error = 4.6516106522176415e-09\n",
      "\n",
      "solution error = 6.056023238443231e-09\n",
      "\n",
      "solution error = 1.9470292045298265e-09\n",
      "\n",
      "solution error = 3.8544101244042395e-09\n"
     ]
    }
   ],
   "source": [
    "sample_count = 10\n",
    "max_relative_error_strength = 0.01\n",
    "def sample_UBCM(G:nx.Graph, output_path):\n",
    "    g_array = nx.to_numpy_array(G.to_undirected())\n",
    "    UG = UndirectedGraph(g_array)\n",
    "    UG.solve_tool(model=\"cm_exp\")\n",
    "    global sample_count\n",
    "    UG.ensemble_sampler(sample_count, cpu_n=1, output_dir=output_path)\n",
    "\n",
    "def sample_DBCM(G, output_path):\n",
    "    g_array = nx.to_numpy_array(G)\n",
    "    DG = DirectedGraph(g_array)\n",
    "    DG.solve_tool(model=\"dcm_exp\")\n",
    "\n",
    "    global sample_count\n",
    "    DG.ensemble_sampler(sample_count, cpu_n=1, output_dir=output_path)\n",
    "\n",
    "def extract_samples(path, directed):\n",
    "    nets = []\n",
    "    global sample_count\n",
    "    for i in range(sample_count):\n",
    "        file = path + str(i) + \".txt\"\n",
    "        edges = np.loadtxt(file)\n",
    "        if (directed):\n",
    "            G = nx.from_numpy_array(build_adjacency_from_edgelist(edgelist = edges,\n",
    "                                                                  is_directed = True,\n",
    "                                                                  is_sparse = False,\n",
    "                                                                  is_weighted = True),\n",
    "                                    create_using=nx.DiGraph)\n",
    "            nets.append(G)\n",
    "        else:\n",
    "            edges = np.loadtxt(file)\n",
    "            G = nx.from_numpy_array(build_adjacency_from_edgelist(edges,is_directed = False,\n",
    "                                                                  is_sparse = False,\n",
    "                                                                  is_weighted = True))\n",
    "            nets.append(G)\n",
    "    return nets\n",
    "\n",
    "def origin_vs_sample(nets):\n",
    "    original_clustering_t = []\n",
    "    original_undirected_clustering_t= []\n",
    "    original_reci_t = []\n",
    "\n",
    "    undirected_sample_clustering_t = []\n",
    "    directed_sample_clustering_t =[]\n",
    "    sample_reci_t = []\n",
    "\n",
    "    for i in range(len(nets_index)):\n",
    "        G = nets[i]\n",
    "\n",
    "        original_clustering_t.append(nx.average_clustering(G))\n",
    "        original_reci_t.append(nx.average_clustering(G))\n",
    "        original_undirected_clustering_t.append(nx.average_clustering(G.to_undirected()))\n",
    "\n",
    "        DBCM_path=\"sample_DBCM_\" + nets_index[i] + \"/\"\n",
    "        UBCM_path=\"sample_UBCM_\" + nets_index[i] + \"/\"\n",
    "\n",
    "        sample_UBCM(G, UBCM_path)\n",
    "        sample_DBCM(G, DBCM_path)\n",
    "        DBCM_samples = extract_samples(DBCM_path, True)\n",
    "        UBCM_samples = extract_samples(UBCM_path, False)\n",
    "\n",
    "\n",
    "        undirected_sample_clusterings=[]\n",
    "        for sample in UBCM_samples:\n",
    "            undirected_sample_clusterings.append(nx.average_clustering(sample))\n",
    "        undirected_sample_clustering_t.append(np.mean(undirected_sample_clusterings))\n",
    "\n",
    "        directed_sample_clusterings = []\n",
    "        sample_reciprocities = []\n",
    "        for sample in DBCM_samples:\n",
    "            directed_sample_clusterings.append(nx.average_clustering(sample))\n",
    "            sample_reciprocities.append(nx.reciprocity(sample))\n",
    "        directed_sample_clustering_t.append(np.mean(directed_sample_clusterings))\n",
    "        sample_reci_t.append(np.mean(sample_reciprocities))\n",
    "\n",
    "    return original_undirected_clustering_t, undirected_sample_clustering_t, original_clustering_t, directed_sample_clustering_t, original_reci_t,sample_reci_t\n",
    "\n",
    "original_undirected_clustering_t, undirected_sample_clustering_t, original_clustering_t, directed_sample_clustering_t, original_reci_t, sample_reci_t = origin_vs_sample(nets)"
   ]
  },
  {
   "cell_type": "markdown",
   "metadata": {},
   "source": [
    "### A06.1  - 1 coefficients"
   ]
  },
  {
   "cell_type": "code",
   "execution_count": 5,
   "metadata": {
    "pycharm": {
     "name": "#%%\n"
    }
   },
   "outputs": [
    {
     "name": "stdout",
     "output_type": "stream",
     "text": [
      "WDN_1992\n",
      "average_clustering:  0.8021364732946835\n",
      "reciprocities:  0.367340010185028\n",
      "\n",
      "\n",
      "WDN_1993\n",
      "average_clustering:  0.7826552252417198\n",
      "reciprocities:  0.430931744312026\n",
      "\n",
      "\n",
      "WDN_1994\n",
      "average_clustering:  0.778118724128831\n",
      "reciprocities:  0.541138903672166\n",
      "\n",
      "\n",
      "WDN_1995\n",
      "average_clustering:  0.769316598518603\n",
      "reciprocities:  0.6043664931031333\n",
      "\n",
      "\n",
      "WDN_1996\n",
      "average_clustering:  0.779859983253989\n",
      "reciprocities:  0.6482433229421182\n",
      "\n",
      "\n",
      "WDN_1997\n",
      "average_clustering:  0.7844618494148852\n",
      "reciprocities:  0.6822429906542056\n",
      "\n",
      "\n",
      "WDN_1998\n",
      "average_clustering:  0.7913458153848136\n",
      "reciprocities:  0.7015887290167866\n",
      "\n",
      "\n",
      "WDN_1999\n",
      "average_clustering:  0.7946922756897296\n",
      "reciprocities:  0.716582186821144\n",
      "\n",
      "\n",
      "WDN_2000\n",
      "average_clustering:  0.7928732278480053\n",
      "reciprocities:  0.7232351897836112\n",
      "\n",
      "\n",
      "WDN_2001\n",
      "average_clustering:  0.8020845961993215\n",
      "reciprocities:  0.7375525101577026\n",
      "\n",
      "\n",
      "WDN_2002\n",
      "average_clustering:  0.7955013137787762\n",
      "reciprocities:  0.7041909280425562\n",
      "\n",
      "\n"
     ]
    }
   ],
   "source": [
    "output(nets)"
   ]
  },
  {
   "cell_type": "markdown",
   "metadata": {},
   "source": [
    "### A06.1 - 3 plot"
   ]
  },
  {
   "cell_type": "code",
   "execution_count": 6,
   "metadata": {
    "pycharm": {
     "name": "#%%\n"
    }
   },
   "outputs": [
    {
     "data": {
      "text/plain": [
       "<matplotlib.legend.Legend at 0x1c3df9388b0>"
      ]
     },
     "execution_count": 6,
     "metadata": {},
     "output_type": "execute_result"
    },
    {
     "data": {
      "image/png": "[encoded data removed]",
      "text/plain": [
       "<Figure size 432x288 with 1 Axes>"
      ]
     },
     "metadata": {
      "needs_background": "light"
     },
     "output_type": "display_data"
    },
    {
     "data": {
      "image/png": "[encoded data removed]",
      "text/plain": [
       "<Figure size 432x288 with 1 Axes>"
      ]
     },
     "metadata": {
      "needs_background": "light"
     },
     "output_type": "display_data"
    },
    {
     "data": {
      "image/png": "[encoded data removed]",
      "text/plain": [
       "<Figure size 432x288 with 1 Axes>"
      ]
     },
     "metadata": {
      "needs_background": "light"
     },
     "output_type": "display_data"
    }
   ],
   "source": [
    "new_figure()\n",
    "plt.title(\"DBCM samples avg_clustering vs original\")\n",
    "plt.plot(nets_index, undirected_sample_clustering_t, label = \"sample's avg\")\n",
    "plt.plot(nets_index, original_undirected_clustering_t, label = \"original\")\n",
    "plt.legend()\n",
    "\n",
    "new_figure()\n",
    "plt.title(\"DBCM samples avg_clustering vs original\")\n",
    "plt.plot(nets_index, directed_sample_clustering_t, label = \"sample's avg\")\n",
    "plt.plot(nets_index, original_clustering_t, label = \"original\")\n",
    "plt.legend()\n",
    "\n",
    "new_figure()\n",
    "plt.title(\"DBCM samples avg_reciprocities vs original\")\n",
    "plt.plot(nets_index, sample_reci_t, label = \"sample's avg\")\n",
    "plt.plot(nets_index, original_reci_t, label = \"original\")\n",
    "plt.legend()"
   ]
  },
  {
   "cell_type": "code",
   "execution_count": 7,
   "metadata": {
    "pycharm": {
     "name": "#%%\n"
    }
   },
   "outputs": [],
   "source": [
    "### A06.2 code\n",
    "def strength_assortativity_coefficient(nets):\n",
    "    sac_list = []\n",
    "    for G in nets:\n",
    "        sac_list.append(nx.degree_pearson_correlation_coefficient(G, weight='weight'))\n",
    "    return sac_list\n",
    "\n",
    "def weighted_output(nets):\n",
    "    sac_list = strength_assortativity_coefficient(nets)\n",
    "    for i in range(0, len(nets_index)):\n",
    "        print(\"WDN_\"+nets_index[i])\n",
    "        print(\"strength_assortativity_coefficient: \" , sac_list[i])\n",
    "        print(\"\\n\")"
   ]
  },
  {
   "cell_type": "code",
   "execution_count": 9,
   "metadata": {
    "pycharm": {
     "name": "#%%\n"
    }
   },
   "outputs": [
    {
     "name": "stderr",
     "output_type": "stream",
     "text": [
      "C:\\Users\\zhaog\\anaconda3\\lib\\site-packages\\numba\\core\\utils.py:451: NumbaExperimentalFeatureWarning: \u001b[1mFirst-class function type feature is experimental\u001b[0m\n",
      "  warnings.warn(\"First-class function type feature is experimental\",\n"
     ]
    },
    {
     "name": "stdout",
     "output_type": "stream",
     "text": [
      "\n",
      "solution error = 351659451279.33875\n",
      "\n",
      "solution error = 352726670221.0042\n",
      "\n",
      "solution error = 306914338109.9834\n",
      "\n",
      "solution error = 123959017276.3356\n",
      "\n",
      "solution error = 0.41223164787516\n",
      "1.1743414076405525e-07\n",
      "\n",
      "solution error = 342057922221.5401\n",
      "\n",
      "solution error = 339749835191.6042\n",
      "\n",
      "solution error = 331109706487.4485\n",
      "\n",
      "solution error = 276845801223.1081\n",
      "\n",
      "solution error = 189630882480.966\n",
      "\n",
      "solution error = 1060761.7469482422\n",
      "6.45370159319716e-05\n",
      "\n",
      "solution error = 297684140794.90283\n",
      "\n",
      "solution error = 384510210265.4139\n",
      "\n",
      "solution error = 335834087131.2062\n",
      "\n",
      "solution error = 175504214389.71887\n",
      "\n",
      "solution error = 0.02849205955862999\n",
      "8.170051987088865e-09\n",
      "\n",
      "solution error = 360863583538.9091\n",
      "\n",
      "solution error = 359511449705.01483\n",
      "\n",
      "solution error = 351160544958.60815\n",
      "\n",
      "solution error = 333584304326.7897\n",
      "\n",
      "solution error = 182197556835.44308\n",
      "\n",
      "solution error = 41916928672.38269\n",
      "\n",
      "solution error = 395181.29693603516\n",
      "8.226995607646722e-06\n",
      "\n",
      "solution error = 233880934417.65814\n",
      "\n",
      "solution error = 371494622468.53644\n",
      "\n",
      "solution error = 303184564681.2561\n",
      "\n",
      "solution error = 174642546797.3227\n",
      "\n",
      "solution error = 2.919053841382265\n",
      "3.0419989674508626e-07\n",
      "\n",
      "solution error = 406268781575.05206\n",
      "\n",
      "solution error = 405136055696.9426\n",
      "\n",
      "solution error = 384430842514.0636\n",
      "\n",
      "solution error = 381269116954.7502\n",
      "\n",
      "solution error = 272783783500.26456\n",
      "\n",
      "solution error = 97941226134.8681\n",
      "\n",
      "solution error = 190298.44860839844\n",
      "8.144705993466396e-06\n",
      "\n",
      "solution error = 477458792907.7812\n",
      "\n",
      "solution error = 470141758724.8359\n",
      "\n",
      "solution error = 418696848637.5206\n",
      "\n",
      "solution error = 287696902034.1587\n",
      "\n",
      "solution error = 2906.4804656654596\n",
      "2.643879440420779e-05\n",
      "\n",
      "solution error = 451929765108.5693\n",
      "\n",
      "solution error = 449874535930.164\n",
      "\n",
      "solution error = 526146176721.1538\n",
      "\n",
      "solution error = 418045936194.10236\n",
      "\n",
      "solution error = 374267358830.47595\n",
      "\n",
      "solution error = 576606518989.9825\n",
      "\n",
      "solution error = 16779044.956797205\n",
      "\n",
      "solution error = 484536.36114501953\n",
      "1.1026719132300172e-06\n",
      "\n",
      "solution error = 482526143879.40375\n",
      "\n",
      "solution error = 475876040183.6784\n",
      "\n",
      "solution error = 421389151553.9534\n",
      "\n",
      "solution error = 320637613219.95276\n",
      "\n",
      "solution error = 177.0655039101839\n",
      "9.633988581808656e-06\n",
      "\n",
      "solution error = 471633038651.49133\n",
      "\n",
      "solution error = 469883117199.8746\n",
      "\n",
      "solution error = 464818764295.0653\n",
      "\n",
      "solution error = 448908755121.71313\n",
      "\n",
      "solution error = 393649624651.42535\n",
      "\n",
      "solution error = 273499559924.0699\n",
      "\n",
      "solution error = 293614.0121459961\n",
      "0.00014491918403139302\n",
      "\n",
      "solution error = 1804426664294.6155\n",
      "\n",
      "solution error = 504083045652.67004\n",
      "\n",
      "solution error = 472385796983.8612\n",
      "\n",
      "solution error = 271413885873.60464\n",
      "\n",
      "solution error = 408.9303789511323\n",
      "1.8082214279728554e-05\n",
      "\n",
      "solution error = 505384713967.37524\n",
      "\n",
      "solution error = 494091874047.79956\n",
      "\n",
      "solution error = 497414950986.7687\n",
      "\n",
      "solution error = 477634045671.4533\n",
      "\n",
      "solution error = 436315727211.0994\n",
      "\n",
      "solution error = 306165864083.7296\n",
      "\n",
      "solution error = 64865477086.50897\n",
      "\n",
      "solution error = 138816.50286865234\n",
      "0.00020454583678787542\n",
      "\n",
      "solution error = 514435375608.1027\n",
      "\n",
      "solution error = 505529624033.31384\n",
      "\n",
      "solution error = 479739845185.5136\n",
      "\n",
      "solution error = 311314251020.3883\n",
      "\n",
      "solution error = 0.05032622814178467\n",
      "1.9422555426369267e-09\n",
      "\n",
      "solution error = 537486040219.5029\n",
      "\n",
      "solution error = 535609281596.91455\n",
      "\n",
      "solution error = 526101251427.12396\n",
      "\n",
      "solution error = 510078384426.53424\n",
      "\n",
      "solution error = 440809300327.5049\n",
      "\n",
      "solution error = 296272366433.89716\n",
      "\n",
      "solution error = 102390025050.50983\n",
      "\n",
      "solution error = 471296.2196611166\n",
      "0.0009370441857059612\n",
      "\n",
      "solution error = 368502765618.6594\n",
      "\n",
      "solution error = 484344634904.83496\n",
      "\n",
      "solution error = 458518561754.42596\n",
      "\n",
      "solution error = 326891605351.52515\n",
      "\n",
      "solution error = 0.06806095317006111\n",
      "4.285527566182556e-09\n",
      "\n",
      "solution error = 560542749885.3367\n",
      "\n",
      "solution error = 558363424387.6492\n",
      "\n",
      "solution error = 551906277539.0724\n",
      "\n",
      "solution error = 529836245468.8227\n",
      "\n",
      "solution error = 453260627691.89355\n",
      "\n",
      "solution error = 361708730562.00635\n",
      "\n",
      "solution error = 48142101670.49115\n",
      "\n",
      "solution error = 125329.03503417969\n",
      "0.0001287855706382156\n",
      "\n",
      "solution error = 510028523311.919\n",
      "\n",
      "solution error = 502121276290.485\n",
      "\n",
      "solution error = 471899764194.42456\n",
      "\n",
      "solution error = 325124148717.4647\n",
      "\n",
      "solution error = 469.8082295060158\n",
      "3.2650059264658336e-06\n",
      "\n",
      "solution error = 591171870795.8562\n",
      "\n",
      "solution error = 582892507620.7264\n",
      "\n",
      "solution error = 584040515587.5286\n",
      "\n",
      "solution error = 555291885706.0244\n",
      "\n",
      "solution error = 513535620926.98236\n",
      "\n",
      "solution error = 341720023712.9044\n",
      "\n",
      "solution error = 81004470958.63995\n",
      "\n",
      "solution error = 544876.220703125\n",
      "1.0123653778847684e-06\n",
      "\n",
      "solution error = 509677969065.98206\n",
      "\n",
      "solution error = 366815218092.342\n",
      "\n",
      "solution error = 461883006820.3307\n",
      "\n",
      "solution error = 363548912114.61694\n",
      "\n",
      "solution error = 578326.175739646\n",
      "0.00102318245828182\n",
      "\n",
      "solution error = 586109898470.0227\n",
      "\n",
      "solution error = 584401437061.848\n",
      "\n",
      "solution error = 578879879514.1595\n",
      "\n",
      "solution error = 561290265908.9478\n",
      "\n",
      "solution error = 510423030625.6092\n",
      "\n",
      "solution error = 570598639606.6688\n",
      "\n",
      "solution error = 1084862550507.9597\n",
      "\n",
      "solution error = 142512.4910888672\n",
      "2.9885693327560505e-07\n",
      "\n",
      "solution error = 1318231146823.8044\n",
      "\n",
      "solution error = 364542281720.5808\n",
      "\n",
      "solution error = 469889805766.54193\n",
      "\n",
      "solution error = 280552026612.04614\n",
      "\n",
      "solution error = 22263251853.99884\n",
      "\n",
      "solution error = 0.035023072734475136\n",
      "2.57630950182541e-09\n",
      "\n",
      "solution error = 593025049930.9338\n",
      "\n",
      "solution error = 589187872295.8026\n",
      "\n",
      "solution error = 582638700460.7654\n",
      "\n",
      "solution error = 567588751971.7762\n",
      "\n",
      "solution error = 536354588695.5649\n",
      "\n",
      "solution error = 300167933822.79926\n",
      "\n",
      "solution error = 97246125683.71124\n",
      "\n",
      "solution error = 316684.96673232317\n",
      "0.0008936050791851629\n"
     ]
    }
   ],
   "source": [
    "def weighted_sample_UECM(G, output_path):\n",
    "    g_array = nx.to_numpy_array(G.to_undirected())\n",
    "\n",
    "    UG = UndirectedGraph(g_array)\n",
    "    UG.solve_tool(model=\"crema\",\n",
    "                  method=\"newton\",\n",
    "                  initial_guess=\"random\",\n",
    "                  adjacency=\"cm_exp\",\n",
    "                  method_adjacency=\"newton\")\n",
    "    ## increase step until finding a small enough relative_error_strength\n",
    "    global max_relative_error_strength\n",
    "    step = 200\n",
    "    current_max = 100\n",
    "    while UG.relative_error_strength > max_relative_error_strength:\n",
    "        current_max+=step\n",
    "        UG.solve_tool(model=\"crema\",\n",
    "                      method=\"newton\",\n",
    "                      initial_guess=\"random\",\n",
    "                      adjacency=\"cm_exp\",\n",
    "                      method_adjacency=\"newton\", max_steps=current_max)\n",
    "    print(UG.relative_error_strength)\n",
    "\n",
    "    global sample_count\n",
    "    UG.ensemble_sampler(sample_count, cpu_n=1, output_dir=output_path)\n",
    "\n",
    "def weighted_sample_DECM(G, output_path):\n",
    "    g_array = nx.to_numpy_array(G)\n",
    "    DG = DirectedGraph(g_array)\n",
    "    DG.solve_tool(model=\"crema\",\n",
    "                  method=\"newton\",\n",
    "                  initial_guess=\"random\",\n",
    "                  adjacency=\"dcm_exp\",\n",
    "                  method_adjacency=\"newton\")\n",
    "    global max_relative_error_strength\n",
    "    step = 200\n",
    "    current_max = 100\n",
    "    while DG.relative_error_strength > max_relative_error_strength:\n",
    "        current_max+=step\n",
    "        DG.solve_tool(model=\"crema\",\n",
    "                  method=\"newton\",\n",
    "                  initial_guess=\"random\",\n",
    "                  adjacency=\"dcm_exp\",\n",
    "                  method_adjacency=\"newton\", max_steps=current_max)\n",
    "    print(DG.relative_error_strength)\n",
    "\n",
    "    global sample_count\n",
    "    DG.ensemble_sampler(sample_count, cpu_n=1, output_dir=output_path)\n",
    "\n",
    "def extract_weighted_samples(path, directed):\n",
    "    nets = []\n",
    "    global sample_count\n",
    "    for i in range(sample_count):\n",
    "        file = path + str(i) + \".txt\"\n",
    "        edges = np.loadtxt(file)\n",
    "        if (directed):\n",
    "            G = nx.from_numpy_array(build_adjacency_from_edgelist(edgelist = edges,\n",
    "                                                                  is_directed = True,\n",
    "                                                                  is_sparse = False,\n",
    "                                                                  is_weighted = True),\n",
    "                                    create_using=nx.DiGraph)\n",
    "            nets.append(G)\n",
    "        else:\n",
    "            edges = np.loadtxt(file)\n",
    "            G = nx.from_numpy_array(build_adjacency_from_edgelist(edges,is_directed = False,\n",
    "                                                                  is_sparse = False,\n",
    "                                                                  is_weighted = True))\n",
    "            nets.append(G)\n",
    "    return nets\n",
    "\n",
    "def origin_vs_weighted_sample(nets):\n",
    "    original_undirected_sac = []\n",
    "    original_in_in_directed_sac = []\n",
    "    original_in_out_directed_sac = []\n",
    "    original_out_out_directed_sac = []\n",
    "\n",
    "    undirected_avg_sample_sac=[]\n",
    "    directed_avg_in_in_sample_sac = []\n",
    "    directed_avg_in_out_sample_sac = []\n",
    "    directed_avg_out_out_sample_sac = []\n",
    "    for i in range(len(nets_index)):\n",
    "        G = nets[i]\n",
    "        original_undirected_sac.append(nx.degree_assortativity_coefficient(G.to_undirected(),  weight='weight'))\n",
    "        original_in_out_directed_sac.append(nx.degree_pearson_correlation_coefficient(G, x=\"in\", y=\"out\", weight='weight'))\n",
    "        original_in_in_directed_sac.append(nx.degree_pearson_correlation_coefficient(G, x=\"in\", y=\"in\", weight='weight'))\n",
    "        original_out_out_directed_sac.append(nx.degree_pearson_correlation_coefficient(G, x=\"out\", y=\"out\", weight='weight'))\n",
    "\n",
    "        weighted_UECM_path= \"sample_UECM_\" + nets_index[i] + \"/\"\n",
    "        weighted_sample_UECM(G,weighted_UECM_path)\n",
    "\n",
    "        weighted_DECM_path = \"sample_DECM_\" + nets_index[i] + \"/\"\n",
    "        weighted_sample_DECM(G, weighted_DECM_path)\n",
    "\n",
    "        undirected_samples = extract_weighted_samples(weighted_UECM_path, False)\n",
    "        undirected_samples_sac = []\n",
    "        for sample in undirected_samples:\n",
    "            undirected_samples_sac.append(nx.degree_assortativity_coefficient(sample))\n",
    "        undirected_avg_sample_sac.append(np.mean(undirected_samples_sac))\n",
    "\n",
    "        weighted_samples = extract_weighted_samples(weighted_DECM_path, True)\n",
    "\n",
    "        directed_in_in_sample_sac = []\n",
    "        directed_in_out_sample_sac = []\n",
    "        directed_out_out_sample_sac = []\n",
    "        for weighted_sample in weighted_samples:\n",
    "            directed_in_out_sample_sac.append(nx.degree_pearson_correlation_coefficient(weighted_sample, x=\"in\", y=\"out\", weight='weight'))\n",
    "            directed_in_in_sample_sac.append(nx.degree_pearson_correlation_coefficient(weighted_sample, x=\"in\", y=\"in\", weight='weight'))\n",
    "            directed_out_out_sample_sac.append(nx.degree_pearson_correlation_coefficient(weighted_sample, x=\"out\", y=\"out\", weight='weight'))\n",
    "        directed_avg_in_in_sample_sac.append(np.mean(directed_in_in_sample_sac))\n",
    "        directed_avg_in_out_sample_sac.append(np.mean(directed_in_out_sample_sac))\n",
    "        directed_avg_out_out_sample_sac.append(np.mean(directed_out_out_sample_sac))\n",
    "\n",
    "    return original_undirected_sac, undirected_avg_sample_sac, original_in_in_directed_sac,directed_avg_in_in_sample_sac,original_in_out_directed_sac,directed_avg_in_out_sample_sac,original_out_out_directed_sac ,directed_avg_out_out_sample_sac\n",
    "original_undirected_sac, undirected_avg_sample_sac, original_in_in_directed_sac,directed_avg_in_in_sample_sac,original_in_out_directed_sac,directed_avg_in_out_sample_sac,original_out_out_directed_sac ,directed_avg_out_out_sample_sac = origin_vs_weighted_sample(nets)"
   ]
  },
  {
   "cell_type": "code",
   "execution_count": 10,
   "metadata": {
    "pycharm": {
     "name": "#%%\n"
    }
   },
   "outputs": [
    {
     "name": "stdout",
     "output_type": "stream",
     "text": [
      "WDN_1992\n",
      "strength_assortativity_coefficient:  -0.059869793086991134\n",
      "\n",
      "\n",
      "WDN_1993\n",
      "strength_assortativity_coefficient:  -0.07202068872957708\n",
      "\n",
      "\n",
      "WDN_1994\n",
      "strength_assortativity_coefficient:  -0.0802250161794802\n",
      "\n",
      "\n",
      "WDN_1995\n",
      "strength_assortativity_coefficient:  -0.07830645801950627\n",
      "\n",
      "\n",
      "WDN_1996\n",
      "strength_assortativity_coefficient:  -0.07535502512416231\n",
      "\n",
      "\n",
      "WDN_1997\n",
      "strength_assortativity_coefficient:  -0.07171683897072358\n",
      "\n",
      "\n",
      "WDN_1998\n",
      "strength_assortativity_coefficient:  -0.06572057397949527\n",
      "\n",
      "\n",
      "WDN_1999\n",
      "strength_assortativity_coefficient:  -0.06546711179930181\n",
      "\n",
      "\n",
      "WDN_2000\n",
      "strength_assortativity_coefficient:  -0.06539073425903157\n",
      "\n",
      "\n",
      "WDN_2001\n",
      "strength_assortativity_coefficient:  -0.06192625961852661\n",
      "\n",
      "\n",
      "WDN_2002\n",
      "strength_assortativity_coefficient:  -0.06303814946654548\n",
      "\n",
      "\n"
     ]
    }
   ],
   "source": [
    "weighted_output(nets)"
   ]
  },
  {
   "cell_type": "code",
   "execution_count": 11,
   "metadata": {
    "pycharm": {
     "name": "#%%\n"
    }
   },
   "outputs": [
    {
     "data": {
      "text/plain": [
       "<matplotlib.legend.Legend at 0x1c3e789d580>"
      ]
     },
     "execution_count": 11,
     "metadata": {},
     "output_type": "execute_result"
    },
    {
     "data": {
      "image/png": "[encoded data removed]",
      "text/plain": [
       "<Figure size 432x288 with 1 Axes>"
      ]
     },
     "metadata": {
      "needs_background": "light"
     },
     "output_type": "display_data"
    },
    {
     "data": {
      "image/png": "[encoded data removed]",
      "text/plain": [
       "<Figure size 432x288 with 1 Axes>"
      ]
     },
     "metadata": {
      "needs_background": "light"
     },
     "output_type": "display_data"
    },
    {
     "data": {
      "image/png": "[encoded data removed]",
      "text/plain": [
       "<Figure size 432x288 with 1 Axes>"
      ]
     },
     "metadata": {
      "needs_background": "light"
     },
     "output_type": "display_data"
    },
    {
     "data": {
      "image/png": "[encoded data removed]",
      "text/plain": [
       "<Figure size 432x288 with 1 Axes>"
      ]
     },
     "metadata": {
      "needs_background": "light"
     },
     "output_type": "display_data"
    }
   ],
   "source": [
    "new_figure()\n",
    "plt.title(\"undirected samples strength_assortativity_coefficient\")\n",
    "plt.plot(nets_index, original_undirected_sac, label=\"real value\")\n",
    "plt.plot(nets_index, undirected_avg_sample_sac, label=\"samples avg\")\n",
    "plt.legend()\n",
    "\n",
    "new_figure()\n",
    "plt.title(\"directed samples in-in strength_assortativity_coefficient\")\n",
    "plt.plot(nets_index, original_in_in_directed_sac, label=\"real value\")\n",
    "plt.plot(nets_index, directed_avg_in_in_sample_sac, label=\"samples avg\")\n",
    "plt.legend()\n",
    "\n",
    "new_figure()\n",
    "plt.title(\"directed samples in-out strength_assortativity_coefficient\")\n",
    "plt.plot(nets_index, original_in_out_directed_sac, label=\"real value\")\n",
    "plt.plot(nets_index, directed_avg_in_out_sample_sac, label=\"samples avg\")\n",
    "plt.legend()\n",
    "\n",
    "new_figure()\n",
    "plt.title(\"directed samples out-out strength_assortativity_coefficient\")\n",
    "plt.plot(nets_index, original_out_out_directed_sac, label=\"real value\")\n",
    "plt.plot(nets_index, directed_avg_out_out_sample_sac, label=\"samples avg\")\n",
    "plt.legend()\n",
    "\n"
   ]
  },
  {
   "cell_type": "code",
   "execution_count": null,
   "metadata": {
    "pycharm": {
     "name": "#%%\n"
    }
   },
   "outputs": [],
   "source": []
  }
 ],
 "metadata": {
  "kernelspec": {
   "display_name": "Python 3",
   "language": "python",
   "name": "python3"
  },
  "language_info": {
   "codemirror_mode": {
    "name": "ipython",
    "version": 3
   },
   "file_extension": ".py",
   "mimetype": "text/x-python",
   "name": "python",
   "nbconvert_exporter": "python",
   "pygments_lexer": "ipython3",
   "version": "3.8.8"
  }
 },
 "nbformat": 4,
 "nbformat_minor": 1
}
