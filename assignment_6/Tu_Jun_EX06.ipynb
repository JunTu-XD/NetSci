{
 "cells": [
  {
   "cell_type": "code",
   "execution_count": 9,
   "metadata": {},
   "outputs": [],
   "source": []
  },
  {
   "cell_type": "code",
   "execution_count": 10,
   "metadata": {
    "pycharm": {
     "name": "#%%\n"
    }
   },
   "outputs": [],
   "source": [
    "# Jun Tu 21-732-722\n",
    "# Guanda Zhao 21-716-345"
   ]
  },
  {
   "cell_type": "code",
   "execution_count": 11,
   "metadata": {
    "pycharm": {
     "name": "#%%\n"
    }
   },
   "outputs": [],
   "source": [
    "import matplotlib.pyplot as plt\n",
    "import numpy as np\n",
    "from NEMtropy import UndirectedGraph, DirectedGraph\n",
    "from NEMtropy.network_functions import build_adjacency_from_edgelist\n",
    "import networkx as nx\n",
    "\n",
    "path = \"Data/\"\n",
    "\n",
    "nets = []\n",
    "nets_index = [str(i) for i in range(1992, 2003)]\n",
    "for index in nets_index:\n",
    "    gml_file = path + 'WDN_' +index +\".txt.graphml\"\n",
    "    G = nx.read_graphml(gml_file)\n",
    "    nets.append(G)\n",
    "figure_index = 10\n",
    "def new_figure():\n",
    "    global figure_index\n",
    "    plt.figure(figure_index)\n",
    "    figure_index+=1"
   ]
  },
  {
   "cell_type": "code",
   "execution_count": 12,
   "metadata": {
    "pycharm": {
     "name": "#%%\n"
    }
   },
   "outputs": [],
   "source": [
    "### A06.1 code\n",
    "def avg_nets_clustering(nets):\n",
    "    clustering_coes = []\n",
    "    for G in nets:\n",
    "        clustering_coes.append(nx.average_clustering(G))\n",
    "    return clustering_coes\n",
    "def avg_nets_reciprocity(nets):\n",
    "    reci_coes = []\n",
    "    for G in nets:\n",
    "        reci_coes.append(nx.reciprocity(G))\n",
    "    return reci_coes\n",
    "def output(nets):\n",
    "    clusterings = avg_nets_clustering(nets)\n",
    "    reciprocities = avg_nets_reciprocity(nets)\n",
    "    for i in range(0, len(nets_index)):\n",
    "        print(\"WDN_\"+nets_index[i])\n",
    "        print(\"average_clustering: \" , clusterings[i])\n",
    "        print(\"reciprocities: \", reciprocities[i])\n",
    "        print(\"\\n\")"
   ]
  },
  {
   "cell_type": "code",
   "execution_count": 23,
   "metadata": {
    "pycharm": {
     "name": "#%%\n"
    }
   },
   "outputs": [
    {
     "name": "stdout",
     "output_type": "stream",
     "text": [
      "\n",
      "solution error = 8.460744993499247e-09\n",
      "\n",
      "solution error = 4.706919298769208e-09\n",
      "\n",
      "solution error = 2.0960158053640043e-09\n",
      "\n",
      "solution error = 2.651709962719906e-09\n",
      "\n",
      "solution error = 1.2267662441445282e-09\n",
      "\n",
      "solution error = 6.045638656360097e-09\n",
      "\n",
      "solution error = 3.766245981751126e-09\n",
      "\n",
      "solution error = 2.6297186650481308e-09\n",
      "\n",
      "solution error = 1.4585737062589033e-09\n",
      "\n",
      "solution error = 2.4270860876640654e-09\n",
      "\n",
      "solution error = 1.809041805245215e-09\n",
      "\n",
      "solution error = 2.433324652884039e-09\n",
      "\n",
      "solution error = 1.6848105133249192e-09\n",
      "\n",
      "solution error = 2.257650066894712e-09\n",
      "\n",
      "solution error = 1.272979943678365e-09\n",
      "\n",
      "solution error = 3.2637323954531894e-09\n",
      "\n",
      "solution error = 8.329038791998755e-09\n",
      "\n",
      "solution error = 6.430500576470877e-09\n",
      "\n",
      "solution error = 2.131088194801123e-09\n",
      "\n",
      "solution error = 1.8644712440618605e-09\n",
      "\n",
      "solution error = 7.570946536361589e-09\n",
      "\n",
      "solution error = 2.013109678955516e-09\n",
      "\n",
      "solution error = 3.769798695429927e-09\n",
      "\n",
      "solution error = 2.74724598625653e-09\n",
      "\n",
      "solution error = 3.802171022471157e-09\n",
      "\n",
      "solution error = 3.067171405746194e-09\n",
      "\n",
      "solution error = 1.289436113438569e-09\n",
      "\n",
      "solution error = 3.385956404144963e-09\n",
      "\n",
      "solution error = 3.748510835066554e-09\n",
      "\n",
      "solution error = 2.3903972135030926e-09\n",
      "\n",
      "solution error = 1.3066596693533938e-09\n",
      "\n",
      "solution error = 3.0645992410427425e-09\n",
      "\n",
      "solution error = 1.5319585600082064e-09\n",
      "\n",
      "solution error = 1.9336425793881062e-09\n",
      "\n",
      "solution error = 1.0109602044394705e-09\n",
      "\n",
      "solution error = 3.310162810521433e-09\n",
      "\n",
      "solution error = 3.1157583180174697e-09\n",
      "\n",
      "solution error = 2.04778061174693e-09\n",
      "\n",
      "solution error = 7.714703542660573e-09\n",
      "\n",
      "solution error = 4.411418785821297e-09\n",
      "\n",
      "solution error = 3.330143272251007e-09\n",
      "\n",
      "solution error = 3.22395266039166e-09\n"
     ]
    }
   ],
   "source": [
    "sample_count = 10\n",
    "max_relative_error_strength = 0.01\n",
    "def sample_UBCM(G:nx.Graph, output_path):\n",
    "    g_array = nx.to_numpy_array(G.to_undirected())\n",
    "    UG = UndirectedGraph(g_array)\n",
    "    UG.solve_tool(model=\"cm_exp\")\n",
    "    global sample_count\n",
    "    UG.ensemble_sampler(sample_count, cpu_n=1, output_dir=output_path)\n",
    "\n",
    "def sample_DBCM(G, output_path):\n",
    "    g_array = nx.to_numpy_array(G)\n",
    "    DG = DirectedGraph(g_array)\n",
    "    DG.solve_tool(model=\"dcm_exp\")\n",
    "\n",
    "    global sample_count\n",
    "    DG.ensemble_sampler(sample_count, cpu_n=1, output_dir=output_path)\n",
    "\n",
    "def extract_samples(path, directed):\n",
    "    nets = []\n",
    "    global sample_count\n",
    "    for i in range(sample_count):\n",
    "        file = path + str(i) + \".txt\"\n",
    "        edges = np.loadtxt(file)\n",
    "        if (directed):\n",
    "            G = nx.from_numpy_array(build_adjacency_from_edgelist(edgelist = edges,\n",
    "                                                                  is_directed = True,\n",
    "                                                                  is_sparse = False,\n",
    "                                                                  is_weighted = False),\n",
    "                                    create_using=nx.DiGraph)\n",
    "            nets.append(G)\n",
    "        else:\n",
    "            edges = np.loadtxt(file)\n",
    "            G = nx.from_numpy_array(build_adjacency_from_edgelist(edges,is_directed = False,\n",
    "                                                                  is_sparse = False,\n",
    "                                                                  is_weighted = False))\n",
    "            nets.append(G)\n",
    "    return nets\n",
    "\n",
    "def origin_vs_sample(nets):\n",
    "    original_clustering_t = []\n",
    "    original_undirected_clustering_t= []\n",
    "    original_reci_t = []\n",
    "\n",
    "    undirected_sample_clustering_t = []\n",
    "    directed_sample_clustering_t =[]\n",
    "    sample_reci_t = []\n",
    "\n",
    "    for i in range(len(nets_index)):\n",
    "        G = nets[i]\n",
    "\n",
    "        original_clustering_t.append(nx.average_clustering(G))\n",
    "        original_reci_t.append(nx.reciprocity(G))\n",
    "        original_undirected_clustering_t.append(nx.average_clustering(G.to_undirected()))\n",
    "\n",
    "        DBCM_path=\"sample_DBCM_\" + nets_index[i] + \"/\"\n",
    "        UBCM_path=\"sample_UBCM_\" + nets_index[i] + \"/\"\n",
    "\n",
    "        sample_UBCM(G, UBCM_path)\n",
    "        sample_DBCM(G, DBCM_path)\n",
    "        DBCM_samples = extract_samples(DBCM_path, True)\n",
    "        UBCM_samples = extract_samples(UBCM_path, False)\n",
    "\n",
    "\n",
    "        undirected_sample_clusterings=[]\n",
    "        for sample in UBCM_samples:\n",
    "            undirected_sample_clusterings.append(nx.average_clustering(sample))\n",
    "        undirected_sample_clustering_t.append(np.mean(undirected_sample_clusterings))\n",
    "\n",
    "        directed_sample_clusterings = []\n",
    "        sample_reciprocities = []\n",
    "        for sample in DBCM_samples:\n",
    "            directed_sample_clusterings.append(nx.average_clustering(sample))\n",
    "            sample_reciprocities.append(nx.reciprocity(sample))\n",
    "        directed_sample_clustering_t.append(np.mean(directed_sample_clusterings))\n",
    "        sample_reci_t.append(np.mean(sample_reciprocities))\n",
    "\n",
    "    return original_undirected_clustering_t, undirected_sample_clustering_t, original_clustering_t, directed_sample_clustering_t, original_reci_t,sample_reci_t\n",
    "\n",
    "original_undirected_clustering_t, undirected_sample_clustering_t, original_clustering_t, directed_sample_clustering_t, original_reci_t, sample_reci_t = origin_vs_sample(nets)"
   ]
  },
  {
   "cell_type": "code",
   "execution_count": 14,
   "metadata": {
    "pycharm": {
     "name": "#%%\n"
    }
   },
   "outputs": [],
   "source": [
    "### A06.2 code\n",
    "def strength_assortativity_coefficient(nets):\n",
    "    for i in range(0, len(nets_index)):\n",
    "        G = nets[i]\n",
    "        sac_in_in = nx.degree_pearson_correlation_coefficient(G, x='in', y='in', weight='weight')\n",
    "        sac_in_out = nx.degree_pearson_correlation_coefficient(G, x='in', y='out', weight='weight')\n",
    "        sac_out_out = nx.degree_pearson_correlation_coefficient(G, x='out', y='out', weight='weight')\n",
    "        print(\"WDN_\"+nets_index[i])\n",
    "        print(\"strength_assortativity_coefficient in-in: \" , sac_in_in)\n",
    "        print(\"strength_assortativity_coefficient in-out: \" , sac_in_out)\n",
    "        print(\"strength_assortativity_coefficient out-out: \" , sac_out_out)\n",
    "        print(\"\\n\")"
   ]
  },
  {
   "cell_type": "code",
   "execution_count": 15,
   "metadata": {
    "pycharm": {
     "name": "#%%\n"
    }
   },
   "outputs": [
    {
     "name": "stderr",
     "output_type": "stream",
     "text": [
      "/Users/jun/Documents/study/course/foundation of ds/FDS21-M56/venv/lib/python3.9/site-packages/numba/core/utils.py:544: NumbaExperimentalFeatureWarning: First-class function type feature is experimental\n",
      "  warnings.warn(\"First-class function type feature is experimental\",\n",
      "/Users/jun/Documents/study/course/foundation of ds/FDS21-M56/venv/lib/python3.9/site-packages/NEMtropy/models_functions.py:1554: NumbaExperimentalFeatureWarning: First-class function type feature is experimental\n",
      "  step_fun = args[0]\n",
      "/Users/jun/Documents/study/course/foundation of ds/FDS21-M56/venv/lib/python3.9/site-packages/NEMtropy/models_functions.py:1555: NumbaExperimentalFeatureWarning: First-class function type feature is experimental\n",
      "  arg_step_fun = args[1]\n",
      "/Users/jun/Documents/study/course/foundation of ds/FDS21-M56/venv/lib/python3.9/site-packages/numba/core/utils.py:544: NumbaExperimentalFeatureWarning: First-class function type feature is experimental\n",
      "  warnings.warn(\"First-class function type feature is experimental\",\n"
     ]
    },
    {
     "name": "stdout",
     "output_type": "stream",
     "text": [
      "\n",
      "solution error = 352413020856.965\n"
     ]
    },
    {
     "name": "stderr",
     "output_type": "stream",
     "text": [
      "/Users/jun/Documents/study/course/foundation of ds/FDS21-M56/venv/lib/python3.9/site-packages/numba/core/utils.py:544: NumbaExperimentalFeatureWarning: First-class function type feature is experimental\n",
      "  warnings.warn(\"First-class function type feature is experimental\",\n"
     ]
    },
    {
     "name": "stdout",
     "output_type": "stream",
     "text": [
      "\n",
      "solution error = 348205424890.4583\n",
      "\n",
      "solution error = 361391098064.16754\n",
      "\n",
      "solution error = 94848987149.60522\n",
      "\n",
      "solution error = 2831027999.972534\n",
      "\n",
      "solution error = 0.3219512365758419\n",
      "2.7923406513786444e-08\n"
     ]
    },
    {
     "name": "stderr",
     "output_type": "stream",
     "text": [
      "/Users/jun/Documents/study/course/foundation of ds/FDS21-M56/venv/lib/python3.9/site-packages/numba/core/utils.py:544: NumbaExperimentalFeatureWarning: First-class function type feature is experimental\n",
      "  warnings.warn(\"First-class function type feature is experimental\",\n",
      "/Users/jun/Documents/study/course/foundation of ds/FDS21-M56/venv/lib/python3.9/site-packages/NEMtropy/models_functions.py:4515: NumbaExperimentalFeatureWarning: First-class function type feature is experimental\n",
      "  step_fun = args[0]\n",
      "/Users/jun/Documents/study/course/foundation of ds/FDS21-M56/venv/lib/python3.9/site-packages/NEMtropy/models_functions.py:4516: NumbaExperimentalFeatureWarning: First-class function type feature is experimental\n",
      "  arg_step_fun = args[1]\n",
      "/Users/jun/Documents/study/course/foundation of ds/FDS21-M56/venv/lib/python3.9/site-packages/numba/core/utils.py:544: NumbaExperimentalFeatureWarning: First-class function type feature is experimental\n",
      "  warnings.warn(\"First-class function type feature is experimental\",\n"
     ]
    },
    {
     "name": "stdout",
     "output_type": "stream",
     "text": [
      "\n",
      "solution error = 341887354841.41156\n"
     ]
    },
    {
     "name": "stderr",
     "output_type": "stream",
     "text": [
      "/Users/jun/Documents/study/course/foundation of ds/FDS21-M56/venv/lib/python3.9/site-packages/numba/core/utils.py:544: NumbaExperimentalFeatureWarning: First-class function type feature is experimental\n",
      "  warnings.warn(\"First-class function type feature is experimental\",\n"
     ]
    },
    {
     "name": "stdout",
     "output_type": "stream",
     "text": [
      "\n",
      "solution error = 339342588473.0461\n",
      "\n",
      "solution error = 333059337647.0948\n",
      "\n",
      "solution error = 306924613668.5812\n",
      "\n",
      "solution error = 264937503977.4226\n",
      "\n",
      "solution error = 337292.6010131836\n",
      "0.00036840626633613294\n"
     ]
    },
    {
     "name": "stderr",
     "output_type": "stream",
     "text": [
      "/Users/jun/Documents/study/course/foundation of ds/FDS21-M56/venv/lib/python3.9/site-packages/numba/core/utils.py:544: NumbaExperimentalFeatureWarning: First-class function type feature is experimental\n",
      "  warnings.warn(\"First-class function type feature is experimental\",\n"
     ]
    },
    {
     "name": "stdout",
     "output_type": "stream",
     "text": [
      "\n",
      "solution error = 390371485805.084\n",
      "\n",
      "solution error = 382873719837.6179\n",
      "\n",
      "solution error = 306508023827.5967\n",
      "\n",
      "solution error = 187690644812.6255\n",
      "\n",
      "solution error = 4616.514991730452\n",
      "6.728066529497702e-05\n",
      "\n",
      "solution error = 361062957649.6331\n",
      "\n",
      "solution error = 359104393854.6945\n",
      "\n",
      "solution error = 2167295114112.1353\n",
      "\n",
      "solution error = 322326716909.0736\n",
      "\n",
      "solution error = 226235017029.84518\n",
      "\n",
      "solution error = 512295.64166259766\n",
      "1.6994193851824243e-06\n",
      "\n",
      "solution error = 427145058853.9345\n",
      "\n",
      "solution error = 421640783453.30756\n",
      "\n",
      "solution error = 382222757749.4025\n",
      "\n",
      "solution error = 206736305495.8216\n",
      "\n",
      "solution error = 0.0064926184713840485\n",
      "3.0794354011619104e-10\n",
      "\n",
      "solution error = 3853860532786.0386\n",
      "\n",
      "solution error = 404478878735.80743\n",
      "\n",
      "solution error = 397908187060.999\n",
      "\n",
      "solution error = 380411554849.6249\n",
      "\n",
      "solution error = 283790202273.933\n",
      "\n",
      "solution error = 86716542069.24335\n",
      "\n",
      "solution error = 190357.7850341797\n",
      "0.000758154159452391\n",
      "\n",
      "solution error = 477525650504.48676\n",
      "\n",
      "solution error = 471806726807.3386\n",
      "\n",
      "solution error = 435266373853.7741\n",
      "\n",
      "solution error = 381141360652.61426\n",
      "\n",
      "solution error = 17308.597026586533\n",
      "4.5327370054781877e-05\n",
      "\n",
      "solution error = 451820236739.8753\n",
      "\n",
      "solution error = 450639810565.1657\n",
      "\n",
      "solution error = 443265110936.6746\n",
      "\n",
      "solution error = 424132965424.362\n",
      "\n",
      "solution error = 2428805667978.2734\n",
      "\n",
      "solution error = 197001994362.5579\n",
      "\n",
      "solution error = 103787.47082519531\n",
      "0.001271985164123357\n",
      "\n",
      "solution error = 391236301923.8364\n",
      "\n",
      "solution error = 471782533821.1263\n",
      "\n",
      "solution error = 439100741038.3462\n",
      "\n",
      "solution error = 252332322863.5223\n",
      "\n",
      "solution error = 227.34662559628487\n",
      "1.5306652211318237e-06\n",
      "\n",
      "solution error = 466692773824.77234\n",
      "\n",
      "solution error = 470113114964.1009\n",
      "\n",
      "solution error = 464620728236.029\n",
      "\n",
      "solution error = 440141589344.19293\n",
      "\n",
      "solution error = 376322467786.225\n",
      "\n",
      "solution error = 263896290949.83517\n",
      "\n",
      "solution error = 18960837725.082397\n",
      "\n",
      "solution error = 97657.20086669922\n",
      "0.0002990552436203831\n",
      "\n",
      "solution error = 513133361633.718\n",
      "\n",
      "solution error = 458889120111.7965\n",
      "\n",
      "solution error = 470063485120.01465\n",
      "\n",
      "solution error = 529924055945.5737\n",
      "\n",
      "solution error = 44.575777895748615\n",
      "2.524901517573779e-06\n",
      "\n",
      "solution error = 505393807019.2367\n",
      "\n",
      "solution error = 503592810477.4415\n",
      "\n",
      "solution error = 498588399564.64557\n",
      "\n",
      "solution error = 480437937735.0305\n",
      "\n",
      "solution error = 431164826824.2656\n",
      "\n",
      "solution error = 258308388699.56393\n",
      "\n",
      "solution error = 51234462409.91736\n",
      "\n",
      "solution error = 335413.88024902344\n",
      "6.25062964197418e-05\n",
      "\n",
      "solution error = 515095895266.7154\n",
      "\n",
      "solution error = 507520457246.3405\n",
      "\n",
      "solution error = 524489904555.8845\n",
      "\n",
      "solution error = 334295813335.3209\n",
      "\n",
      "solution error = 78.36379576846957\n",
      "5.236951961477626e-06\n",
      "\n",
      "solution error = 537351416948.9735\n",
      "\n",
      "solution error = 534425115673.82184\n",
      "\n",
      "solution error = 516534000327.0012\n",
      "\n",
      "solution error = 509589293957.7169\n",
      "\n",
      "solution error = 1566641629183.2898\n",
      "\n",
      "solution error = 335735329485.9287\n",
      "\n",
      "solution error = 26747899706.85089\n",
      "\n",
      "solution error = 425536.4197998047\n",
      "4.8220757935570696e-06\n",
      "\n",
      "solution error = 491582570639.02856\n",
      "\n",
      "solution error = 485007844439.0513\n",
      "\n",
      "solution error = 449684798392.68933\n",
      "\n",
      "solution error = 306895743126.203\n",
      "\n",
      "solution error = 98.46228209137917\n",
      "4.51985200473601e-06\n",
      "\n",
      "solution error = 560666016562.7347\n",
      "\n",
      "solution error = 557917962112.2085\n",
      "\n",
      "solution error = 551274318309.016\n",
      "\n",
      "solution error = 532340557518.4583\n",
      "\n",
      "solution error = 332692198344.5559\n",
      "\n",
      "solution error = 362154666573.01965\n",
      "\n",
      "solution error = 66195065347.989075\n",
      "\n",
      "solution error = 194879266080.75174\n",
      "\n",
      "solution error = 125514.02026367188\n",
      "6.675326715681558e-07\n",
      "\n",
      "solution error = 507870366831.35754\n",
      "\n",
      "solution error = 502395009436.3801\n",
      "\n",
      "solution error = 452922670319.0637\n",
      "\n",
      "solution error = 232455619329.09558\n",
      "\n",
      "solution error = 65638491396.12506\n",
      "\n",
      "solution error = 1.255142118781805\n",
      "9.32368948677902e-08\n",
      "\n",
      "solution error = 590716838056.1619\n",
      "\n",
      "solution error = 5249495298165.244\n",
      "\n",
      "solution error = 584007682360.8187\n",
      "\n",
      "solution error = 558837891586.6212\n",
      "\n",
      "solution error = 502225164470.82855\n",
      "\n",
      "solution error = 403534614363.46423\n",
      "\n",
      "solution error = 134624192487.2024\n",
      "\n",
      "solution error = 303652.27642822266\n",
      "6.3934640058546e-07\n",
      "\n",
      "solution error = 509839769442.91455\n",
      "\n",
      "solution error = 503576069316.7452\n",
      "\n",
      "solution error = 462930258218.7355\n",
      "\n",
      "solution error = 321059356566.2209\n",
      "\n",
      "solution error = 282.79015259444714\n",
      "3.3440491996588234e-06\n",
      "\n",
      "solution error = 586178720619.4193\n",
      "\n",
      "solution error = 499082774798.9371\n",
      "\n",
      "solution error = 574868091675.3132\n",
      "\n",
      "solution error = 556299737166.3832\n",
      "\n",
      "solution error = 498689715981.5728\n",
      "\n",
      "solution error = 374615775008.29645\n",
      "\n",
      "solution error = 73727466214.95715\n",
      "\n",
      "solution error = 398777411773.9839\n",
      "\n",
      "solution error = 224698.3983154297\n",
      "3.685497936726279e-05\n",
      "\n",
      "solution error = 506756716261.3321\n",
      "\n",
      "solution error = 499747855626.96515\n",
      "\n",
      "solution error = 428412258088.39453\n",
      "\n",
      "solution error = 342749295019.9286\n",
      "\n",
      "solution error = 277.92995592951775\n",
      "1.2544377709016761e-06\n",
      "\n",
      "solution error = 590848311212.6737\n",
      "\n",
      "solution error = 590711703063.1523\n",
      "\n",
      "solution error = 584002791158.3018\n",
      "\n",
      "solution error = 564530541495.6588\n",
      "\n",
      "solution error = 503281477161.6947\n",
      "\n",
      "solution error = 381405536088.3882\n",
      "\n",
      "solution error = 41738241274.77734\n",
      "\n",
      "solution error = 211975.95043945312\n",
      "4.3435071409839115e-05\n"
     ]
    }
   ],
   "source": [
    "def weighted_sample_UECM(G, output_path):\n",
    "    g_array = nx.to_numpy_array(G.to_undirected())\n",
    "\n",
    "    UG = UndirectedGraph(g_array)\n",
    "    UG.solve_tool(model=\"crema\",\n",
    "                  method=\"newton\",\n",
    "                  initial_guess=\"random\",\n",
    "                  adjacency=\"cm_exp\",\n",
    "                  method_adjacency=\"newton\")\n",
    "    ## increase step until finding a small enough relative_error_strength\n",
    "    global max_relative_error_strength\n",
    "    step = 200\n",
    "    current_max = 100\n",
    "    while UG.relative_error_strength > max_relative_error_strength:\n",
    "        current_max+=step\n",
    "        UG.solve_tool(model=\"crema\",\n",
    "                      method=\"newton\",\n",
    "                      initial_guess=\"random\",\n",
    "                      adjacency=\"cm_exp\",\n",
    "                      method_adjacency=\"newton\", max_steps=current_max)\n",
    "    print(UG.relative_error_strength)\n",
    "\n",
    "    global sample_count\n",
    "    UG.ensemble_sampler(sample_count, cpu_n=1, output_dir=output_path)\n",
    "\n",
    "def weighted_sample_DECM(G, output_path):\n",
    "    g_array = nx.to_numpy_array(G)\n",
    "    DG = DirectedGraph(g_array)\n",
    "    DG.solve_tool(model=\"crema\",\n",
    "                  method=\"newton\",\n",
    "                  initial_guess=\"random\",\n",
    "                  adjacency=\"dcm_exp\",\n",
    "                  method_adjacency=\"newton\")\n",
    "    global max_relative_error_strength\n",
    "    step = 200\n",
    "    current_max = 100\n",
    "    while DG.relative_error_strength > max_relative_error_strength:\n",
    "        current_max+=step\n",
    "        DG.solve_tool(model=\"crema\",\n",
    "                  method=\"newton\",\n",
    "                  initial_guess=\"random\",\n",
    "                  adjacency=\"dcm_exp\",\n",
    "                  method_adjacency=\"newton\", max_steps=current_max)\n",
    "    print(DG.relative_error_strength)\n",
    "\n",
    "    global sample_count\n",
    "    DG.ensemble_sampler(sample_count, cpu_n=1, output_dir=output_path)\n",
    "\n",
    "def extract_weighted_samples(path, directed):\n",
    "    nets = []\n",
    "    global sample_count\n",
    "    for i in range(sample_count):\n",
    "        file = path + str(i) + \".txt\"\n",
    "        edges = np.loadtxt(file)\n",
    "        if (directed):\n",
    "            G = nx.from_numpy_array(build_adjacency_from_edgelist(edgelist = edges,\n",
    "                                                                  is_directed = True,\n",
    "                                                                  is_sparse = False,\n",
    "                                                                  is_weighted = True),\n",
    "                                    create_using=nx.DiGraph)\n",
    "            nets.append(G)\n",
    "        else:\n",
    "            edges = np.loadtxt(file)\n",
    "            G = nx.from_numpy_array(build_adjacency_from_edgelist(edges,is_directed = False,\n",
    "                                                                  is_sparse = False,\n",
    "                                                                  is_weighted = True))\n",
    "            nets.append(G)\n",
    "    return nets\n",
    "\n",
    "def origin_vs_weighted_sample(nets):\n",
    "    original_undirected_sac = []\n",
    "    original_in_in_directed_sac = []\n",
    "    original_in_out_directed_sac = []\n",
    "    original_out_out_directed_sac = []\n",
    "\n",
    "    undirected_avg_sample_sac=[]\n",
    "    directed_avg_in_in_sample_sac = []\n",
    "    directed_avg_in_out_sample_sac = []\n",
    "    directed_avg_out_out_sample_sac = []\n",
    "    for i in range(len(nets_index)):\n",
    "        G = nets[i]\n",
    "        original_undirected_sac.append(nx.degree_pearson_correlation_coefficient(G.to_undirected(),  weight='weight'))\n",
    "        original_in_out_directed_sac.append(nx.degree_pearson_correlation_coefficient(G, x=\"in\", y=\"out\", weight='weight'))\n",
    "        original_in_in_directed_sac.append(nx.degree_pearson_correlation_coefficient(G, x=\"in\", y=\"in\", weight='weight'))\n",
    "        original_out_out_directed_sac.append(nx.degree_pearson_correlation_coefficient(G, x=\"out\", y=\"out\", weight='weight'))\n",
    "\n",
    "        weighted_UECM_path= \"sample_UECM_\" + nets_index[i] + \"/\"\n",
    "        weighted_sample_UECM(G,weighted_UECM_path)\n",
    "\n",
    "        weighted_DECM_path = \"sample_DECM_\" + nets_index[i] + \"/\"\n",
    "        weighted_sample_DECM(G, weighted_DECM_path)\n",
    "\n",
    "        undirected_samples = extract_weighted_samples(weighted_UECM_path, False)\n",
    "        undirected_samples_sac = []\n",
    "        for sample in undirected_samples:\n",
    "            undirected_samples_sac.append(nx.degree_pearson_correlation_coefficient(sample, weight=\"weight\"))\n",
    "        undirected_avg_sample_sac.append(np.mean(undirected_samples_sac))\n",
    "\n",
    "        weighted_samples = extract_weighted_samples(weighted_DECM_path, True)\n",
    "\n",
    "        directed_in_in_sample_sac = []\n",
    "        directed_in_out_sample_sac = []\n",
    "        directed_out_out_sample_sac = []\n",
    "        for weighted_sample in weighted_samples:\n",
    "            directed_in_out_sample_sac.append(nx.degree_pearson_correlation_coefficient(weighted_sample, x=\"in\", y=\"out\", weight='weight'))\n",
    "            directed_in_in_sample_sac.append(nx.degree_pearson_correlation_coefficient(weighted_sample, x=\"in\", y=\"in\", weight='weight'))\n",
    "            directed_out_out_sample_sac.append(nx.degree_pearson_correlation_coefficient(weighted_sample, x=\"out\", y=\"out\", weight='weight'))\n",
    "        directed_avg_in_in_sample_sac.append(np.mean(directed_in_in_sample_sac))\n",
    "        directed_avg_in_out_sample_sac.append(np.mean(directed_in_out_sample_sac))\n",
    "        directed_avg_out_out_sample_sac.append(np.mean(directed_out_out_sample_sac))\n",
    "\n",
    "    return original_undirected_sac, undirected_avg_sample_sac, original_in_in_directed_sac,directed_avg_in_in_sample_sac,original_in_out_directed_sac,directed_avg_in_out_sample_sac,original_out_out_directed_sac ,directed_avg_out_out_sample_sac\n",
    "original_undirected_sac, undirected_avg_sample_sac, original_in_in_directed_sac,directed_avg_in_in_sample_sac,original_in_out_directed_sac,directed_avg_in_out_sample_sac,original_out_out_directed_sac ,directed_avg_out_out_sample_sac = origin_vs_weighted_sample(nets)"
   ]
  },
  {
   "cell_type": "markdown",
   "source": [
    "### A06.1  - 1 coefficients"
   ],
   "metadata": {
    "collapsed": false
   }
  },
  {
   "cell_type": "code",
   "execution_count": 16,
   "outputs": [
    {
     "name": "stdout",
     "output_type": "stream",
     "text": [
      "WDN_1992\n",
      "average_clustering:  0.8021364732946835\n",
      "reciprocities:  0.367340010185028\n",
      "\n",
      "\n",
      "WDN_1993\n",
      "average_clustering:  0.7826552252417198\n",
      "reciprocities:  0.430931744312026\n",
      "\n",
      "\n",
      "WDN_1994\n",
      "average_clustering:  0.778118724128831\n",
      "reciprocities:  0.541138903672166\n",
      "\n",
      "\n",
      "WDN_1995\n",
      "average_clustering:  0.769316598518603\n",
      "reciprocities:  0.6043664931031333\n",
      "\n",
      "\n",
      "WDN_1996\n",
      "average_clustering:  0.779859983253989\n",
      "reciprocities:  0.6482433229421182\n",
      "\n",
      "\n",
      "WDN_1997\n",
      "average_clustering:  0.7844618494148852\n",
      "reciprocities:  0.6822429906542056\n",
      "\n",
      "\n",
      "WDN_1998\n",
      "average_clustering:  0.7913458153848136\n",
      "reciprocities:  0.7015887290167866\n",
      "\n",
      "\n",
      "WDN_1999\n",
      "average_clustering:  0.7946922756897296\n",
      "reciprocities:  0.716582186821144\n",
      "\n",
      "\n",
      "WDN_2000\n",
      "average_clustering:  0.7928732278480053\n",
      "reciprocities:  0.7232351897836112\n",
      "\n",
      "\n",
      "WDN_2001\n",
      "average_clustering:  0.8020845961993215\n",
      "reciprocities:  0.7375525101577026\n",
      "\n",
      "\n",
      "WDN_2002\n",
      "average_clustering:  0.7955013137787762\n",
      "reciprocities:  0.7041909280425562\n",
      "\n",
      "\n"
     ]
    }
   ],
   "source": [
    "output(nets)"
   ],
   "metadata": {
    "collapsed": false,
    "pycharm": {
     "name": "#%%\n"
    }
   }
  },
  {
   "cell_type": "markdown",
   "source": [
    "### A06.1 - 3 plot"
   ],
   "metadata": {
    "collapsed": false
   }
  },
  {
   "cell_type": "code",
   "execution_count": 24,
   "outputs": [
    {
     "data": {
      "text/plain": "<matplotlib.legend.Legend at 0x7fb8dfd66df0>"
     },
     "execution_count": 24,
     "metadata": {},
     "output_type": "execute_result"
    },
    {
     "data": {
      "text/plain": "<Figure size 432x288 with 1 Axes>",
      "image/png": "[encoded data removed]"
     },
     "metadata": {
      "needs_background": "light"
     },
     "output_type": "display_data"
    },
    {
     "data": {
      "text/plain": "<Figure size 432x288 with 1 Axes>",
      "image/png": "[encoded data removed]"
     },
     "metadata": {
      "needs_background": "light"
     },
     "output_type": "display_data"
    },
    {
     "data": {
      "text/plain": "<Figure size 432x288 with 1 Axes>",
      "image/png": "[encoded data removed]"
     },
     "metadata": {
      "needs_background": "light"
     },
     "output_type": "display_data"
    }
   ],
   "source": [
    "new_figure()\n",
    "plt.title(\"UBCM samples avg_clustering vs original\")\n",
    "plt.plot(nets_index, undirected_sample_clustering_t, label = \"sample's avg\")\n",
    "plt.plot(nets_index, original_undirected_clustering_t, label = \"original\")\n",
    "plt.legend()\n",
    "\n",
    "new_figure()\n",
    "plt.title(\"DBCM samples avg_clustering vs original\")\n",
    "plt.plot(nets_index, directed_sample_clustering_t, label = \"sample's avg\")\n",
    "plt.plot(nets_index, original_clustering_t, label = \"original\")\n",
    "plt.legend()\n",
    "\n",
    "new_figure()\n",
    "plt.title(\"DBCM samples avg_reciprocities vs original\")\n",
    "plt.plot(nets_index, sample_reci_t, label = \"sample's avg\")\n",
    "plt.plot(nets_index, original_reci_t, label = \"original\")\n",
    "plt.legend()"
   ],
   "metadata": {
    "collapsed": false,
    "pycharm": {
     "name": "#%%\n"
    }
   }
  },
  {
   "cell_type": "markdown",
   "metadata": {
    "pycharm": {
     "name": "#%% md\n"
    }
   },
   "source": [
    "### A06.02 - 1"
   ]
  },
  {
   "cell_type": "code",
   "execution_count": 18,
   "outputs": [
    {
     "name": "stdout",
     "output_type": "stream",
     "text": [
      "WDN_1992\n",
      "strength_assortativity_coefficient in-in:  -0.04868776409103535\n",
      "strength_assortativity_coefficient in-out:  -0.04664740434092386\n",
      "strength_assortativity_coefficient out-out:  -0.057603189205412623\n",
      "\n",
      "\n",
      "WDN_1993\n",
      "strength_assortativity_coefficient in-in:  -0.06537929984057926\n",
      "strength_assortativity_coefficient in-out:  -0.06218986718761447\n",
      "strength_assortativity_coefficient out-out:  -0.06910618411247678\n",
      "\n",
      "\n",
      "WDN_1994\n",
      "strength_assortativity_coefficient in-in:  -0.07868988970611884\n",
      "strength_assortativity_coefficient in-out:  -0.07622523439269807\n",
      "strength_assortativity_coefficient out-out:  -0.07800143058821395\n",
      "\n",
      "\n",
      "WDN_1995\n",
      "strength_assortativity_coefficient in-in:  -0.07921393553292569\n",
      "strength_assortativity_coefficient in-out:  -0.07702100817504068\n",
      "strength_assortativity_coefficient out-out:  -0.07638722326404518\n",
      "\n",
      "\n",
      "WDN_1996\n",
      "strength_assortativity_coefficient in-in:  -0.07686964594098097\n",
      "strength_assortativity_coefficient in-out:  -0.07546909805023333\n",
      "strength_assortativity_coefficient out-out:  -0.07420828746119328\n",
      "\n",
      "\n",
      "WDN_1997\n",
      "strength_assortativity_coefficient in-in:  -0.07368635207387701\n",
      "strength_assortativity_coefficient in-out:  -0.07132955497657789\n",
      "strength_assortativity_coefficient out-out:  -0.06970079872009402\n",
      "\n",
      "\n",
      "WDN_1998\n",
      "strength_assortativity_coefficient in-in:  -0.06557057818395721\n",
      "strength_assortativity_coefficient in-out:  -0.06540616504184193\n",
      "strength_assortativity_coefficient out-out:  -0.06583617855060357\n",
      "\n",
      "\n",
      "WDN_1999\n",
      "strength_assortativity_coefficient in-in:  -0.06360116568177393\n",
      "strength_assortativity_coefficient in-out:  -0.06507198196482605\n",
      "strength_assortativity_coefficient out-out:  -0.06730720421208614\n",
      "\n",
      "\n",
      "WDN_2000\n",
      "strength_assortativity_coefficient in-in:  -0.0631970717497539\n",
      "strength_assortativity_coefficient in-out:  -0.06467170213846346\n",
      "strength_assortativity_coefficient out-out:  -0.06730072607061888\n",
      "\n",
      "\n",
      "WDN_2001\n",
      "strength_assortativity_coefficient in-in:  -0.0600169311814399\n",
      "strength_assortativity_coefficient in-out:  -0.06117823973226734\n",
      "strength_assortativity_coefficient out-out:  -0.06348734473716487\n",
      "\n",
      "\n",
      "WDN_2002\n",
      "strength_assortativity_coefficient in-in:  -0.06019317176336693\n",
      "strength_assortativity_coefficient in-out:  -0.060795564663496796\n",
      "strength_assortativity_coefficient out-out:  -0.06417872159686848\n",
      "\n",
      "\n"
     ]
    }
   ],
   "source": [
    "strength_assortativity_coefficient(nets)"
   ],
   "metadata": {
    "collapsed": false,
    "pycharm": {
     "name": "#%%\n"
    }
   }
  },
  {
   "cell_type": "markdown",
   "source": [
    "### A06.02 - plot"
   ],
   "metadata": {
    "collapsed": false
   }
  },
  {
   "cell_type": "code",
   "execution_count": 21,
   "metadata": {
    "pycharm": {
     "name": "#%%\n"
    }
   },
   "outputs": [
    {
     "data": {
      "text/plain": "<matplotlib.legend.Legend at 0x7fb8e1612be0>"
     },
     "execution_count": 21,
     "metadata": {},
     "output_type": "execute_result"
    },
    {
     "data": {
      "text/plain": "<Figure size 432x288 with 1 Axes>",
      "image/png": "[encoded data removed]"
     },
     "metadata": {
      "needs_background": "light"
     },
     "output_type": "display_data"
    },
    {
     "data": {
      "text/plain": "<Figure size 432x288 with 1 Axes>",
      "image/png": "[encoded data removed]"
     },
     "metadata": {
      "needs_background": "light"
     },
     "output_type": "display_data"
    },
    {
     "data": {
      "text/plain": "<Figure size 432x288 with 1 Axes>",
      "image/png": "[encoded data removed]"
     },
     "metadata": {
      "needs_background": "light"
     },
     "output_type": "display_data"
    },
    {
     "data": {
      "text/plain": "<Figure size 432x288 with 1 Axes>",
      "image/png": "[encoded data removed]"
     },
     "metadata": {
      "needs_background": "light"
     },
     "output_type": "display_data"
    }
   ],
   "source": [
    "new_figure()\n",
    "plt.title(\"UECM samples strength_assortativity_coefficient\")\n",
    "plt.plot(nets_index, original_undirected_sac, label=\"real value\")\n",
    "plt.plot(nets_index, undirected_avg_sample_sac, label=\"samples avg\")\n",
    "plt.legend()\n",
    "\n",
    "new_figure()\n",
    "plt.title(\"DECM samples in-in strength_assortativity_coefficient\")\n",
    "plt.plot(nets_index, original_in_in_directed_sac, label=\"real value\")\n",
    "plt.plot(nets_index, directed_avg_in_in_sample_sac, label=\"samples avg\")\n",
    "plt.legend()\n",
    "\n",
    "new_figure()\n",
    "plt.title(\"DECM samples in-out strength_assortativity_coefficient\")\n",
    "plt.plot(nets_index, original_in_out_directed_sac, label=\"real value\")\n",
    "plt.plot(nets_index, directed_avg_in_out_sample_sac, label=\"samples avg\")\n",
    "plt.legend()\n",
    "\n",
    "new_figure()\n",
    "plt.title(\"directed samples out-out strength_assortativity_coefficient\")\n",
    "plt.plot(nets_index, original_out_out_directed_sac, label=\"real value\")\n",
    "plt.plot(nets_index, directed_avg_out_out_sample_sac, label=\"samples avg\")\n",
    "plt.legend()"
   ]
  },
  {
   "cell_type": "markdown",
   "metadata": {
    "pycharm": {
     "name": "#%% md\n"
    }
   },
   "source": [
    "### A06.3\n",
    "The average clustering coefficients here can somehow represent the possibility that one country trade partners also make trade with each other. So from 1992 to 2002, the values are around 0.8. So it means many countries make trade to each other directly.\n",
    "And the extent of this coorperation remains almost the same but drops a little before 1995.\n",
    "\n",
    "The reciprocity here measures the partion, or say the possibility, that countries have mutual trade relations, i.e. countries import from and export to other countres.\n",
    "The value increase from 1992, so it means the mutual trade grows.\n",
    "\n",
    "The strength assortivity means the tendency that countries having large amount of trade partners tend to build trade relation with countries also have a lot of partners.\n",
    "In details, the in-in strength assortivity represents the tendency that countries tend to import from countries import a lot.\n",
    "The in-out assortivity means the tendency that countries tend to import from countries export a lot, and vice versa.\n",
    "And the out-out means the tendency that countries tend to export from countries export a lot.\n",
    "All the values here are negative, so the tendency mentioned above is like one country exporting or importing a lot tends to export or import from countries having low in- or out-degree.\n",
    "\n",
    "From the models.\n",
    "the difference between UBCM samples' average clustering coefficients and the orginal before 1995 is relatively large.\n",
    "When turning the original networks to undirected and using UBCM to fit them, the assumption here is that the the degree distribution is the same, and we don't consider the in- and out-degree when sampling.\n",
    "So the difference of average clustering coefficient somewhat means before 1995, there were more countries didn't have mutual trade than after.\n",
    "\n",
    "DBCM samples average clustering coefficients are almost the same as the originals. It is because of the assumption that the in- and out-degree distribution is the same. So the average clustering coeffiecients here do change a lot.\n",
    "And the reciprocities here can prove the conclusion drawn from UBCM.\n",
    "Also, from the DBCM samples' reciprocity, the nodes which have mutual relation are not dense in a group but seperating around the whole networks, i.e. countires with mutual relation do not gather together like a local union. So after sampling, the reciprocity coeffieients are not largely different from the originals.\n",
    "\n",
    "DECM takes weights, i.e. trade volume, into account.\n",
    "From the negative strength assotativity, in addition to countries trade with countries which may not have a lot of trade relations to other countries, high-trade-value countries also build trade with countries having less trade value.\n",
    "And the absolute value is not too large, so it's like neutral assortive.\n",
    "The difference between samples and original means some specific countries's exporting and importing value increased more than other countries.  \n",
    "\n"
   ]
  }
 ],
 "metadata": {
  "kernelspec": {
   "display_name": "Python 3",
   "language": "python",
   "name": "python3"
  },
  "language_info": {
   "codemirror_mode": {
    "name": "ipython",
    "version": 3
   },
   "file_extension": ".py",
   "mimetype": "text/x-python",
   "name": "python",
   "nbconvert_exporter": "python",
   "pygments_lexer": "ipython3",
   "version": "3.8.8"
  }
 },
 "nbformat": 4,
 "nbformat_minor": 1
}