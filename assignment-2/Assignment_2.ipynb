{
 "cells": [
  {
   "cell_type": "code",
   "execution_count": 2,
   "id": "051a496f",
   "metadata": {},
   "outputs": [],
   "source": [
    "import math as m\n",
    "import numpy as np\n",
    "import matplotlib.pyplot as plt\n",
    "import networkx as nx"
   ]
  },
  {
   "cell_type": "code",
   "execution_count": 116,
   "id": "5941ce3e",
   "metadata": {},
   "outputs": [
    {
     "name": "stdout",
     "output_type": "stream",
     "text": [
      "-0.47862867319679353\n",
      "-0.17809439002671373\n"
     ]
    },
    {
     "data": {
      "image/png": "[encoded data removed]",
      "text/plain": [
       "<Figure size 432x288 with 1 Axes>"
      ]
     },
     "metadata": {
      "needs_background": "light"
     },
     "output_type": "display_data"
    }
   ],
   "source": [
    "G = nx.read_gml(\"data/graph_florentine_families.gml\")\n",
    "G_rnd = nx.algorithms.smallworld.random_reference(G, niter = 10, connectivity=False)\n",
    "\n",
    "node_avg_degree = nx.average_neighbor_degree(G) #Dict of average neighbor degree of each node\n",
    "avg_neighbor_deg = [node_avg_degree[i] for i in G.nodes()] #array of average neighbor degree of each node\n",
    "degree = [G.degree()[i] for i in G.nodes()] #array of degree of each node\n",
    "\n",
    "plt_x = []\n",
    "avg_degree_sum_list = []\n",
    "count = []\n",
    "\n",
    "for i in range(0, max(degree) + 1):\n",
    "    plt_x.append(i)\n",
    "    avg_degree_sum_list.append(0)\n",
    "    count.append(0)\n",
    "\n",
    "for x in range (0, len(degree)):\n",
    "    k = degree[x]\n",
    "    count[k] = count[k] + 1\n",
    "    avg_degree_sum_list[k] = avg_degree_sum_list[k] + avg_neighbor_deg[x]\n",
    "\n",
    "del plt_x[0]\n",
    "del count[0]\n",
    "del avg_degree_sum_list[0]\n",
    "\n",
    "avg_degree_list = [i / j if j else 0 for i, j in zip(avg_degree_sum_list, count)]\n",
    "plt.scatter(plt_x, avg_degree_list)\n",
    "G_acoe = nx.degree_assortativity_coefficient(G)\n",
    "G_rnd_acoe = nx.degree_assortativity_coefficient(G_rnd)\n",
    "print(G_acoe)\n",
    "print(G_rnd_acoe)"
   ]
  },
  {
   "cell_type": "code",
   "execution_count": 75,
   "id": "998bb02a",
   "metadata": {},
   "outputs": [
    {
     "data": {
      "image/png": "[encoded data removed]",
      "text/plain": [
       "<Figure size 432x288 with 1 Axes>"
      ]
     },
     "metadata": {
      "needs_background": "light"
     },
     "output_type": "display_data"
    }
   ],
   "source": [
    "degrees = [G.degree(n) for n in G.nodes()]\n",
    "plt.hist(degrees)\n",
    "plt.show()"
   ]
  },
  {
   "cell_type": "code",
   "execution_count": null,
   "id": "2b13e144",
   "metadata": {},
   "outputs": [],
   "source": []
  },
  {
   "cell_type": "code",
   "execution_count": null,
   "id": "008b0e78",
   "metadata": {},
   "outputs": [],
   "source": []
  }
 ],
 "metadata": {
  "kernelspec": {
   "display_name": "Python 3",
   "language": "python",
   "name": "python3"
  },
  "language_info": {
   "codemirror_mode": {
    "name": "ipython",
    "version": 3
   },
   "file_extension": ".py",
   "mimetype": "text/x-python",
   "name": "python",
   "nbconvert_exporter": "python",
   "pygments_lexer": "ipython3",
   "version": "3.8.8"
  }
 },
 "nbformat": 4,
 "nbformat_minor": 5
}
