{
 "cells": [
  {
   "cell_type": "code",
   "execution_count": 1,
   "id": "051a496f",
   "metadata": {},
   "outputs": [],
   "source": [
    "import math as m\n",
    "import numpy as np\n",
    "import matplotlib.pyplot as plt\n",
    "import networkx as nx"
   ]
  },
  {
   "cell_type": "code",
   "execution_count": 9,
   "id": "5941ce3e",
   "metadata": {},
   "outputs": [
    {
     "data": {
      "text/plain": [
       "[8.0,\n",
       " 2.625,\n",
       " 5.0,\n",
       " 5.0,\n",
       " 3.5,\n",
       " 5.0,\n",
       " 4.25,\n",
       " 4.0,\n",
       " 4.25,\n",
       " 4.0,\n",
       " 4.25,\n",
       " 5.0,\n",
       " 5.0,\n",
       " 5.0,\n",
       " 5.0]"
      ]
     },
     "execution_count": 9,
     "metadata": {},
     "output_type": "execute_result"
    }
   ],
   "source": [
    "G = nx.read_gml(\"data/graph_florentine_families.gml\")\n",
    "\n",
    "\n",
    "node_avg_nd = nx.average_neighbor_degree(G)\n",
    "deg = [node_avg_nd[i] for i in G.nodes()]\n",
    "\n",
    "plt.yscale('log')\n",
    "plt.xscale('log')\n",
    "gk_plt = plt.hist(deg, bins = np.logspace(np.log10(1), np.log10(17), 10), density=True)\n",
    "\n",
    "\n"
   ]
  },
  {
   "cell_type": "code",
   "execution_count": null,
   "id": "998bb02a",
   "metadata": {},
   "outputs": [],
   "source": [
    "nx."
   ]
  }
 ],
 "metadata": {
  "kernelspec": {
   "display_name": "Python 3 (ipykernel)",
   "language": "python",
   "name": "python3"
  },
  "language_info": {
   "codemirror_mode": {
    "name": "ipython",
    "version": 3
   },
   "file_extension": ".py",
   "mimetype": "text/x-python",
   "name": "python",
   "nbconvert_exporter": "python",
   "pygments_lexer": "ipython3",
   "version": "3.9.7"
  }
 },
 "nbformat": 4,
 "nbformat_minor": 5
}
