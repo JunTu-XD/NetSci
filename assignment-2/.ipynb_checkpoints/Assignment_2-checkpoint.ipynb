{
 "cells": [
  {
   "cell_type": "code",
   "execution_count": 1,
   "id": "051a496f",
   "metadata": {},
   "outputs": [],
   "source": [
    "import math as m\n",
    "import numpy as np\n",
    "import matplotlib.pyplot as plt\n",
    "import networkx as nx"
   ]
  },
  {
   "cell_type": "code",
   "execution_count": 12,
   "id": "6860e907",
   "metadata": {},
   "outputs": [
    {
     "name": "stdout",
     "output_type": "stream",
     "text": [
      "Scanning graph file is done\n",
      "-----------------------\n"
     ]
    }
   ],
   "source": [
    "### Load Graphs\n",
    "data_base_path = \"data/\"\n",
    "data_rnd_base_path = \"data_random/\"\n",
    "\n",
    "G_ff = nx.read_gml(data_base_path + \"graph_florentine_families.gml\")\n",
    "# G_ff_rnd = nx.algorithms.smallworld.random_reference(G_ff, niter = 10, connectivity=False)\n",
    "G_ff_rnd = nx.read_gml(data_rnd_base_path + \"graph_florentine_families_random.gml\")\n",
    "\n",
    "G_e_al = nx.read_gml(data_base_path + \"graph_eu_airlines.gml\")\n",
    "G_fb = nx.read_gml(data_base_path + \"graph_facebook.gml\")\n",
    "G_ap = nx.read_gml(data_base_path + \"graph_AstroPh.gml\")\n",
    "G_cm = nx.read_gml(data_base_path + \"graph_CondMat.gml\")\n",
    "G_gt = nx.read_gml(data_base_path + \"graph_game_thrones.gml\")\n",
    "G_ci = nx.read_gml(data_base_path + \"graph_celegansInteractomes.gml\")\n",
    "G_in = nx.read_gml(data_base_path + \"graph_internet.gml\")\n",
    "G_c = nx.read_gml(data_base_path + \"graph_chess.gml\")\n",
    "G_jc = nx.read_gml(data_base_path + \"graph_jazz_collab.gml\")\n",
    "G_d = nx.read_gml(data_base_path + \"graph_dolphins.gml\")\n",
    "G_t = nx.read_gml(data_base_path + \"graph_terrorists.gml\")\n",
    "\n",
    "G_e_al_rnd = nx.read_gml(data_rnd_base_path + \"graph_eu_airlines_random.gml\")\n",
    "G_fb_rnd = nx.read_gml(data_rnd_base_path + \"graph_facebook_random.gml\")\n",
    "G_ap_rnd = nx.read_gml(data_rnd_base_path + \"graph_AstroPh_random.gml\")\n",
    "G_cm_rnd = nx.read_gml(data_rnd_base_path + \"graph_CondMat_random.gml\")\n",
    "G_gt_rnd = nx.read_gml(data_rnd_base_path + \"graph_game_thrones_random.gml\")\n",
    "G_ci_rnd = nx.read_gml(data_rnd_base_path + \"graph_celegansInteractomes_random.gml\")\n",
    "G_in_rnd = nx.read_gml(data_rnd_base_path + \"graph_internet_random.gml\")\n",
    "G_c_rnd = nx.read_gml(data_rnd_base_path + \"graph_chess_random.gml\")\n",
    "G_jc_rnd = nx.read_gml(data_rnd_base_path + \"graph_jazz_collab_random.gml\")\n",
    "G_d_rnd = nx.read_gml(data_rnd_base_path + \"graph_dolphins_random.gml\")\n",
    "G_t_rnd = nx.read_gml(data_rnd_base_path + \"graph_terrorists_random.gml\")\n",
    "\n",
    "output_list = [\n",
    "    [\"graph_florentine_families\", G_ff, G_ff_rnd],\n",
    "    [\"graph_eu_airlines\", G_e_al, G_e_al_rnd],\n",
    "    [\"graph_eu_airlines_random\", G_e_al, G_e_al_rnd],\n",
    "    [\"graph_facebook_random\", G_fb, G_fb_rnd],\n",
    "    [\"graph_AstroPh_random\", G_ap, G_ap_rnd],\n",
    "    [\"graph_CondMat_random\", G_cm, G_cm_rnd],\n",
    "    [\"graph_game_thrones_random\", G_gt, G_gt_rnd],\n",
    "    [\"graph_celegansInteractomes_random\", G_ci, G_ci_rnd],\n",
    "    [\"graph_internet_random\", G_in, G_in_rnd],\n",
    "    [\"graph_chess_random\", G_c, G_c_rnd],\n",
    "    [\"graph_jazz_collab_random\", G_jc, G_jc_rnd],\n",
    "    [\"graph_dolphins_random\", G_d, G_d_rnd],\n",
    "    [\"graph_terrorists_random\", G_t, G_t_rnd]\n",
    "]\n",
    "print(\"Scanning graph file is done\\n\"+\"-----------------------\")"
   ]
  },
  {
   "cell_type": "markdown",
   "id": "20d2187a",
   "metadata": {},
   "source": [
    "# A02.1-1"
   ]
  },
  {
   "cell_type": "code",
   "execution_count": 22,
   "id": "5941ce3e",
   "metadata": {},
   "outputs": [],
   "source": [
    "def avg_knn(G):\n",
    "    node_avg_degree = nx.average_neighbor_degree(G) #Dict of average neighbor degree of each node\n",
    "    avg_neighbor_deg = [node_avg_degree[i] for i in G.nodes()] #array of average neighbor degree of each node\n",
    "    degree = [G.degree()[i] for i in G.nodes()] #array of degree of each node\n",
    "    plt_x = []\n",
    "    avg_degree_sum_list = []\n",
    "    count = []\n",
    "\n",
    "    for i in range(0, max(degree) + 1):\n",
    "        plt_x.append(i)\n",
    "        avg_degree_sum_list.append(0)\n",
    "        count.append(0)\n",
    "\n",
    "    for x in range (0, len(degree)):\n",
    "        k = degree[x]\n",
    "        count[k] = count[k] + 1\n",
    "        avg_degree_sum_list[k] = avg_degree_sum_list[k] + avg_neighbor_deg[x]\n",
    "\n",
    "    del plt_x[0]\n",
    "    del count[0]\n",
    "    del avg_degree_sum_list[0]\n",
    "\n",
    "    avg_degree_list = [i / j if j else 0 for i, j in zip(avg_degree_sum_list, count)]\n",
    "    return plt_x, avg_degree_list\n",
    "\n",
    "# x-axis: degree k, y-axis: knn(k)\n",
    "def draw_plot_knn(G):\n",
    "    plt_x, avg_degree_list = avg_knn(G)\n",
    "    plt.subplot(211)\n",
    "    plt.scatter(plt_x, avg_degree_list)\n"
   ]
  },
  {
   "cell_type": "markdown",
   "id": "c510caf3",
   "metadata": {},
   "source": [
    "## A02.1-2,3"
   ]
  },
  {
   "cell_type": "code",
   "execution_count": 14,
   "id": "998bb02a",
   "metadata": {},
   "outputs": [],
   "source": [
    "def print_assortativity_coefficient(G, G_rdm):\n",
    "    G_acoe = nx.degree_assortativity_coefficient(G)\n",
    "    G_acoe_rdm = nx.degree_assortativity_coefficient(G_rdm)\n",
    "    print(\"assortativity coefficient: \" + str(round(G_acoe, 4)))\n",
    "    print(\"assortativity coefficient of random: \"+ str(round(G_acoe_rdm, 4)))"
   ]
  },
  {
   "cell_type": "markdown",
   "id": "5d53a903",
   "metadata": {},
   "source": [
    "## A02.2 - 1"
   ]
  },
  {
   "cell_type": "code",
   "execution_count": 15,
   "id": "145cd7af",
   "metadata": {},
   "outputs": [],
   "source": [
    "## todo what is x-axis?\n",
    "# degrees = [G.degree(n) for n in G.nodes()]\n",
    "\n",
    "# plt.hist(degrees)\n",
    "# plt.show()"
   ]
  },
  {
   "cell_type": "markdown",
   "id": "803759a3",
   "metadata": {},
   "source": [
    "## A02.2 -  2"
   ]
  },
  {
   "cell_type": "code",
   "execution_count": 16,
   "id": "008b0e78",
   "metadata": {},
   "outputs": [],
   "source": [
    "## return C_i, C_rnd_i\n",
    "def node_clustering_coefficient(G, G_rnd, node_key):\n",
    "    G_ccoe = nx.algorithms.cluster.clustering(G)\n",
    "    G_rnd_ccoe = nx.algorithms.cluster.clustering(G_rnd)\n",
    "    ## TODO: print every node or not?\n",
    "    return G_ccoe[node_key], G_rnd_ccoe[node_key]"
   ]
  },
  {
   "cell_type": "markdown",
   "id": "6dae3414",
   "metadata": {},
   "source": [
    "## A02.2 -  3"
   ]
  },
  {
   "cell_type": "code",
   "execution_count": 24,
   "id": "83b8d056",
   "metadata": {},
   "outputs": [],
   "source": [
    "def scatter_clustering_coefficient(G, G_rnd):\n",
    "    G_ccoe = nx.algorithms.cluster.clustering(G)\n",
    "    G_coe_array = [G_ccoe[i] for i in G.nodes()]\n",
    "    \n",
    "    G_rnd_ccoe = nx.algorithms.cluster.clustering(G_rnd)\n",
    "    G_rnd_coe_array = [G_rnd_ccoe[i] for i in G_rnd.nodes()]\n",
    "\n",
    "    plt.subplot(212)\n",
    "    G_plt = plt.scatter(G.nodes(), G_coe_array, marker=\"o\")\n",
    "    G_rnd_plt = plt.scatter(G_rnd.nodes(), G_rnd_coe_array, marker=\"x\")\n",
    "    plt.legend((G_plt, G_rnd_plt),\n",
    "           ('original', 'random'),\n",
    "           scatterpoints=1,\n",
    "           loc='upper right',\n",
    "           ncol=3,\n",
    "           fontsize=8)\n",
    "    plt.show()"
   ]
  },
  {
   "cell_type": "markdown",
   "id": "bc712539",
   "metadata": {},
   "source": [
    "# Output for All Graphs"
   ]
  },
  {
   "cell_type": "code",
   "execution_count": null,
   "id": "377f32c3",
   "metadata": {},
   "outputs": [],
   "source": [
    "i=0\n",
    "for item in output_list:\n",
    "\n",
    "    G_name = item[0]\n",
    "    G = item[1]\n",
    "    G_rnd = item[2]\n",
    "    print(\"--------------------------\")\n",
    "    print(\"---\"+G_name+\"---\")\n",
    "    print(\"A02.1 - 1\")\n",
    "    plt.figure(i,figsize=(80, 60), dpi=80)\n",
    "    draw_plot_knn(G)\n",
    "    i=i+1\n",
    "    \n",
    "    print(\"A02.1 - 2 & 3\")\n",
    "    print_assortativity_coefficient(G, G_rnd)\n",
    "    print(\"A02.2 - 1\")\n",
    "    print(\"A02.2 - 2\")\n",
    "    print(\"A02.2 - 3\")\n",
    "\n",
    "    plt.figure(i,figsize=(80, 60), dpi=80)\n",
    "    scatter_clustering_coefficient(G, G_rnd)\n",
    "    i=i+1"
   ]
  },
  {
   "cell_type": "code",
   "execution_count": null,
   "id": "1c736059",
   "metadata": {},
   "outputs": [],
   "source": []
  }
 ],
 "metadata": {
  "kernelspec": {
   "display_name": "Python 3 (ipykernel)",
   "language": "python",
   "name": "python3"
  },
  "language_info": {
   "codemirror_mode": {
    "name": "ipython",
    "version": 3
   },
   "file_extension": ".py",
   "mimetype": "text/x-python",
   "name": "python",
   "nbconvert_exporter": "python",
   "pygments_lexer": "ipython3",
   "version": "3.9.7"
  }
 },
 "nbformat": 4,
 "nbformat_minor": 5
}
