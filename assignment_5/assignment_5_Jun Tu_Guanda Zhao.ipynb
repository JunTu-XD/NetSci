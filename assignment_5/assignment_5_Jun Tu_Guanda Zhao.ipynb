{
 "cells": [
  {
   "cell_type": "code",
   "execution_count": 1,
   "id": "7bc31f9e",
   "metadata": {},
   "outputs": [],
   "source": [
    "# Jun Tu 21-732-722\n",
    "# Guanda Zhao 21-716-345"
   ]
  },
  {
   "cell_type": "code",
   "execution_count": 2,
   "id": "deab2024",
   "metadata": {},
   "outputs": [],
   "source": [
    "import math as m\n",
    "import numpy as np\n",
    "import matplotlib.pyplot as plt\n",
    "import networkx as nx"
   ]
  },
  {
   "cell_type": "code",
   "execution_count": 3,
   "id": "7da1e342",
   "metadata": {},
   "outputs": [
    {
     "ename": "FileNotFoundError",
     "evalue": "[Errno 2] No such file or directory: 'Data/graph_actor.gml'",
     "output_type": "error",
     "traceback": [
      "\u001b[1;31m---------------------------------------------------------------------------\u001b[0m",
      "\u001b[1;31mFileNotFoundError\u001b[0m                         Traceback (most recent call last)",
      "\u001b[1;32m<ipython-input-3-1285e10dfd04>\u001b[0m in \u001b[0;36m<module>\u001b[1;34m\u001b[0m\n\u001b[0;32m      2\u001b[0m \u001b[0mdata_base_path\u001b[0m \u001b[1;33m=\u001b[0m \u001b[1;34m\"Data/\"\u001b[0m\u001b[1;33m\u001b[0m\u001b[1;33m\u001b[0m\u001b[0m\n\u001b[0;32m      3\u001b[0m \u001b[1;33m\u001b[0m\u001b[0m\n\u001b[1;32m----> 4\u001b[1;33m \u001b[0mG_actor\u001b[0m \u001b[1;33m=\u001b[0m \u001b[0mnx\u001b[0m\u001b[1;33m.\u001b[0m\u001b[0mread_gml\u001b[0m\u001b[1;33m(\u001b[0m\u001b[0mdata_base_path\u001b[0m \u001b[1;33m+\u001b[0m \u001b[1;34m\"graph_actor.gml\"\u001b[0m\u001b[1;33m)\u001b[0m\u001b[1;33m\u001b[0m\u001b[1;33m\u001b[0m\u001b[0m\n\u001b[0m\u001b[0;32m      5\u001b[0m \u001b[0mG_amazon\u001b[0m \u001b[1;33m=\u001b[0m \u001b[0mnx\u001b[0m\u001b[1;33m.\u001b[0m\u001b[0mread_gml\u001b[0m\u001b[1;33m(\u001b[0m\u001b[0mdata_base_path\u001b[0m \u001b[1;33m+\u001b[0m \u001b[1;34m\"graph_amazon.gml\"\u001b[0m\u001b[1;33m)\u001b[0m\u001b[1;33m\u001b[0m\u001b[1;33m\u001b[0m\u001b[0m\n\u001b[0;32m      6\u001b[0m \u001b[0mG_escort\u001b[0m \u001b[1;33m=\u001b[0m \u001b[0mnx\u001b[0m\u001b[1;33m.\u001b[0m\u001b[0mread_gml\u001b[0m\u001b[1;33m(\u001b[0m\u001b[0mdata_base_path\u001b[0m \u001b[1;33m+\u001b[0m \u001b[1;34m\"graph_escort.gml\"\u001b[0m\u001b[1;33m)\u001b[0m\u001b[1;33m\u001b[0m\u001b[1;33m\u001b[0m\u001b[0m\n",
      "\u001b[1;32m~\\anaconda3\\lib\\site-packages\\networkx\\utils\\decorators.py\u001b[0m in \u001b[0;36mfunc\u001b[1;34m(_argmap__wrapper, *args, **kwargs)\u001b[0m\n\u001b[0;32m    793\u001b[0m \u001b[1;33m\u001b[0m\u001b[0m\n\u001b[0;32m    794\u001b[0m             \u001b[1;32mdef\u001b[0m \u001b[0mfunc\u001b[0m\u001b[1;33m(\u001b[0m\u001b[1;33m*\u001b[0m\u001b[0margs\u001b[0m\u001b[1;33m,\u001b[0m \u001b[0m__wrapper\u001b[0m\u001b[1;33m=\u001b[0m\u001b[1;32mNone\u001b[0m\u001b[1;33m,\u001b[0m \u001b[1;33m**\u001b[0m\u001b[0mkwargs\u001b[0m\u001b[1;33m)\u001b[0m\u001b[1;33m:\u001b[0m\u001b[1;33m\u001b[0m\u001b[1;33m\u001b[0m\u001b[0m\n\u001b[1;32m--> 795\u001b[1;33m                 \u001b[1;32mreturn\u001b[0m \u001b[0margmap\u001b[0m\u001b[1;33m.\u001b[0m\u001b[0m_lazy_compile\u001b[0m\u001b[1;33m(\u001b[0m\u001b[0m__wrapper\u001b[0m\u001b[1;33m)\u001b[0m\u001b[1;33m(\u001b[0m\u001b[1;33m*\u001b[0m\u001b[0margs\u001b[0m\u001b[1;33m,\u001b[0m \u001b[1;33m**\u001b[0m\u001b[0mkwargs\u001b[0m\u001b[1;33m)\u001b[0m\u001b[1;33m\u001b[0m\u001b[1;33m\u001b[0m\u001b[0m\n\u001b[0m\u001b[0;32m    796\u001b[0m \u001b[1;33m\u001b[0m\u001b[0m\n\u001b[0;32m    797\u001b[0m         \u001b[1;31m# standard function-wrapping stuff\u001b[0m\u001b[1;33m\u001b[0m\u001b[1;33m\u001b[0m\u001b[1;33m\u001b[0m\u001b[0m\n",
      "\u001b[1;32m~\\anaconda3\\lib\\site-packages\\networkx\\utils\\decorators.py\u001b[0m in \u001b[0;36margmap_read_gml_1\u001b[1;34m(path, label, destringizer)\u001b[0m\n\u001b[0;32m      1\u001b[0m \u001b[1;32mfrom\u001b[0m \u001b[0mcollections\u001b[0m \u001b[1;32mimport\u001b[0m \u001b[0mdefaultdict\u001b[0m\u001b[1;33m\u001b[0m\u001b[1;33m\u001b[0m\u001b[0m\n\u001b[0;32m      2\u001b[0m \u001b[1;32mfrom\u001b[0m \u001b[0mos\u001b[0m\u001b[1;33m.\u001b[0m\u001b[0mpath\u001b[0m \u001b[1;32mimport\u001b[0m \u001b[0msplitext\u001b[0m\u001b[1;33m\u001b[0m\u001b[1;33m\u001b[0m\u001b[0m\n\u001b[1;32m----> 3\u001b[1;33m \u001b[1;32mfrom\u001b[0m \u001b[0mcontextlib\u001b[0m \u001b[1;32mimport\u001b[0m \u001b[0mcontextmanager\u001b[0m\u001b[1;33m\u001b[0m\u001b[1;33m\u001b[0m\u001b[0m\n\u001b[0m\u001b[0;32m      4\u001b[0m \u001b[1;32mfrom\u001b[0m \u001b[0mpathlib\u001b[0m \u001b[1;32mimport\u001b[0m \u001b[0mPath\u001b[0m\u001b[1;33m\u001b[0m\u001b[1;33m\u001b[0m\u001b[0m\n\u001b[0;32m      5\u001b[0m \u001b[1;32mimport\u001b[0m \u001b[0mwarnings\u001b[0m\u001b[1;33m\u001b[0m\u001b[1;33m\u001b[0m\u001b[0m\n",
      "\u001b[1;32m~\\anaconda3\\lib\\site-packages\\networkx\\utils\\decorators.py\u001b[0m in \u001b[0;36m_open_file\u001b[1;34m(path)\u001b[0m\n\u001b[0;32m    186\u001b[0m             \u001b[1;32mreturn\u001b[0m \u001b[0mpath\u001b[0m\u001b[1;33m,\u001b[0m \u001b[1;32mlambda\u001b[0m\u001b[1;33m:\u001b[0m \u001b[1;32mNone\u001b[0m\u001b[1;33m\u001b[0m\u001b[1;33m\u001b[0m\u001b[0m\n\u001b[0;32m    187\u001b[0m \u001b[1;33m\u001b[0m\u001b[0m\n\u001b[1;32m--> 188\u001b[1;33m         \u001b[0mfobj\u001b[0m \u001b[1;33m=\u001b[0m \u001b[0m_dispatch_dict\u001b[0m\u001b[1;33m[\u001b[0m\u001b[0mext\u001b[0m\u001b[1;33m]\u001b[0m\u001b[1;33m(\u001b[0m\u001b[0mpath\u001b[0m\u001b[1;33m,\u001b[0m \u001b[0mmode\u001b[0m\u001b[1;33m=\u001b[0m\u001b[0mmode\u001b[0m\u001b[1;33m)\u001b[0m\u001b[1;33m\u001b[0m\u001b[1;33m\u001b[0m\u001b[0m\n\u001b[0m\u001b[0;32m    189\u001b[0m         \u001b[1;32mreturn\u001b[0m \u001b[0mfobj\u001b[0m\u001b[1;33m,\u001b[0m \u001b[1;32mlambda\u001b[0m\u001b[1;33m:\u001b[0m \u001b[0mfobj\u001b[0m\u001b[1;33m.\u001b[0m\u001b[0mclose\u001b[0m\u001b[1;33m(\u001b[0m\u001b[1;33m)\u001b[0m\u001b[1;33m\u001b[0m\u001b[1;33m\u001b[0m\u001b[0m\n\u001b[0;32m    190\u001b[0m \u001b[1;33m\u001b[0m\u001b[0m\n",
      "\u001b[1;31mFileNotFoundError\u001b[0m: [Errno 2] No such file or directory: 'Data/graph_actor.gml'"
     ]
    }
   ],
   "source": [
    "### Load Graphs\n",
    "data_base_path = \"Data/\"\n",
    "\n",
    "G_actor = nx.read_gml(data_base_path + \"graph_actor.gml\")\n",
    "G_amazon = nx.read_gml(data_base_path + \"graph_amazon.gml\")\n",
    "G_escort = nx.read_gml(data_base_path + \"graph_escort.gml\")\n",
    "G_internet = nx.read_gml(data_base_path + \"graph_internet.gml\")"
   ]
  },
  {
   "cell_type": "code",
   "execution_count": null,
   "id": "aca4e20d",
   "metadata": {},
   "outputs": [],
   "source": []
  },
  {
   "cell_type": "code",
   "execution_count": null,
   "id": "c0fba9a9",
   "metadata": {},
   "outputs": [],
   "source": []
  },
  {
   "cell_type": "code",
   "execution_count": 4,
   "id": "1c6ea451",
   "metadata": {},
   "outputs": [],
   "source": [
    "def print_properties(G, G_rnd, N, i):\n",
    "    plt.figure(i)\n",
    "    plt.title(\"Comparision of properties\")\n",
    "    \n",
    "    \n",
    "    \n",
    "   \n",
    "    print(\"\\n\")\n",
    "    \n",
    "    plt.xscale(\"log\")\n",
    "    plt.yscale(\"log\")\n",
    "#     plt.legend((p_acc, p_ass, p_asp, p_d),\n",
    "#            ('Average assortativity coefficient', 'Assortativity', 'Average shortest path', 'Diameter'),\n",
    "#            scatterpoints=1,\n",
    "#            loc='upper left',\n",
    "#            ncol=2,\n",
    "#            fontsize=8)\n",
    "\n",
    "    "
   ]
  },
  {
   "cell_type": "code",
   "execution_count": 5,
   "id": "860b8724",
   "metadata": {},
   "outputs": [
    {
     "name": "stdout",
     "output_type": "stream",
     "text": [
      "Average assortativity coefficient for N = 50 is: 0.2252\n",
      "Average assortativity coefficient for randomized network of N = 50 is: 0.1311\n",
      "Assortativity for N = 50 is: -0.1322\n",
      "Assortativity for randomized network of N = 50 is: -0.1606\n",
      "Average shortest path for N = 50 is: 2.3355\n",
      "Average shortest path for randomized network of N = 50 is: 2.3118\n",
      "Diameter for N = 50 is: 4\n",
      "Diameter for randomized network of N = 50 is: 4\n",
      "\n",
      "\n",
      "Average assortativity coefficient for N = 100 is: 0.1667\n",
      "Average assortativity coefficient for randomized network of N = 100 is: 0.1413\n",
      "Assortativity for N = 100 is: -0.1755\n",
      "Assortativity for randomized network of N = 100 is: -0.1245\n",
      "Average shortest path for N = 100 is: 2.5723\n",
      "Average shortest path for randomized network of N = 100 is: 2.6067\n",
      "Diameter for N = 100 is: 5\n",
      "Diameter for randomized network of N = 100 is: 5\n",
      "\n",
      "\n",
      "Average assortativity coefficient for N = 500 is: 0.0543\n",
      "Average assortativity coefficient for randomized network of N = 500 is: 0.0458\n",
      "Assortativity for N = 500 is: -0.1141\n",
      "Assortativity for randomized network of N = 500 is: -0.087\n",
      "Average shortest path for N = 500 is: 3.2272\n",
      "Average shortest path for randomized network of N = 500 is: 3.2996\n",
      "Diameter for N = 500 is: 5\n",
      "Diameter for randomized network of N = 500 is: 6\n",
      "\n",
      "\n"
     ]
    },
    {
     "data": {
      "text/plain": [
       "<matplotlib.legend.Legend at 0x18ce8176a60>"
      ]
     },
     "execution_count": 5,
     "metadata": {},
     "output_type": "execute_result"
    },
    {
     "data": {
      "image/png": "[encoded data removed]",
      "text/plain": [
       "<Figure size 432x288 with 1 Axes>"
      ]
     },
     "metadata": {
      "needs_background": "light"
     },
     "output_type": "display_data"
    },
    {
     "data": {
      "image/png": "[encoded data removed]",
      "text/plain": [
       "<Figure size 432x288 with 1 Axes>"
      ]
     },
     "metadata": {
      "needs_background": "light"
     },
     "output_type": "display_data"
    },
    {
     "data": {
      "image/png": "[encoded data removed]",
      "text/plain": [
       "<Figure size 432x288 with 1 Axes>"
      ]
     },
     "metadata": {
      "needs_background": "light"
     },
     "output_type": "display_data"
    },
    {
     "data": {
      "image/png": "[encoded data removed]",
      "text/plain": [
       "<Figure size 432x288 with 1 Axes>"
      ]
     },
     "metadata": {
      "needs_background": "light"
     },
     "output_type": "display_data"
    }
   ],
   "source": [
    "#task 2 \n",
    "\n",
    "m = 3\n",
    "N = [50, 100, 500]\n",
    "list_avg_cluster_coefficient = []\n",
    "list_rnd_avg_cluster_coefficient = []\n",
    "list_assortativity = []\n",
    "list_rnd_assortativity = []\n",
    "list_avg_shortest_path = []\n",
    "list_rnd_avg_shortest_path = []\n",
    "list_diameter = []\n",
    "list_rnd_diameter = []\n",
    "\n",
    "for i in range(0, len(N)):\n",
    "    G = nx.barabasi_albert_graph(N[i], m)\n",
    "    G_rnd = nx.algorithms.smallworld.random_reference(G)\n",
    "    \n",
    "    avg_cluster_coefficient = nx.average_clustering(G)\n",
    "    avg_cluster_coefficient_rnd = nx.average_clustering(G_rnd)\n",
    "    list_avg_cluster_coefficient.append(avg_cluster_coefficient)\n",
    "    list_rnd_avg_cluster_coefficient.append(avg_cluster_coefficient_rnd)\n",
    "    print(\"Average assortativity coefficient for N =\", N[i] ,\"is: \" + str(round(avg_cluster_coefficient, 4)))\n",
    "    print(\"Average assortativity coefficient for randomized network of N =\", N[i] ,\"is: \"+ str(round(avg_cluster_coefficient_rnd, 4)))\n",
    "    \n",
    "    assortativity = nx.degree_assortativity_coefficient(G)\n",
    "    assortativity_rnd = nx.degree_assortativity_coefficient(G_rnd)\n",
    "    list_assortativity.append(assortativity)\n",
    "    list_rnd_assortativity.append(assortativity_rnd)\n",
    "    print(\"Assortativity for N =\", N[i] ,\"is: \" + str(round(assortativity, 4)))\n",
    "    print(\"Assortativity for randomized network of N =\", N[i] ,\"is: \"+ str(round(assortativity_rnd, 4)))\n",
    "    \n",
    "    avg_shortest_path = nx.average_shortest_path_length(G)\n",
    "    avg_shortest_path_rnd = nx.average_shortest_path_length(G_rnd)\n",
    "    list_avg_shortest_path.append(avg_shortest_path)\n",
    "    list_rnd_avg_shortest_path.append(avg_shortest_path_rnd)\n",
    "    print(\"Average shortest path for N =\", N[i] ,\"is: \" + str(round(avg_shortest_path, 4)))\n",
    "    print(\"Average shortest path for randomized network of N =\", N[i] ,\"is: \"+ str(round(avg_shortest_path_rnd, 4)))\n",
    "    \n",
    "    diameter = nx.diameter(G)\n",
    "    diameter_rnd = nx.diameter(G_rnd)\n",
    "    list_diameter.append(diameter)\n",
    "    list_rnd_diameter.append(diameter_rnd)\n",
    "    print(\"Diameter for N =\", N[i] ,\"is: \" + str(diameter))\n",
    "    print(\"Diameter for randomized network of N =\", N[i] ,\"is: \"+ str(diameter_rnd))\n",
    "    print(\"\\n\")\n",
    "    \n",
    "plt.figure(1)\n",
    "plt.title(\"Average Clustering Coefficient\")\n",
    "plt.xscale(\"log\")\n",
    "plt.xlabel(\"N\")\n",
    "plt.ylabel(\"Average Clustering Coefficient\")\n",
    "original = plt.scatter(N, list_avg_cluster_coefficient, color = 'blue')\n",
    "rnd = plt.scatter(N, list_rnd_avg_cluster_coefficient, color = 'red')\n",
    "plt.legend((original, rnd), \n",
    "           ('Original Network', 'Randomized Network'),loc='lower right',\n",
    "           ncol=1,\n",
    "           fontsize=8)\n",
    "\n",
    "plt.figure(2)\n",
    "plt.title(\"Assortativity\")\n",
    "plt.xscale(\"log\")\n",
    "plt.xlabel(\"N\")\n",
    "plt.ylabel(\"Assortativity\")\n",
    "plt.scatter(N, list_assortativity, color = 'blue')\n",
    "plt.scatter(N, list_rnd_assortativity, color = 'red')\n",
    "plt.legend((original, rnd), \n",
    "           ('Original Network', 'Randomized Network'),loc='lower right',\n",
    "           ncol=1,\n",
    "           fontsize=8)\n",
    "\n",
    "plt.figure(3)\n",
    "plt.title(\"Average shortest path\")\n",
    "plt.xscale(\"log\")\n",
    "plt.xlabel(\"N\")\n",
    "plt.ylabel(\"Average shortest path\")\n",
    "plt.scatter(N, list_avg_shortest_path, color = 'blue')\n",
    "plt.scatter(N, list_rnd_avg_shortest_path, color = 'red')\n",
    "plt.legend((original, rnd), \n",
    "           ('Original Network', 'Randomized Network'),loc='lower right',\n",
    "           ncol=1,\n",
    "           fontsize=8)\n",
    "\n",
    "plt.figure(4)\n",
    "plt.title(\"Diameter\")\n",
    "plt.xscale(\"log\")\n",
    "plt.xlabel(\"N\")\n",
    "plt.ylabel(\"Diameter\")\n",
    "plt.scatter(N, list_diameter, color = 'blue')\n",
    "plt.scatter(N, list_rnd_diameter, color = 'red')\n",
    "plt.legend((original, rnd), \n",
    "           ('Original Network', 'Randomized Network'),loc='lower right',\n",
    "           ncol=1,\n",
    "           fontsize=8)"
   ]
  },
  {
   "cell_type": "code",
   "execution_count": null,
   "id": "aef41ae6",
   "metadata": {},
   "outputs": [],
   "source": []
  },
  {
   "cell_type": "code",
   "execution_count": null,
   "id": "f23de568",
   "metadata": {},
   "outputs": [],
   "source": []
  }
 ],
 "metadata": {
  "kernelspec": {
   "display_name": "Python 3",
   "language": "python",
   "name": "python3"
  },
  "language_info": {
   "codemirror_mode": {
    "name": "ipython",
    "version": 3
   },
   "file_extension": ".py",
   "mimetype": "text/x-python",
   "name": "python",
   "nbconvert_exporter": "python",
   "pygments_lexer": "ipython3",
   "version": "3.8.8"
  }
 },
 "nbformat": 4,
 "nbformat_minor": 5
}
