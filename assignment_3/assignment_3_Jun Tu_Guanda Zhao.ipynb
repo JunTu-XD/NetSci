{
 "cells": [
  {
   "cell_type": "code",
   "execution_count": 149,
   "id": "7bc31f9e",
   "metadata": {},
   "outputs": [],
   "source": [
    "# Jun Tu \n",
    "# Guanda Zhao 21-716-345"
   ]
  },
  {
   "cell_type": "code",
   "execution_count": 150,
   "id": "deab2024",
   "metadata": {},
   "outputs": [],
   "source": [
    "import math as m\n",
    "import numpy as np\n",
    "import matplotlib.pyplot as plt\n",
    "import networkx as nx\n",
    "import scipy.stats as sts"
   ]
  },
  {
   "cell_type": "code",
   "execution_count": 151,
   "id": "f67e39af",
   "metadata": {},
   "outputs": [
    {
     "ename": "NetworkXError",
     "evalue": "cannot tokenize <?xml version='1.0' encoding='utf-8'?>\r at (1, 1)",
     "output_type": "error",
     "traceback": [
      "\u001b[1;31m---------------------------------------------------------------------------\u001b[0m",
      "\u001b[1;31mNetworkXError\u001b[0m                             Traceback (most recent call last)",
      "\u001b[1;32m<ipython-input-151-49fe1d704d22>\u001b[0m in \u001b[0;36m<module>\u001b[1;34m\u001b[0m\n\u001b[0;32m      8\u001b[0m \u001b[0mG_jazz\u001b[0m \u001b[1;33m=\u001b[0m \u001b[0mnx\u001b[0m\u001b[1;33m.\u001b[0m\u001b[0mread_gml\u001b[0m\u001b[1;33m(\u001b[0m\u001b[0mdata_base_path\u001b[0m \u001b[1;33m+\u001b[0m \u001b[1;34m\"graph_jazz_collab.gml\"\u001b[0m\u001b[1;33m)\u001b[0m\u001b[1;33m\u001b[0m\u001b[1;33m\u001b[0m\u001b[0m\n\u001b[0;32m      9\u001b[0m \u001b[0mG_jazz_rnd\u001b[0m \u001b[1;33m=\u001b[0m \u001b[0mnx\u001b[0m\u001b[1;33m.\u001b[0m\u001b[0mread_gml\u001b[0m\u001b[1;33m(\u001b[0m\u001b[0mdata_rnd_base_path\u001b[0m \u001b[1;33m+\u001b[0m \u001b[1;34m\"graph_jazz_collab_random.gml\"\u001b[0m\u001b[1;33m)\u001b[0m\u001b[1;33m\u001b[0m\u001b[1;33m\u001b[0m\u001b[0m\n\u001b[1;32m---> 10\u001b[1;33m \u001b[0mG_florida\u001b[0m \u001b[1;33m=\u001b[0m \u001b[0mnx\u001b[0m\u001b[1;33m.\u001b[0m\u001b[0mread_gml\u001b[0m\u001b[1;33m(\u001b[0m\u001b[0mdata_base_path\u001b[0m \u001b[1;33m+\u001b[0m \u001b[1;34m\"Florida_foodweb.graphml\"\u001b[0m\u001b[1;33m)\u001b[0m\u001b[1;33m\u001b[0m\u001b[1;33m\u001b[0m\u001b[0m\n\u001b[0m\u001b[0;32m     11\u001b[0m \u001b[1;33m\u001b[0m\u001b[0m\n\u001b[0;32m     12\u001b[0m \u001b[1;31m## thread unsafe\u001b[0m\u001b[1;33m\u001b[0m\u001b[1;33m\u001b[0m\u001b[1;33m\u001b[0m\u001b[0m\n",
      "\u001b[1;32m~\\anaconda3\\lib\\site-packages\\networkx\\utils\\decorators.py\u001b[0m in \u001b[0;36margmap_read_gml_1\u001b[1;34m(path, label, destringizer)\u001b[0m\n\u001b[0;32m      3\u001b[0m \u001b[1;32mfrom\u001b[0m \u001b[0mcontextlib\u001b[0m \u001b[1;32mimport\u001b[0m \u001b[0mcontextmanager\u001b[0m\u001b[1;33m\u001b[0m\u001b[1;33m\u001b[0m\u001b[0m\n\u001b[0;32m      4\u001b[0m \u001b[1;32mfrom\u001b[0m \u001b[0mpathlib\u001b[0m \u001b[1;32mimport\u001b[0m \u001b[0mPath\u001b[0m\u001b[1;33m\u001b[0m\u001b[1;33m\u001b[0m\u001b[0m\n\u001b[1;32m----> 5\u001b[1;33m \u001b[1;32mimport\u001b[0m \u001b[0mwarnings\u001b[0m\u001b[1;33m\u001b[0m\u001b[1;33m\u001b[0m\u001b[0m\n\u001b[0m\u001b[0;32m      6\u001b[0m \u001b[1;33m\u001b[0m\u001b[0m\n\u001b[0;32m      7\u001b[0m \u001b[1;32mimport\u001b[0m \u001b[0mnetworkx\u001b[0m \u001b[1;32mas\u001b[0m \u001b[0mnx\u001b[0m\u001b[1;33m\u001b[0m\u001b[1;33m\u001b[0m\u001b[0m\n",
      "\u001b[1;32m~\\anaconda3\\lib\\site-packages\\networkx\\readwrite\\gml.py\u001b[0m in \u001b[0;36mread_gml\u001b[1;34m(path, label, destringizer)\u001b[0m\n\u001b[0;32m    192\u001b[0m             \u001b[1;32myield\u001b[0m \u001b[0mline\u001b[0m\u001b[1;33m\u001b[0m\u001b[1;33m\u001b[0m\u001b[0m\n\u001b[0;32m    193\u001b[0m \u001b[1;33m\u001b[0m\u001b[0m\n\u001b[1;32m--> 194\u001b[1;33m     \u001b[0mG\u001b[0m \u001b[1;33m=\u001b[0m \u001b[0mparse_gml_lines\u001b[0m\u001b[1;33m(\u001b[0m\u001b[0mfilter_lines\u001b[0m\u001b[1;33m(\u001b[0m\u001b[0mpath\u001b[0m\u001b[1;33m)\u001b[0m\u001b[1;33m,\u001b[0m \u001b[0mlabel\u001b[0m\u001b[1;33m,\u001b[0m \u001b[0mdestringizer\u001b[0m\u001b[1;33m)\u001b[0m\u001b[1;33m\u001b[0m\u001b[1;33m\u001b[0m\u001b[0m\n\u001b[0m\u001b[0;32m    195\u001b[0m     \u001b[1;32mreturn\u001b[0m \u001b[0mG\u001b[0m\u001b[1;33m\u001b[0m\u001b[1;33m\u001b[0m\u001b[0m\n\u001b[0;32m    196\u001b[0m \u001b[1;33m\u001b[0m\u001b[0m\n",
      "\u001b[1;32m~\\anaconda3\\lib\\site-packages\\networkx\\readwrite\\gml.py\u001b[0m in \u001b[0;36mparse_gml_lines\u001b[1;34m(lines, label, destringizer)\u001b[0m\n\u001b[0;32m    430\u001b[0m \u001b[1;33m\u001b[0m\u001b[0m\n\u001b[0;32m    431\u001b[0m     \u001b[0mtokens\u001b[0m \u001b[1;33m=\u001b[0m \u001b[0mtokenize\u001b[0m\u001b[1;33m(\u001b[0m\u001b[1;33m)\u001b[0m\u001b[1;33m\u001b[0m\u001b[1;33m\u001b[0m\u001b[0m\n\u001b[1;32m--> 432\u001b[1;33m     \u001b[0mgraph\u001b[0m \u001b[1;33m=\u001b[0m \u001b[0mparse_graph\u001b[0m\u001b[1;33m(\u001b[0m\u001b[1;33m)\u001b[0m\u001b[1;33m\u001b[0m\u001b[1;33m\u001b[0m\u001b[0m\n\u001b[0m\u001b[0;32m    433\u001b[0m \u001b[1;33m\u001b[0m\u001b[0m\n\u001b[0;32m    434\u001b[0m     \u001b[0mdirected\u001b[0m \u001b[1;33m=\u001b[0m \u001b[0mgraph\u001b[0m\u001b[1;33m.\u001b[0m\u001b[0mpop\u001b[0m\u001b[1;33m(\u001b[0m\u001b[1;34m\"directed\"\u001b[0m\u001b[1;33m,\u001b[0m \u001b[1;32mFalse\u001b[0m\u001b[1;33m)\u001b[0m\u001b[1;33m\u001b[0m\u001b[1;33m\u001b[0m\u001b[0m\n",
      "\u001b[1;32m~\\anaconda3\\lib\\site-packages\\networkx\\readwrite\\gml.py\u001b[0m in \u001b[0;36mparse_graph\u001b[1;34m()\u001b[0m\n\u001b[0;32m    419\u001b[0m \u001b[1;33m\u001b[0m\u001b[0m\n\u001b[0;32m    420\u001b[0m     \u001b[1;32mdef\u001b[0m \u001b[0mparse_graph\u001b[0m\u001b[1;33m(\u001b[0m\u001b[1;33m)\u001b[0m\u001b[1;33m:\u001b[0m\u001b[1;33m\u001b[0m\u001b[1;33m\u001b[0m\u001b[0m\n\u001b[1;32m--> 421\u001b[1;33m         \u001b[0mcurr_token\u001b[0m\u001b[1;33m,\u001b[0m \u001b[0mdct\u001b[0m \u001b[1;33m=\u001b[0m \u001b[0mparse_kv\u001b[0m\u001b[1;33m(\u001b[0m\u001b[0mnext\u001b[0m\u001b[1;33m(\u001b[0m\u001b[0mtokens\u001b[0m\u001b[1;33m)\u001b[0m\u001b[1;33m)\u001b[0m\u001b[1;33m\u001b[0m\u001b[1;33m\u001b[0m\u001b[0m\n\u001b[0m\u001b[0;32m    422\u001b[0m         \u001b[1;32mif\u001b[0m \u001b[0mcurr_token\u001b[0m\u001b[1;33m.\u001b[0m\u001b[0mcategory\u001b[0m \u001b[1;32mis\u001b[0m \u001b[1;32mnot\u001b[0m \u001b[1;32mNone\u001b[0m\u001b[1;33m:\u001b[0m  \u001b[1;31m# EOF\u001b[0m\u001b[1;33m\u001b[0m\u001b[1;33m\u001b[0m\u001b[0m\n\u001b[0;32m    423\u001b[0m             \u001b[0munexpected\u001b[0m\u001b[1;33m(\u001b[0m\u001b[0mcurr_token\u001b[0m\u001b[1;33m,\u001b[0m \u001b[1;34m\"EOF\"\u001b[0m\u001b[1;33m)\u001b[0m\u001b[1;33m\u001b[0m\u001b[1;33m\u001b[0m\u001b[0m\n",
      "\u001b[1;32m~\\anaconda3\\lib\\site-packages\\networkx\\readwrite\\gml.py\u001b[0m in \u001b[0;36mtokenize\u001b[1;34m()\u001b[0m\n\u001b[0;32m    318\u001b[0m                 \u001b[1;32mif\u001b[0m \u001b[0mmatch\u001b[0m \u001b[1;32mis\u001b[0m \u001b[1;32mNone\u001b[0m\u001b[1;33m:\u001b[0m\u001b[1;33m\u001b[0m\u001b[1;33m\u001b[0m\u001b[0m\n\u001b[0;32m    319\u001b[0m                     \u001b[0mm\u001b[0m \u001b[1;33m=\u001b[0m \u001b[1;34mf\"cannot tokenize {line[pos:]} at ({lineno + 1}, {pos + 1})\"\u001b[0m\u001b[1;33m\u001b[0m\u001b[1;33m\u001b[0m\u001b[0m\n\u001b[1;32m--> 320\u001b[1;33m                     \u001b[1;32mraise\u001b[0m \u001b[0mNetworkXError\u001b[0m\u001b[1;33m(\u001b[0m\u001b[0mm\u001b[0m\u001b[1;33m)\u001b[0m\u001b[1;33m\u001b[0m\u001b[1;33m\u001b[0m\u001b[0m\n\u001b[0m\u001b[0;32m    321\u001b[0m                 \u001b[1;32mfor\u001b[0m \u001b[0mi\u001b[0m \u001b[1;32min\u001b[0m \u001b[0mrange\u001b[0m\u001b[1;33m(\u001b[0m\u001b[0mlen\u001b[0m\u001b[1;33m(\u001b[0m\u001b[0mpatterns\u001b[0m\u001b[1;33m)\u001b[0m\u001b[1;33m)\u001b[0m\u001b[1;33m:\u001b[0m\u001b[1;33m\u001b[0m\u001b[1;33m\u001b[0m\u001b[0m\n\u001b[0;32m    322\u001b[0m                     \u001b[0mgroup\u001b[0m \u001b[1;33m=\u001b[0m \u001b[0mmatch\u001b[0m\u001b[1;33m.\u001b[0m\u001b[0mgroup\u001b[0m\u001b[1;33m(\u001b[0m\u001b[0mi\u001b[0m \u001b[1;33m+\u001b[0m \u001b[1;36m1\u001b[0m\u001b[1;33m)\u001b[0m\u001b[1;33m\u001b[0m\u001b[1;33m\u001b[0m\u001b[0m\n",
      "\u001b[1;31mNetworkXError\u001b[0m: cannot tokenize <?xml version='1.0' encoding='utf-8'?>\r at (1, 1)"
     ]
    }
   ],
   "source": [
    "data_base_path = \"Data/\"\n",
    "data_rnd_base_path = \"Data Random/\"\n",
    "\n",
    "G_terrorists = nx.read_gml(data_base_path + \"graph_terrorists.gml\")\n",
    "G_terrorists_rnd = nx.read_gml(data_rnd_base_path + \"graph_terrorists_random.gml\")\n",
    "G_polblog = nx.read_gml(data_base_path + \"graph_polblog.gml\")\n",
    "G_polblog_rnd = nx.read_gml(data_rnd_base_path + \"graph_polblog_random.gml\")\n",
    "G_jazz = nx.read_gml(data_base_path + \"graph_jazz_collab.gml\")\n",
    "G_jazz_rnd = nx.read_gml(data_rnd_base_path + \"graph_jazz_collab_random.gml\")\n",
    "G_florida = nx.read_gml(data_base_path + \"Florida_foodweb.graphml\")\n",
    "\n",
    "## thread unsafe\n",
    "figure_uni_index=0\n",
    "def new_figure():\n",
    "    global figure_uni_index\n",
    "    figure_uni_index = figure_uni_index + 1\n",
    "    fig = plt.figure(figure_uni_index)\n",
    "    return fig"
   ]
  },
  {
   "cell_type": "code",
   "execution_count": null,
   "id": "42d99b94",
   "metadata": {},
   "outputs": [],
   "source": [
    "def centrality(G):\n",
    "    d_c = nx.degree_centrality(G)\n",
    "    c_c = nx.closeness_centrality(G)\n",
    "    b_c = nx.betweenness_centrality(G)\n",
    "    e_c = nx.eigenvector_centrality(G)\n",
    "    \n",
    "    node = G.nodes()\n",
    "    \n",
    "    degree_c = [d_c[n] for n in node]\n",
    "    closeness_c = [c_c[n] for n in node]\n",
    "    betweenness_c = [b_c[n] for n in node]\n",
    "    eigenvector_c = [e_c[n] for n in node]\n",
    "    \n",
    "    return degree_c, closeness_c, betweenness_c, eigenvector_c"
   ]
  },
  {
   "cell_type": "code",
   "execution_count": null,
   "id": "225554de",
   "metadata": {},
   "outputs": [],
   "source": [
    "def scatter_centrality(G):\n",
    "    degree_c,closeness_c,betweenness_c,eigenvector_c = centrality(G)\n",
    "    c_array = np.array([degree_c, closeness_c, betweenness_c, eigenvector_c])\n",
    "    label = [\"degree centrality\", \"closeness centrality\", \"betweenness centrality\", \"eigenvector centrality\"]\n",
    "#   plot with conbination of C(6, 2)\n",
    "    x=0\n",
    "    y=x+1\n",
    "    while(x<len(c_array)):\n",
    "        while(y<len(c_array)):\n",
    "            new_figure()\n",
    "            plt.xlabel(label[x])\n",
    "            plt.ylabel(label[y])\n",
    "            plt.scatter(c_array[x],c_array[y])\n",
    "            y=y+1\n",
    "        x=x+1\n",
    "        y=x+1"
   ]
  },
  {
   "cell_type": "code",
   "execution_count": 152,
   "id": "44744052",
   "metadata": {},
   "outputs": [],
   "source": [
    "def graph_correlation(G):\n",
    "    degree_c,closeness_c,betweenness_c,eigenvector_c = centrality(G)\n",
    "    c_array = np.array([degree_c, closeness_c, betweenness_c, eigenvector_c])\n",
    "\n",
    "    label = [\"degree centrality\", \"closeness centrality\", \"betweenness centrality\", \"eigenvector centrality\"]\n",
    "    x=0\n",
    "    y=x+1\n",
    "    while(x<len(c_array)):\n",
    "        while(y<len(c_array)):\n",
    "            fig = new_figure()\n",
    "            ax = fig.add_subplot()\n",
    "            ax.set_xlabel(label[x])\n",
    "            ax.set_ylabel(label[y])\n",
    "            ax.scatter(c_array[x],c_array[y])\n",
    "            spearman = sts.spearmanr(c_array[x], c_array[y])\n",
    "            pearson = sts.pearsonr(c_array[x], c_array[y])\n",
    "            kendall = sts.kendalltau(c_array[x], c_array[y])\n",
    "            props = dict(boxstyle='round', facecolor='wheat', alpha=0.5)\n",
    "            textstr = '\\n'.join((\n",
    "                r'$\\mathrm{Spearman}=%.5f$' % (spearman[0]),\n",
    "                r'$\\mathrm{Pearson}=%.5f$' % (pearson[0]),\n",
    "                r'$\\mathrm{Kendall}=%.5f$' % (kendall[0])))\n",
    "            ax.text(0.05, 0.95, textstr, transform=ax.transAxes, fontsize=14, verticalalignment='top', bbox=props)\n",
    "            y=y+1\n",
    "        x=x+1\n",
    "        y=x+1"
   ]
  },
  {
   "cell_type": "code",
   "execution_count": null,
   "id": "d9e8dcf0",
   "metadata": {},
   "outputs": [],
   "source": [
    "graph_correlation(G_terrorists)"
   ]
  },
  {
   "cell_type": "code",
   "execution_count": null,
   "id": "e0a0fbb9",
   "metadata": {},
   "outputs": [],
   "source": [
    "graph_correlation(G_polblog)"
   ]
  },
  {
   "cell_type": "code",
   "execution_count": null,
   "id": "008d78ca",
   "metadata": {},
   "outputs": [],
   "source": [
    "graph_correlation)"
   ]
  },
  {
   "cell_type": "code",
   "execution_count": 153,
   "id": "3e4820e1",
   "metadata": {},
   "outputs": [],
   "source": [
    "def compare_original_random_centrality(G, G_rnd, g_label=\"origin\", r_rnd_label=\"random\"):\n",
    "    degree_c,closeness_c,betweenness_c,eigenvector_c = centrality(G)\n",
    "    rnd_degree_c,rnd_closeness_c,rnd_betweenness_c,rnd_eigenvector_c = centrality(G_rnd)\n",
    "    c_array = np.array([degree_c, closeness_c, betweenness_c, eigenvector_c])\n",
    "    rnd_c_array  = np.array([rnd_degree_c,rnd_closeness_c,rnd_betweenness_c,rnd_eigenvector_c])\n",
    "    \n",
    "    title = [\"degree centrality\", \"closeness centrality\", \"betweenness centrality\", \"eigenvector centrality\"]\n",
    "    for i in range(0, len(c_array)):\n",
    "        new_figure()\n",
    "        plt.title(title[i])\n",
    "        plt.xlabel(g_label)\n",
    "        plt.ylabel(r_rnd_label)\n",
    "        plt.scatter(c_array[i], rnd_c_array[i])"
   ]
  },
  {
   "cell_type": "code",
   "execution_count": 148,
   "id": "fac309d0",
   "metadata": {
    "scrolled": false
   },
   "outputs": [
    {
     "data": {
      "image/png": "[encoded data removed]",
      "text/plain": [
       "<Figure size 432x288 with 1 Axes>"
      ]
     },
     "metadata": {
      "needs_background": "light"
     },
     "output_type": "display_data"
    },
    {
     "data": {
      "image/png": "[encoded data removed]",
      "text/plain": [
       "<Figure size 432x288 with 1 Axes>"
      ]
     },
     "metadata": {
      "needs_background": "light"
     },
     "output_type": "display_data"
    },
    {
     "data": {
      "image/png": "[encoded data removed]",
      "text/plain": [
       "<Figure size 432x288 with 1 Axes>"
      ]
     },
     "metadata": {
      "needs_background": "light"
     },
     "output_type": "display_data"
    },
    {
     "data": {
      "image/png": "[encoded data removed]",
      "text/plain": [
       "<Figure size 432x288 with 1 Axes>"
      ]
     },
     "metadata": {
      "needs_background": "light"
     },
     "output_type": "display_data"
    }
   ],
   "source": [
    "compare_original_random_centrality(G_terrorists, G_terrorists_rnd)"
   ]
  },
  {
   "cell_type": "code",
   "execution_count": null,
   "id": "d38ce437",
   "metadata": {},
   "outputs": [],
   "source": [
    "compare_original_random_centrality(G_polblog, G_polblog_rnd)"
   ]
  },
  {
   "cell_type": "code",
   "execution_count": null,
   "id": "ec720ab2",
   "metadata": {},
   "outputs": [],
   "source": [
    "compare_original_random_centrality(G_jazz, G_jazz_rnd)"
   ]
  },
  {
   "cell_type": "code",
   "execution_count": 139,
   "id": "92cfc4c3",
   "metadata": {},
   "outputs": [],
   "source": [
    "def page_rank(G):\n",
    "    pr = []\n",
    "    pr85 = []\n",
    "    pr_dict = []\n",
    "    spearman = []\n",
    "    value = [0.1, 0.2, 0.3, 0.4, 0.5, 0.6, 0.7, 0.8, 0.85, 0.9, 0.95, 0.99]\n",
    "    pr85_dict = nx.pagerank(G, alpha = 0.85)\n",
    "    for i in range(0, len(value)):\n",
    "        pr_dict.append(nx.pagerank(G, alpha = value[i]))\n",
    "    \n",
    "    pr85 = [pr85_dict[i] for i in pr85_dict]\n",
    "    for i in range(0, len(value)):\n",
    "        pr = [pr_dict[i][j] for j in pr_dict[i]]\n",
    "        spearman.append(sts.spearmanr(pr, pr85)[0])\n",
    "        \n",
    "    plt.xlabel('alpha')\n",
    "    plt.ylabel('Spearman Correlation Coefficient')\n",
    "    plt.scatter(value, spearman)  "
   ]
  },
  {
   "cell_type": "code",
   "execution_count": 140,
   "id": "65c0493d",
   "metadata": {},
   "outputs": [
    {
     "data": {
      "image/png": "[encoded data removed]",
      "text/plain": [
       "<Figure size 432x288 with 1 Axes>"
      ]
     },
     "metadata": {
      "needs_background": "light"
     },
     "output_type": "display_data"
    }
   ],
   "source": []
  },
  {
   "cell_type": "code",
   "execution_count": null,
   "id": "5c347ae8",
   "metadata": {},
   "outputs": [],
   "source": []
  }
 ],
 "metadata": {
  "kernelspec": {
   "display_name": "Python 3",
   "language": "python",
   "name": "python3"
  },
  "language_info": {
   "codemirror_mode": {
    "name": "ipython",
    "version": 3
   },
   "file_extension": ".py",
   "mimetype": "text/x-python",
   "name": "python",
   "nbconvert_exporter": "python",
   "pygments_lexer": "ipython3",
   "version": "3.8.8"
  }
 },
 "nbformat": 4,
 "nbformat_minor": 5
}
