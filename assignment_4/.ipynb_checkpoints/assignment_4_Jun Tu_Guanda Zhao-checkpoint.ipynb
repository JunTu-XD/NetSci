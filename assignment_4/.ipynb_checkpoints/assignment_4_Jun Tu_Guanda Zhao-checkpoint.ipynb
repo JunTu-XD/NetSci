{
 "cells": [
  {
   "cell_type": "code",
   "execution_count": null,
   "id": "7bc31f9e",
   "metadata": {},
   "outputs": [],
   "source": [
    "# Jun Tu 21-732-722\n",
    "# Guanda Zhao 21-716-345"
   ]
  },
  {
   "cell_type": "code",
   "execution_count": 1,
   "id": "deab2024",
   "metadata": {},
   "outputs": [],
   "source": [
    "import math as m\n",
    "import numpy as np\n",
    "import matplotlib.pyplot as plt\n",
    "import networkx as nx\n",
    "import networkx.algorithms.community as com\n",
    "import random\n",
    "\n",
    "colour = [\"black\",\"silver\",\"gray\",\"white\",\"maroon\",\"red\",\"purple\",\"fuchsia\",\"green\",\"lime\",\"olive\",\"yellow\",\"navy\",\"blue\",\"teal\",\"aqua\",\"aliceblue\",\"antiquewhite\",\"aqua\",\"aquamarine\",\"azure\",\"beige\",\"bisque\",\"black\",\"blanchedalmond\",\"blue\",\"blueviolet\",\"brown\",\"burlywood\",\"cadetblue\",\"chartreuse\",\"chocolate\",\"coral\",\"cornflowerblue\",\"cornsilk\",\"crimson\",\"cyan\",\"darkblue\",\"darkcyan\",\"darkgoldenrod\",\"darkgray\",\"darkgreen\",\"darkgrey\",\"darkkhaki\",\"darkmagenta\",\"darkolivegreen\",\"darkorange\",\"darkorchid\",\"darkred\",\"darksalmon\",\"darkseagreen\",\"darkslateblue\",\"darkslategray\",\"darkslategrey\",\"darkturquoise\",\"darkviolet\",\"deeppink\",\"deepskyblue\",\"dimgray\",\"dimgrey\",\"dodgerblue\",\"firebrick\",\"floralwhite\",\"forestgreen\",\"fuchsia\",\"gainsboro\",\"ghostwhite\",\"gold\",\"goldenrod\",\"gray\",\"green\",\"greenyellow\",\"grey\",\"honeydew\",\"hotpink\",\"indianred\",\"indigo\",\"ivory\",\"khaki\",\"lavender\",\"lavenderblush\",\"lawngreen\",\"lemonchiffon\",\"lightblue\",\"lightcoral\",\"lightcyan\",\"lightgoldenrodyellow\",\"lightgray\",\"lightgreen\",\"lightgrey\",\"lightpink\",\"lightsalmon\",\"lightseagreen\",\"lightskyblue\",\"lightslategray\",\"lightslategrey\",\"lightsteelblue\",\"lightyellow\",\"lime\",\"limegreen\",\"linen\",\"magenta\",\"maroon\",\"mediumaquamarine\",\"mediumblue\",\"mediumorchid\",\"mediumpurple\",\"mediumseagreen\",\"mediumslateblue\",\"mediumspringgreen\",\"mediumturquoise\",\"mediumvioletred\",\"midnightblue\",\"mintcream\",\"mistyrose\",\"moccasin\",\"navajowhite\",\"navy\",\"oldlace\",\"olive\",\"olivedrab\",\"orange\",\"orangered\",\"orchid\",\"palegoldenrod\",\"palegreen\",\"paleturquoise\",\"palevioletred\",\"papayawhip\",\"peachpuff\",\"peru\",\"pink\",\"plum\",\"powderblue\",\"purple\",\"red\",\"rosybrown\",\"royalblue\",\"saddlebrown\",\"salmon\",\"sandybrown\",\"seagreen\",\"seashell\",\"sienna\",\"silver\",\"skyblue\",\"slateblue\",\"slategray\",\"slategrey\",\"snow\",\"springgreen\",\"steelblue\",\"tan\",\"teal\",\"thistle\",\"tomato\",\"turquoise\",\"violet\",\"wheat\",\"white\",\"whitesmoke\",\"yellow\",\"yellowgreen\"]\n",
    "random.shuffle(colour)"
   ]
  },
  {
   "cell_type": "code",
   "execution_count": null,
   "id": "7da1e342",
   "metadata": {},
   "outputs": [],
   "source": [
    "### Load Graphs\n",
    "data_base_path = \"Data/\"\n",
    "data_rnd_base_path = \"Data Random/\"\n",
    "\n",
    "G_karate = nx.read_gml(data_base_path + \"graph_karate.gml\")\n",
    "G_karate_rnd = nx.algorithms.smallworld.random_reference(G_karate)\n",
    "G_dolphins = nx.read_gml(data_base_path + \"graph_dolphins.gml\")\n",
    "G_dolphins_rnd = nx.read_gml(data_rnd_base_path + \"graph_dolphins_random.gml\")\n",
    "G_facebook = nx.read_gml(data_base_path + \"graph_facebook.gml\")\n",
    "G_facebook_rnd = nx.read_gml(data_rnd_base_path + \"graph_facebook_random.gml\")"
   ]
  },
  {
   "cell_type": "code",
   "execution_count": null,
   "id": "820cd5cd",
   "metadata": {},
   "outputs": [],
   "source": [
    "def find_community_gm(G):\n",
    "    colour_map = []\n",
    "    gm = com.greedy_modularity_communities(G)\n",
    "    for node in G.nodes():\n",
    "        for i in range(0, len(gm)):\n",
    "            if node in gm[i]:\n",
    "                colour_map.append(colour[i])\n",
    "    \n",
    "    nx.draw(G, node_color = colour_map, node_size=70)\n",
    "    return len(gm)"
   ]
  },
  {
   "cell_type": "code",
   "execution_count": null,
   "id": "d2c881d7",
   "metadata": {},
   "outputs": [],
   "source": [
    "# find_community_gm(G_dolphins)"
   ]
  },
  {
   "cell_type": "code",
   "execution_count": null,
   "id": "d3131d7a",
   "metadata": {},
   "outputs": [],
   "source": [
    "def find_community_lp(G):     \n",
    "    colour_map = []\n",
    "    lp = com.label_propagation_communities(G)\n",
    "    for node in G.nodes():\n",
    "        for i in range(0, len(lp)):\n",
    "            if node in list(lp)[i]:\n",
    "                colour_map.append(colour[i])\n",
    "    \n",
    "    nx.draw(G, node_color = colour_map, node_size=70)\n",
    "    return len(lp)"
   ]
  },
  {
   "cell_type": "code",
   "execution_count": null,
   "id": "bb0c9446",
   "metadata": {},
   "outputs": [],
   "source": [
    "# find_community_lp(G_dolphins)"
   ]
  },
  {
   "cell_type": "code",
   "execution_count": null,
   "id": "de64d83f",
   "metadata": {},
   "outputs": [],
   "source": [
    "def compare_communities(G, G_rnd):\n",
    "    plt.figure(1)\n",
    "    G_gm = find_community_gm(G)\n",
    "    plt.figure(2)\n",
    "    G_rnd_gm = find_community_gm(G_rnd)\n",
    "    \n",
    "    plt.figure(3)\n",
    "    G_lp = find_community_lp(G)\n",
    "    plt.figure(4)\n",
    "    G_rnd_lp = find_community_lp(G_rnd)\n",
    "\n",
    "    \n",
    "    print(\"Number of communities by using greedy modularity maximization before randomisation:\", G_gm)\n",
    "    print(\"Number of communities by using greedy modularity maximization after randomisation:\", G_rnd_gm)\n",
    "    print(\"Number of communities by using label propagation algorithm before randomisation:\", G_lp)\n",
    "    print(\"Number of communities by using label propagation algorithm after randomisation:\", G_rnd_lp)"
   ]
  },
  {
   "cell_type": "code",
   "execution_count": null,
   "id": "4b308c61",
   "metadata": {
    "pycharm": {
     "name": "#%%\n"
    }
   },
   "outputs": [],
   "source": [
    "# A04-01\n",
    "compare_communities(G_karate, G_karate_rnd)"
   ]
  },
  {
   "cell_type": "code",
   "execution_count": null,
   "id": "9b55f50d",
   "metadata": {},
   "outputs": [],
   "source": [
    "compare_communities(G_dolphins, G_dolphins_rnd)"
   ]
  },
  {
   "cell_type": "code",
   "execution_count": null,
   "id": "4c603122",
   "metadata": {},
   "outputs": [],
   "source": [
    "compare_communities(G_facebook, G_facebook_rnd)\n"
   ]
  },
  {
   "cell_type": "code",
   "execution_count": null,
   "id": "70b5c626",
   "metadata": {},
   "outputs": [],
   "source": [
    "figure_index = 10\n",
    "def new_fig():\n",
    "    global figure_index\n",
    "    plt.figure(figure_index)\n",
    "    figure_index+=1"
   ]
  },
  {
   "cell_type": "code",
   "execution_count": null,
   "id": "c7fe32f0",
   "metadata": {
    "pycharm": {
     "name": "#%%\n"
    }
   },
   "outputs": [],
   "source": [
    "## A 4.02\n",
    "## Task 1\n",
    "def visualize_ER_graph(avg_k, n_nodes):\n",
    "    p = np.true_divide(avg_k, n_nodes)\n",
    "    G_erg=nx.generators.random_graphs.erdos_renyi_graph(n_nodes, p)\n",
    "    nx.draw(G_erg, pos=nx.spring_layout(G_erg, scale=2),node_size=10)\n",
    "for avg_k in [0.2, 1 ,2]:\n",
    "    new_fig()\n",
    "    visualize_ER_graph(avg_k, 500)"
   ]
  },
  {
   "cell_type": "code",
   "execution_count": null,
   "id": "44fde10b",
   "metadata": {
    "pycharm": {
     "name": "#%%\n"
    }
   },
   "outputs": [],
   "source": [
    "### A4.02 Task 2\n",
    "def calculate_ER(N, p):\n",
    "    temp_NG_N = []\n",
    "    temp_avg_clustering = []\n",
    "    for count in range(0,100):\n",
    "        G_ER = nx.generators.random_graphs.erdos_renyi_graph(N, p)\n",
    "        largest_nodes = max(nx.connected_components(G_ER), key=len)\n",
    "        largest_length = len(largest_nodes)\n",
    "        G_ER_c = nx.clustering(G_ER)\n",
    "        clustering = [G_ER_c[n] for n in G_ER]\n",
    "        temp_avg_clustering.append(np.mean(clustering))\n",
    "        temp_NG_N.append( np.true_divide(largest_length, N))\n",
    "    # N_g / N , avg_clustering\n",
    "    return np.mean(temp_NG_N),np.mean(temp_avg_clustering)\n",
    "def plot_p_NG_N(N):\n",
    "    x_p = []\n",
    "    y_NG_N = []\n",
    "    y_avg_clustering = []\n",
    "    for i in np.arange(0, 30, 1):\n",
    "        p = i/N\n",
    "        x_p.append(p)\n",
    "        temp_ng_n, temp_avg_clustering= calculate_ER(N,p)\n",
    "        y_NG_N.append(temp_ng_n)\n",
    "        y_avg_clustering.append(temp_avg_clustering)\n",
    "    for i in np.arange(30, N+1, 3.5):\n",
    "        p = i/N\n",
    "        x_p.append(p)\n",
    "        temp_ng_n, temp_avg_clustering= calculate_ER(N,p)\n",
    "        y_NG_N.append(temp_ng_n)\n",
    "        y_avg_clustering.append(temp_avg_clustering)\n",
    "\n",
    "    x_p=[0.0, 0.025, 0.05, 0.075, 0.1, 0.125, 0.15, 0.175, 0.2, 0.225, 0.25, 0.275, 0.3, 0.325, 0.35, 0.375, 0.4, 0.425, 0.45, 0.475, 0.5, 0.525, 0.55, 0.575, 0.6, 0.625, 0.65, 0.675, 0.7, 0.725, 0.75, 0.775, 0.8, 0.825, 0.85, 0.875, 0.9, 0.925, 0.95, 0.975]\n",
    "    y_NG_N=[0.009999999999999998, 0.8913, 0.9936, 0.9997, 1.0, 1.0, 1.0, 1.0, 1.0, 1.0, 1.0, 1.0, 1.0, 1.0, 1.0, 1.0, 1.0, 1.0, 1.0, 1.0, 1.0, 1.0, 1.0, 1.0, 1.0, 1.0, 1.0, 1.0, 1.0, 1.0, 1.0, 1.0, 1.0, 1.0, 1.0, 1.0, 1.0, 1.0, 1.0, 1.0]\n",
    "    new_fig()\n",
    "    plt.title(\"p - Ng/N\")\n",
    "    plt.xscale(\"log\")\n",
    "    plt.axvline(x=1/N, color='r')\n",
    "    plt.plot(x_p, y_NG_N)\n",
    "    plt.show()\n",
    "\n",
    "    # new_fig()\n",
    "    # plt.xscale(\"log\")\n",
    "    # plt.title(\"p - avg clustering\")\n",
    "    # plt.plot(x_p, y_avg_clustering)\n",
    "    # plt.show()\n",
    "plot_p_NG_N(100)"
   ]
  },
  {
   "cell_type": "code",
   "execution_count": null,
   "id": "a721babe",
   "metadata": {
    "pycharm": {
     "name": "#%%\n"
    }
   },
   "outputs": [],
   "source": [
    "## A4.02 Task 2 -2\n"
   ]
  },
  {
   "cell_type": "code",
   "execution_count": null,
   "id": "45d0350a",
   "metadata": {
    "pycharm": {
     "name": "#%%\n"
    }
   },
   "outputs": [],
   "source": [
    "#A04.03 - 1,-2\n",
    "def generate_ws():\n",
    "    y_avg_clustering = []\n",
    "    x_p = []\n",
    "    y_p = []\n",
    "    analytical_result = []\n",
    "    D_p = []\n",
    "    avg_shortest_path = []\n",
    "    \n",
    "    \n",
    "    for i in range(0, 101):\n",
    "        p = i/100\n",
    "        x_p.append(p)\n",
    "        \n",
    "        G_sm = nx.watts_strogatz_graph(100, 10, p)\n",
    "        clustering = [nx.clustering(G_sm)[n] for n in G_sm.nodes()]\n",
    "        y_avg_clustering.append(np.mean(clustering))\n",
    "        y_p.append(np.true_divide(y_avg_clustering[i], y_avg_clustering[0]))  \n",
    "        analytical_result.append((3/2)*((5-1)/(2*5-1)*(1-p)**3) / y_avg_clustering[0])\n",
    "        D_p.append(nx.average_shortest_path_length(G_sm))\n",
    "        avg_shortest_path.append(D_p[i] / D_p[0])\n",
    "        \n",
    "    plt.figure(1)\n",
    "    plt.title(\"average clustering <C(p)>/<C(0)>\")\n",
    "    plt.xscale(\"log\")\n",
    "    plt.plot(x_p, y_p, '-b', label = '<C(p)>/<C(0)>')\n",
    "    plt.plot(x_p, analytical_result, '-r', label = 'analytical_result')\n",
    "    \n",
    "    plt.figure(2)\n",
    "    plt.title(\"average shortest-path length D(p)/D(0)\")\n",
    "    plt.xscale(\"log\")\n",
    "    plt.plot(x_p, avg_shortest_path, '-g', label = 'avg_shortest_path')\n",
    "    "
   ]
  },
  {
   "cell_type": "code",
   "execution_count": null,
   "id": "f784c52c",
   "metadata": {
    "pycharm": {
     "name": "#%%\n"
    }
   },
   "outputs": [],
   "source": [
    "generate_ws()"
   ]
  },
  {
   "cell_type": "code",
   "execution_count": null,
   "id": "a21fe6b9",
   "metadata": {
    "pycharm": {
     "name": "#%%\n"
    }
   },
   "outputs": [],
   "source": [
    "\n",
    "\n"
   ]
  }
 ],
 "metadata": {
  "kernelspec": {
   "display_name": "Python 3 (ipykernel)",
   "language": "python",
   "name": "python3"
  },
  "language_info": {
   "codemirror_mode": {
    "name": "ipython",
    "version": 3
   },
   "file_extension": ".py",
   "mimetype": "text/x-python",
   "name": "python",
   "nbconvert_exporter": "python",
   "pygments_lexer": "ipython3",
   "version": "3.9.7"
  }
 },
 "nbformat": 4,
 "nbformat_minor": 5
}
